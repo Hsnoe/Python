{
 "cells": [
  {
   "cell_type": "code",
   "execution_count": 9,
   "id": "b95bb1ca-5579-48e4-a075-0e26205b12fd",
   "metadata": {},
   "outputs": [],
   "source": [
    "def fun1(a,b):#kendini tekrar eder \n",
    "    if a==0:\n",
    "        return b\n",
    "    else:\n",
    "        return fun1(a-1,a+b)\n"
   ]
  },
  {
   "cell_type": "code",
   "execution_count": 10,
   "id": "a0311c98-6b09-45db-96ef-710acdbdb338",
   "metadata": {},
   "outputs": [
    {
     "name": "stdout",
     "output_type": "stream",
     "text": [
      "32\n"
     ]
    }
   ],
   "source": [
    "print(fun1(7,4))"
   ]
  },
  {
   "cell_type": "code",
   "execution_count": 1,
   "id": "2498620a-2c16-4fde-9197-254d2dd673c8",
   "metadata": {},
   "outputs": [],
   "source": [
    "def fun1(m):\n",
    "    if m==1:\n",
    "        return 0\n",
    "    else:\n",
    "        return 1+fun1(int(m/2))\n"
   ]
  },
  {
   "cell_type": "code",
   "execution_count": 2,
   "id": "45b4cbbf-3f4a-4ffa-b654-4c7dcc983c53",
   "metadata": {},
   "outputs": [
    {
     "name": "stdout",
     "output_type": "stream",
     "text": [
      "2\n"
     ]
    }
   ],
   "source": [
    "print(fun1(7))"
   ]
  },
  {
   "cell_type": "code",
   "execution_count": 3,
   "id": "063c2d71-4088-4fc6-8c9b-f1ee153fd055",
   "metadata": {},
   "outputs": [],
   "source": [
    "def fun(n):\n",
    "    if n==0:\n",
    "        return\n",
    "    fun(int(n/2))\n",
    "    print(n%2)"
   ]
  },
  {
   "cell_type": "code",
   "execution_count": 5,
   "id": "72fc295d-b4a2-4433-95bf-8de5715d5285",
   "metadata": {},
   "outputs": [
    {
     "name": "stdout",
     "output_type": "stream",
     "text": [
      "1\n",
      "0\n",
      "1\n",
      "0\n"
     ]
    }
   ],
   "source": [
    "fun(10)"
   ]
  },
  {
   "cell_type": "code",
   "execution_count": 8,
   "id": "d57bd330-e40e-4d63-bb49-462ec47c8ef4",
   "metadata": {},
   "outputs": [],
   "source": [
    "def fun(n):\n",
    "    if (n>1):\n",
    "        fun(n-1)\n",
    "    for i in range(n):\n",
    "        print(\"*\",end=\" \")\n",
    "    print(\"\\n\")"
   ]
  },
  {
   "cell_type": "code",
   "execution_count": 9,
   "id": "560d5ae7-d0ee-47f8-b665-c32e1fbdb5f2",
   "metadata": {},
   "outputs": [
    {
     "name": "stdout",
     "output_type": "stream",
     "text": [
      "* \n",
      "\n",
      "* * \n",
      "\n",
      "* * * \n",
      "\n",
      "* * * * \n",
      "\n",
      "* * * * * \n",
      "\n"
     ]
    }
   ],
   "source": [
    "fun(5)"
   ]
  },
  {
   "cell_type": "code",
   "execution_count": 20,
   "id": "5d2e8f62-e046-40d7-bedf-e7bc4d8abee3",
   "metadata": {},
   "outputs": [],
   "source": [
    "def f(n):\n",
    "    if (n<=1):\n",
    "        return 1\n",
    "    if (n%2==0):\n",
    "        return f(int(n/2))\n",
    "    return f(int(n/2)) +f(int(n/2)+1)"
   ]
  },
  {
   "cell_type": "code",
   "execution_count": 22,
   "id": "d250eb9e-96f0-4410-a3d1-53128a2546cc",
   "metadata": {},
   "outputs": [
    {
     "data": {
      "text/plain": [
       "3"
      ]
     },
     "execution_count": 22,
     "metadata": {},
     "output_type": "execute_result"
    }
   ],
   "source": [
    "f(5)"
   ]
  },
  {
   "cell_type": "code",
   "execution_count": 1,
   "id": "d82ecfee-3adb-43c0-a8c0-cfa9707ae1a6",
   "metadata": {},
   "outputs": [
    {
     "data": {
      "text/plain": [
       "8"
      ]
     },
     "execution_count": 1,
     "metadata": {},
     "output_type": "execute_result"
    }
   ],
   "source": [
    "def ebob(x,y):\n",
    "    if y==0:\n",
    "        return x\n",
    "    else:\n",
    "        return ebob(y,x%y)\n",
    "ebob(32,24)"
   ]
  },
  {
   "cell_type": "code",
   "execution_count": 4,
   "id": "8fd8d9db-af07-4ef7-ae76-88ed6f8fda1e",
   "metadata": {},
   "outputs": [],
   "source": [
    "def fibo(n):\n",
    "    if n==0:return 0\n",
    "    if n==1:return 1\n",
    "    else:\n",
    "        return fibo(n-1)+fibo(n-2)"
   ]
  },
  {
   "cell_type": "code",
   "execution_count": 5,
   "id": "1c06fdf5-a48e-41d8-9734-fff5a3598d2e",
   "metadata": {},
   "outputs": [
    {
     "data": {
      "text/plain": [
       "2"
      ]
     },
     "execution_count": 5,
     "metadata": {},
     "output_type": "execute_result"
    }
   ],
   "source": [
    "fibo(3)"
   ]
  },
  {
   "cell_type": "code",
   "execution_count": 6,
   "id": "f9148e64-7eb6-47c3-84da-f11279004eb9",
   "metadata": {},
   "outputs": [],
   "source": [
    "def hanoi(n):\n",
    "    if n==1:\n",
    "        return 1\n",
    "    if n>1:\n",
    "        return 2*hanoi(n-1)+1"
   ]
  },
  {
   "cell_type": "code",
   "execution_count": 7,
   "id": "3e6d3c89-52f3-4e39-977e-09beeaf866d6",
   "metadata": {},
   "outputs": [
    {
     "data": {
      "text/plain": [
       "15"
      ]
     },
     "execution_count": 7,
     "metadata": {},
     "output_type": "execute_result"
    }
   ],
   "source": [
    "hanoi(4)"
   ]
  },
  {
   "cell_type": "code",
   "execution_count": 14,
   "id": "e6e3e269-f7cc-43d1-84b3-bff557ad429b",
   "metadata": {},
   "outputs": [
    {
     "name": "stdin",
     "output_type": "stream",
     "text": [
      "kısa kenar ne olsun  2\n",
      "kaç kağıt olsyn  4\n"
     ]
    }
   ],
   "source": [
    "x = int(input(\"kısa kenar ne olsun \"))\n",
    "n=int(input(\"kaç kağıt olsyn \"))\n",
    "def alan(n):\n",
    "    if n==1:\n",
    "        return \n",
    "    if n>0:\n",
    "        return x*alan(n-1)+1"
   ]
  },
  {
   "cell_type": "code",
   "execution_count": 15,
   "id": "abd2763a-a854-4f5f-a428-edbc85f45f65",
   "metadata": {},
   "outputs": [
    {
     "ename": "TypeError",
     "evalue": "unsupported operand type(s) for *: 'int' and 'NoneType'",
     "output_type": "error",
     "traceback": [
      "\u001b[1;31m---------------------------------------------------------------------------\u001b[0m",
      "\u001b[1;31mTypeError\u001b[0m                                 Traceback (most recent call last)",
      "Input \u001b[1;32mIn [15]\u001b[0m, in \u001b[0;36m<cell line: 1>\u001b[1;34m()\u001b[0m\n\u001b[1;32m----> 1\u001b[0m \u001b[43malan\u001b[49m\u001b[43m(\u001b[49m\u001b[43mn\u001b[49m\u001b[43m)\u001b[49m\n",
      "Input \u001b[1;32mIn [14]\u001b[0m, in \u001b[0;36malan\u001b[1;34m(n)\u001b[0m\n\u001b[0;32m      5\u001b[0m     \u001b[38;5;28;01mreturn\u001b[39;00m \n\u001b[0;32m      6\u001b[0m \u001b[38;5;28;01mif\u001b[39;00m n\u001b[38;5;241m>\u001b[39m\u001b[38;5;241m0\u001b[39m:\n\u001b[1;32m----> 7\u001b[0m     \u001b[38;5;28;01mreturn\u001b[39;00m x\u001b[38;5;241m*\u001b[39m\u001b[43malan\u001b[49m\u001b[43m(\u001b[49m\u001b[43mn\u001b[49m\u001b[38;5;241;43m-\u001b[39;49m\u001b[38;5;241;43m1\u001b[39;49m\u001b[43m)\u001b[49m\u001b[38;5;241m+\u001b[39m\u001b[38;5;241m1\u001b[39m\n",
      "Input \u001b[1;32mIn [14]\u001b[0m, in \u001b[0;36malan\u001b[1;34m(n)\u001b[0m\n\u001b[0;32m      5\u001b[0m     \u001b[38;5;28;01mreturn\u001b[39;00m \n\u001b[0;32m      6\u001b[0m \u001b[38;5;28;01mif\u001b[39;00m n\u001b[38;5;241m>\u001b[39m\u001b[38;5;241m0\u001b[39m:\n\u001b[1;32m----> 7\u001b[0m     \u001b[38;5;28;01mreturn\u001b[39;00m x\u001b[38;5;241m*\u001b[39m\u001b[43malan\u001b[49m\u001b[43m(\u001b[49m\u001b[43mn\u001b[49m\u001b[38;5;241;43m-\u001b[39;49m\u001b[38;5;241;43m1\u001b[39;49m\u001b[43m)\u001b[49m\u001b[38;5;241m+\u001b[39m\u001b[38;5;241m1\u001b[39m\n",
      "Input \u001b[1;32mIn [14]\u001b[0m, in \u001b[0;36malan\u001b[1;34m(n)\u001b[0m\n\u001b[0;32m      5\u001b[0m     \u001b[38;5;28;01mreturn\u001b[39;00m \n\u001b[0;32m      6\u001b[0m \u001b[38;5;28;01mif\u001b[39;00m n\u001b[38;5;241m>\u001b[39m\u001b[38;5;241m0\u001b[39m:\n\u001b[1;32m----> 7\u001b[0m     \u001b[38;5;28;01mreturn\u001b[39;00m \u001b[43mx\u001b[49m\u001b[38;5;241;43m*\u001b[39;49m\u001b[43malan\u001b[49m\u001b[43m(\u001b[49m\u001b[43mn\u001b[49m\u001b[38;5;241;43m-\u001b[39;49m\u001b[38;5;241;43m1\u001b[39;49m\u001b[43m)\u001b[49m\u001b[38;5;241m+\u001b[39m\u001b[38;5;241m1\u001b[39m\n",
      "\u001b[1;31mTypeError\u001b[0m: unsupported operand type(s) for *: 'int' and 'NoneType'"
     ]
    }
   ],
   "source": []
  },
  {
   "cell_type": "code",
   "execution_count": 8,
   "id": "c0ac8366-89da-40c8-a87e-b4439a3dda48",
   "metadata": {},
   "outputs": [],
   "source": [
    "def fak(a):\n",
    "    if a==0:\n",
    "        return 1\n",
    "    else:\n",
    "        return a*fak(a-1)"
   ]
  },
  {
   "cell_type": "code",
   "execution_count": 10,
   "id": "c41ac6a2-0226-4d19-b39a-dc90cc10c93f",
   "metadata": {},
   "outputs": [
    {
     "data": {
      "text/plain": [
       "120"
      ]
     },
     "execution_count": 10,
     "metadata": {},
     "output_type": "execute_result"
    }
   ],
   "source": [
    "fak(5)"
   ]
  },
  {
   "cell_type": "code",
   "execution_count": 5,
   "id": "fe480c62-a458-4368-b1b0-740299889ee7",
   "metadata": {},
   "outputs": [],
   "source": [
    "def fak(a):\n",
    "    if a==1:\n",
    "        return 1\n"
   ]
  },
  {
   "cell_type": "code",
   "execution_count": 7,
   "id": "08ae7717-3365-4700-b9bf-14ef2dfe7c7c",
   "metadata": {},
   "outputs": [],
   "source": [
    "fak(2)"
   ]
  },
  {
   "cell_type": "code",
   "execution_count": 1,
   "id": "fed04337-87b0-4fef-8014-bf57d3453ac4",
   "metadata": {},
   "outputs": [],
   "source": [
    "def ebob(x,y):\n",
    "    if y==0:\n",
    "        return x\n",
    "    else:\n",
    "        return ebob(y,x%y)"
   ]
  },
  {
   "cell_type": "code",
   "execution_count": 2,
   "id": "83ea42e6-b507-4791-8b9c-71c3aa725b23",
   "metadata": {},
   "outputs": [
    {
     "data": {
      "text/plain": [
       "8"
      ]
     },
     "execution_count": 2,
     "metadata": {},
     "output_type": "execute_result"
    }
   ],
   "source": [
    "ebob(32,24)"
   ]
  },
  {
   "cell_type": "code",
   "execution_count": null,
   "id": "b2e2d3a3-9c5a-414c-95a4-742340390267",
   "metadata": {},
   "outputs": [],
   "source": []
  }
 ],
 "metadata": {
  "kernelspec": {
   "display_name": "Python 3 (ipykernel)",
   "language": "python",
   "name": "python3"
  },
  "language_info": {
   "codemirror_mode": {
    "name": "ipython",
    "version": 3
   },
   "file_extension": ".py",
   "mimetype": "text/x-python",
   "name": "python",
   "nbconvert_exporter": "python",
   "pygments_lexer": "ipython3",
   "version": "3.9.12"
  }
 },
 "nbformat": 4,
 "nbformat_minor": 5
}
