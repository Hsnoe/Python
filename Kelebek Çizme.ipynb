{
 "cells": [
  {
   "cell_type": "code",
   "execution_count": 3,
   "id": "730b944e-08a0-4c50-93ee-9a7bce2b452c",
   "metadata": {},
   "outputs": [
    {
     "name": "stdin",
     "output_type": "stream",
     "text": [
      "Sayı giriniz: 7\n"
     ]
    },
    {
     "name": "stdout",
     "output_type": "stream",
     "text": [
      "*              *\n",
      "**            **\n",
      "***          ***\n",
      "****        ****\n",
      "*****      *****\n",
      "******    ******\n",
      "*******  *******\n",
      "****************\n",
      "*******  *******\n",
      "******    ******\n",
      "*****      *****\n",
      "****        ****\n",
      "***          ***\n",
      "**            **\n",
      "*              *\n"
     ]
    }
   ],
   "source": [
    "sayi = int(input('enter a number:'))\n",
    "for i in range(sayi):\n",
    "        val = '*' * (i+1) + ' ' * (sayi - i) * 2 + '*' * (i+1)\n",
    "        print(val)\n",
    "for i in range(sayi, -1, -1):\n",
    "        val = '*' * (i+1) + ' ' * (sayi - i) * 2 + '*' * (i+1)\n",
    "        print(val)\n"
   ]
  },
  {
   "cell_type": "code",
   "execution_count": null,
   "id": "ee097a81-9179-4af2-9bff-d102a1148d40",
   "metadata": {},
   "outputs": [],
   "source": []
  }
 ],
 "metadata": {
  "kernelspec": {
   "display_name": "Python 3 (ipykernel)",
   "language": "python",
   "name": "python3"
  },
  "language_info": {
   "codemirror_mode": {
    "name": "ipython",
    "version": 3
   },
   "file_extension": ".py",
   "mimetype": "text/x-python",
   "name": "python",
   "nbconvert_exporter": "python",
   "pygments_lexer": "ipython3",
   "version": "3.9.12"
  }
 },
 "nbformat": 4,
 "nbformat_minor": 5
}
