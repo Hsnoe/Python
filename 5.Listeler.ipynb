{
 "cells": [
  {
   "cell_type": "code",
   "execution_count": 33,
   "id": "ba0217ff-dd52-436c-a32a-a762fdbb106b",
   "metadata": {},
   "outputs": [
    {
     "name": "stdout",
     "output_type": "stream",
     "text": [
      "['kate', 'jacke', 'sawyer', 'locke', 44]\n",
      "['sun', 'jin', 'micheal', 'boone', 'jacke', 4]\n",
      "['kate', 'jacke', 'sawyer', 'locke', 44, 'sun', 'jin', 'micheal', 'boone', 'jacke', 4]\n",
      "jacke\n",
      "['jacke', 'sawyer']\n",
      "['sun', 'jin', 'micheal', 'boone', 'jacke', 4, 'sun', 'jin', 'micheal', 'boone', 'jacke', 4]\n",
      "kate\n"
     ]
    }
   ],
   "source": [
    "L=[\"kate\",\"jacke\",\"sawyer\",\"locke\",44,]\n",
    "tinylist=[\"sun\",\"jin\",\"micheal\",\"boone\",\"jacke\",4]\n",
    "print(L)\n",
    "print(tinylist)\n",
    "print(L+tinylist)\n",
    "print(L[1])\n",
    "print(L[1:3])\n",
    "print(tinylist*2)\n",
    "print(L[-5])"
   ]
  },
  {
   "cell_type": "code",
   "execution_count": null,
   "id": "af9e133c-6529-4375-ab12-e9c0eb6b182f",
   "metadata": {},
   "outputs": [],
   "source": []
  },
  {
   "cell_type": "code",
   "execution_count": 12,
   "id": "a26971a2-b4bd-4185-ac77-bd7626520eed",
   "metadata": {},
   "outputs": [
    {
     "data": {
      "text/plain": [
       "'locke'"
      ]
     },
     "execution_count": 12,
     "metadata": {},
     "output_type": "execute_result"
    }
   ],
   "source": [
    "l=[\"kate\",\"jacke\",\"sawyer\",\"locke\",44,]\n",
    "l[len(l)-2]"
   ]
  },
  {
   "cell_type": "code",
   "execution_count": 15,
   "id": "15cfb9c8-6583-40e6-aa78-096c82c402d9",
   "metadata": {},
   "outputs": [
    {
     "name": "stdout",
     "output_type": "stream",
     "text": [
      "silmeden önce lisetem = ['math', 1899, 'dark']\n",
      "sildikten sonra = [1899, 'dark']\n"
     ]
    }
   ],
   "source": [
    "L=[\"math\",1899,\"dark\"]\n",
    "print(\"silmeden önce lisetem =\",L)\n",
    "L=[\"math\",1899,\"dark\"]\n",
    "del L[0]\n",
    "print(\"sildikten sonra =\",L)"
   ]
  },
  {
   "cell_type": "code",
   "execution_count": 25,
   "id": "093266ff-ddbf-48d4-a376-abc2a757db9a",
   "metadata": {},
   "outputs": [
    {
     "data": {
      "text/plain": [
       "['1', 2, 3, 4, 8, 2]"
      ]
     },
     "execution_count": 25,
     "metadata": {},
     "output_type": "execute_result"
    }
   ],
   "source": [
    "len([1,2,3])\n",
    "[\"1\",2,3]+[4,8,2]"
   ]
  },
  {
   "cell_type": "code",
   "execution_count": 6,
   "id": "30799001-1a05-496e-bbf0-f07500f33bd9",
   "metadata": {},
   "outputs": [
    {
     "ename": "IndexError",
     "evalue": "list index out of range",
     "output_type": "error",
     "traceback": [
      "\u001b[1;31m---------------------------------------------------------------------------\u001b[0m",
      "\u001b[1;31mIndexError\u001b[0m                                Traceback (most recent call last)",
      "Input \u001b[1;32mIn [6]\u001b[0m, in \u001b[0;36m<cell line: 3>\u001b[1;34m()\u001b[0m\n\u001b[0;32m      2\u001b[0m a\u001b[38;5;241m=\u001b[39m\u001b[38;5;124m\"\u001b[39m\u001b[38;5;124m\"\u001b[39m\n\u001b[0;32m      3\u001b[0m \u001b[38;5;28;01mfor\u001b[39;00m x \u001b[38;5;129;01min\u001b[39;00m \u001b[38;5;28mrange\u001b[39m(\u001b[38;5;28mlen\u001b[39m(l),\u001b[38;5;241m0\u001b[39m,\u001b[38;5;241m-\u001b[39m\u001b[38;5;241m1\u001b[39m):\n\u001b[1;32m----> 4\u001b[0m         a\u001b[38;5;241m+\u001b[39m\u001b[38;5;241m=\u001b[39m\u001b[38;5;28mstr\u001b[39m(\u001b[43ml\u001b[49m\u001b[43m[\u001b[49m\u001b[43mx\u001b[49m\u001b[43m]\u001b[49m)\n\u001b[0;32m      5\u001b[0m         \u001b[38;5;28mprint\u001b[39m(x)\n",
      "\u001b[1;31mIndexError\u001b[0m: list index out of range"
     ]
    }
   ],
   "source": [
    "l=[1,2,2,6]\n",
    "a=\"\"\n",
    "for x in range(len(l),0,-1):\n",
    "        a+=str(l[x])\n",
    "        print(x)"
   ]
  },
  {
   "cell_type": "code",
   "execution_count": 34,
   "id": "1860e5af-0c2b-4f11-a626-aa461fda592d",
   "metadata": {},
   "outputs": [
    {
     "name": "stdout",
     "output_type": "stream",
     "text": [
      "['math', 1899, 'dark', 'Lost']\n"
     ]
    }
   ],
   "source": [
    "L=[\"math\",1899,\"dark\"]\n",
    "L.append(\"Lost\")\n",
    "print(L)"
   ]
  },
  {
   "cell_type": "code",
   "execution_count": 38,
   "id": "35b29621-d7d7-4ca0-9379-f767467f595b",
   "metadata": {},
   "outputs": [
    {
     "name": "stdout",
     "output_type": "stream",
     "text": [
      "math\n",
      "1899\n",
      "dark\n"
     ]
    }
   ],
   "source": [
    "L=[\"math\",1899,\"dark\"]\n",
    "it=iter(L)\n",
    "print(next(it))\n",
    "for x in it:\n",
    "    print(x)"
   ]
  },
  {
   "cell_type": "code",
   "execution_count": 39,
   "id": "b8768e9a-82a6-4e76-a25d-2334a8f2ee8a",
   "metadata": {},
   "outputs": [
    {
     "name": "stdout",
     "output_type": "stream",
     "text": [
      "math\n",
      "1899\n",
      "dark\n"
     ]
    }
   ],
   "source": [
    "it=iter(L)\n",
    "for x in it:\n",
    "    print(x)"
   ]
  },
  {
   "cell_type": "code",
   "execution_count": 8,
   "id": "5ed86224-f006-4354-bf36-bfa8f17d0e45",
   "metadata": {},
   "outputs": [
    {
     "name": "stdin",
     "output_type": "stream",
     "text": [
      "bir sayı giriniz= 5\n",
      "bir sayı giriniz= 5\n",
      "bir sayı giriniz= 5\n",
      "bir sayı giriniz= 5\n",
      "bir sayı giriniz= 5\n",
      "bir sayı giriniz= 5\n"
     ]
    },
    {
     "name": "stdout",
     "output_type": "stream",
     "text": [
      "30\n"
     ]
    }
   ],
   "source": [
    "#Girilen 5 sayının ortalamasını bulan program?\n",
    "toplam=0\n",
    "sayac=0\n",
    "while sayac<6:\n",
    "    n=int(input(\"bir sayı giriniz=\"))\n",
    "    toplam=toplam+n\n",
    "    sayac+=1\n",
    "print(toplam)"
   ]
  },
  {
   "cell_type": "code",
   "execution_count": 5,
   "id": "e81e357a-9d3c-4d87-98a2-471ff73c2ff8",
   "metadata": {},
   "outputs": [
    {
     "name": "stdin",
     "output_type": "stream",
     "text": [
      "bir sayı gir 5\n",
      "bir sayı gir 5\n",
      "bir sayı gir 5\n",
      "bir sayı gir 5\n",
      "bir sayı gir 5\n"
     ]
    },
    {
     "name": "stdout",
     "output_type": "stream",
     "text": [
      "25\n"
     ]
    }
   ],
   "source": [
    "toplam=0\n",
    "m=0\n",
    "while 5>m:\n",
    "    n=int(input(\"bir sayı gir\"))\n",
    "    toplam+=n\n",
    "    m+=1\n",
    "print(toplam)"
   ]
  },
  {
   "cell_type": "code",
   "execution_count": 10,
   "id": "19cddef8-e5a9-4020-95f1-eaf3675a3aad",
   "metadata": {},
   "outputs": [
    {
     "name": "stdin",
     "output_type": "stream",
     "text": [
      "bir sayı giriniz= 5\n",
      "bir sayı giriniz= 5\n",
      "bir sayı giriniz= 5\n",
      "bir sayı giriniz= 5\n",
      "bir sayı giriniz= 5\n"
     ]
    },
    {
     "name": "stdout",
     "output_type": "stream",
     "text": [
      "25\n"
     ]
    }
   ],
   "source": [
    "sayac=0\n",
    "toplam=0\n",
    "while sayac<5:\n",
    "    n=int(input(\"bir sayı giriniz=\"))\n",
    "    toplam+=n\n",
    "    sayac+=1\n",
    "print(toplam)"
   ]
  },
  {
   "cell_type": "code",
   "execution_count": 11,
   "id": "c5a30b25-c441-400d-8339-687f32066bdb",
   "metadata": {},
   "outputs": [
    {
     "name": "stdin",
     "output_type": "stream",
     "text": [
      "bir sayı giriniz= 5\n",
      "bir sayı giriniz= 5\n",
      "bir sayı giriniz= 5\n",
      "bir sayı giriniz= 5\n",
      "bir sayı giriniz= 5\n"
     ]
    },
    {
     "name": "stdout",
     "output_type": "stream",
     "text": [
      "25\n"
     ]
    }
   ],
   "source": [
    "#Girilen 5 sayının ortalamasını bulan program?toplam=0\n",
    "sayac=0\n",
    "for i in range(5):\n",
    "    n=int(input(\"bir sayı giriniz=\"))\n",
    "    toplam=toplam+n\n",
    "print(toplam)\n"
   ]
  },
  {
   "cell_type": "code",
   "execution_count": 6,
   "id": "ce949480-d6cb-4d0b-8241-600aef8cf30e",
   "metadata": {},
   "outputs": [
    {
     "name": "stdout",
     "output_type": "stream",
     "text": [
      "bir sayı giriniz=9\n",
      "listede var\n"
     ]
    }
   ],
   "source": [
    "#Girilen sayının listede olup olmadığını bulan program?\n",
    "L=[2,5,8,9,2,8]\n",
    "n=int(input(\"bir sayı giriniz=\"))\n",
    "a=0\n",
    "for i in L:\n",
    "    if n==i:\n",
    "        a+=1\n",
    "if a==1:\n",
    "    print(\"listede var\")\n",
    "else:\n",
    "    print(\"yok\")\n"
   ]
  },
  {
   "cell_type": "code",
   "execution_count": 11,
   "id": "b267c8ec-348f-4f4c-9813-7382bfae30e4",
   "metadata": {},
   "outputs": [
    {
     "name": "stdin",
     "output_type": "stream",
     "text": [
      "gir 5\n"
     ]
    },
    {
     "name": "stdout",
     "output_type": "stream",
     "text": [
      "listede yok\n",
      "listede yok\n",
      "listede yok\n",
      "listede yok\n",
      "listede yok\n",
      "listede yok\n",
      "listede yok\n"
     ]
    }
   ],
   "source": [
    "l=[2,5,9,8,3,7,5]\n",
    "n=input(\"gir\")\n",
    "for i in l:\n",
    "    if n==i:\n",
    "        print(\"listede var\")\n",
    "    else:\n",
    "        print(\"listede yok\")"
   ]
  },
  {
   "cell_type": "code",
   "execution_count": 15,
   "id": "ed430506-338d-48c1-b69d-a34543d00c66",
   "metadata": {},
   "outputs": [
    {
     "ename": "SyntaxError",
     "evalue": "invalid syntax (2929144121.py, line 1)",
     "output_type": "error",
     "traceback": [
      "\u001b[1;36m  Input \u001b[1;32mIn [15]\u001b[1;36m\u001b[0m\n\u001b[1;33m    TypeError: 'int' objectL=[2,5,8,9,2,8]\u001b[0m\n\u001b[1;37m                     ^\u001b[0m\n\u001b[1;31mSyntaxError\u001b[0m\u001b[1;31m:\u001b[0m invalid syntax\n"
     ]
    }
   ],
   "source": [
    "\n",
    "TypeError: 'int' objectL=[2,5,8,9,2,8]\n",
    "a=str(input(\"bir sayı giriniz=\"))\n",
    "print(a in L)"
   ]
  },
  {
   "cell_type": "code",
   "execution_count": 50,
   "id": "48a753d7-9c91-49ae-9e02-6b222b5d0be2",
   "metadata": {},
   "outputs": [
    {
     "name": "stdin",
     "output_type": "stream",
     "text": [
      "bir sayı giriniz= 4\n"
     ]
    },
    {
     "name": "stdout",
     "output_type": "stream",
     "text": [
      "yok\n",
      "yok\n",
      "yok\n",
      "yok\n",
      "yok\n",
      "yok\n"
     ]
    }
   ],
   "source": [
    "L=[2,5,8,9,2,8]\n",
    "a=int(input(\"bir sayı giriniz=\"))\n",
    "for x in iter(L):\n",
    "    if x==a:\n",
    "        print(\"var\")\n",
    "    else:\n",
    "        print(\"yok\")"
   ]
  },
  {
   "cell_type": "code",
   "execution_count": 16,
   "id": "fab90c96-af52-4461-8846-ca4f8e57e7b7",
   "metadata": {},
   "outputs": [
    {
     "name": "stdin",
     "output_type": "stream",
     "text": [
      "Bir sayı giriniz: 19875\n",
      "Bir sayı giriniz: 5\n"
     ]
    },
    {
     "name": "stdout",
     "output_type": "stream",
     "text": [
      "1987"
     ]
    }
   ],
   "source": [
    "sayi=int(input(\"Bir sayı giriniz:\"))\n",
    "K=int(input(\"Bir sayı giriniz:\"))\n",
    "sayi=str(sayi)\n",
    "yeni_sayi=[]\n",
    "for rakam in range (0,len(sayi)):\n",
    "    if int(sayi[rakam])==K:\n",
    "        c=0\n",
    "    else:\n",
    "        yeni_sayi+=sayi[rakam]\n",
    "for çıktı in yeni_sayi:\n",
    "    print(çıktı,end=\"\")"
   ]
  },
  {
   "cell_type": "code",
   "execution_count": 19,
   "id": "653290d3-02d0-4b66-b5c5-f105145d9f7f",
   "metadata": {},
   "outputs": [
    {
     "name": "stdin",
     "output_type": "stream",
     "text": [
      "bir rsayı giriniz  1985\n",
      "hangi rakamı sileyim 5\n"
     ]
    },
    {
     "name": "stdout",
     "output_type": "stream",
     "text": [
      "['1', '9', '8']\n",
      "1 9 8 "
     ]
    }
   ],
   "source": [
    "#GİRİLEN BİR SAYIDA Kİ RAKAMI SİL\n",
    "sayi=int(input(\"bir rsayı giriniz \"))\n",
    "k=int(input(\"hangi rakamı sileyim\"))\n",
    "sayi=str(sayi)\n",
    "c=1\n",
    "yeniliste=[]\n",
    "for i in range(len(sayi)):\n",
    "    if int(sayi[i])==k:\n",
    "        c=0\n",
    "    else:\n",
    "        yeniliste+=sayi[i]\n",
    "print(yeniliste)\n",
    "for j in yeniliste:\n",
    "    print(j,end=\" \")"
   ]
  },
  {
   "cell_type": "code",
   "execution_count": 12,
   "id": "bf74eba4-228c-4f93-bad2-2a808e6d6260",
   "metadata": {},
   "outputs": [
    {
     "name": "stdin",
     "output_type": "stream",
     "text": [
      "Bir sayı giriniz: 11975\n",
      "Bir sayı giriniz: 5\n"
     ]
    },
    {
     "name": "stdout",
     "output_type": "stream",
     "text": [
      "1197"
     ]
    }
   ],
   "source": [
    "sayi=int(input(\"Bir sayı giriniz:\"))\n",
    "K=int(input(\"Bir sayı giriniz:\"))\n",
    "sayi=str(sayi)\n",
    "yenisayi=[]\n",
    "for i in range(len(sayi)):\n",
    "    if int(sayi[i])==K:\n",
    "        c=0\n",
    "    else:\n",
    "        yenisayi+=sayi[i]\n",
    "for i in yenisayi:\n",
    "    print(i,end=\"\")"
   ]
  },
  {
   "cell_type": "code",
   "execution_count": 20,
   "id": "2e729e8c-861f-4a8b-9e31-2bbffec9159d",
   "metadata": {},
   "outputs": [
    {
     "name": "stdout",
     "output_type": "stream",
     "text": [
      "8    18\n",
      "5    6\n",
      "6    7\n",
      "5    7\n",
      "2    7\n",
      "10    4\n"
     ]
    }
   ],
   "source": [
    "x=[8,5,6,5,2,10]\n",
    "y=[18,6,7,7,7,4,8]\n",
    "for i in range(0,len(x)):\n",
    "    print(x[i],\"  \",y[i])"
   ]
  },
  {
   "cell_type": "code",
   "execution_count": 20,
   "id": "f79d1e3b-8754-42b2-ac1a-a0d2b885ab76",
   "metadata": {},
   "outputs": [
    {
     "name": "stdout",
     "output_type": "stream",
     "text": [
      "36\n"
     ]
    }
   ],
   "source": [
    "x=[8,5,6,5,2,10]\n",
    "top=0\n",
    "for i in range(len(x)):\n",
    "    top+=x[i]\n",
    "print(top)"
   ]
  },
  {
   "cell_type": "code",
   "execution_count": 25,
   "id": "d2257818-c262-4733-9484-aa4a03470975",
   "metadata": {},
   "outputs": [
    {
     "name": "stdout",
     "output_type": "stream",
     "text": [
      "[8, 5, 6, 5, 2, 10, 20, -4]\n",
      "[5, 6, 5, 2, 8, 10, -4, 20]\n",
      "[5, 5, 2, 6, 8, -4, 10, 20]\n",
      "[5, 2, 5, 6, -4, 8, 10, 20]\n",
      "[2, 5, 5, -4, 6, 8, 10, 20]\n",
      "[2, 5, -4, 5, 6, 8, 10, 20]\n",
      "[2, -4, 5, 5, 6, 8, 10, 20]\n",
      "[-4, 2, 5, 5, 6, 8, 10, 20]\n"
     ]
    }
   ],
   "source": [
    "#Elemanları sıralayan program?\n",
    "l=[8,5,6,5,2,10,20,-4]\n",
    "at=0\n",
    "for j in range(0,len(l)-1):\n",
    "    print(l)\n",
    "    for i in range(0,len(l)-1):\n",
    "        if l[i]>l[i+1]:\n",
    "            at=l[i+1]\n",
    "            l[i+1]=l[i]\n",
    "            l[i]=at\n",
    "print(l)"
   ]
  },
  {
   "cell_type": "code",
   "execution_count": 28,
   "id": "efcdedae-a6ea-4cf8-83e0-be990c41be42",
   "metadata": {},
   "outputs": [
    {
     "name": "stdout",
     "output_type": "stream",
     "text": [
      "[8, 5, 6, 5, 2, 10, 20, -4]\n",
      "[8, 6, 5, 5, 10, 20, 2, -4]\n",
      "[8, 6, 5, 10, 20, 5, 2, -4]\n",
      "[8, 6, 10, 20, 5, 5, 2, -4]\n",
      "[8, 10, 20, 6, 5, 5, 2, -4]\n",
      "[10, 20, 8, 6, 5, 5, 2, -4]\n",
      "[20, 10, 8, 6, 5, 5, 2, -4]\n",
      "[20, 10, 8, 6, 5, 5, 2, -4]\n"
     ]
    }
   ],
   "source": [
    "l=[8,5,6,5,2,10,20,-4]\n",
    "at=0\n",
    "\n",
    "for j in range(0,len(l)-1):\n",
    "    print(l)\n",
    "    for i in range(len(l)-1):\n",
    "        if l[i]<l[i+1]:\n",
    "            at=l[i]\n",
    "            l[i]=l[i+1]\n",
    "            l[i+1]=at\n",
    "print(l)"
   ]
  },
  {
   "cell_type": "code",
   "execution_count": 28,
   "id": "fadeb8eb-8284-40b2-8fb4-6671b6f8e6f4",
   "metadata": {},
   "outputs": [
    {
     "name": "stdout",
     "output_type": "stream",
     "text": [
      "0\n",
      "0\n",
      "0\n",
      "0\n",
      "0\n",
      "0\n",
      "0\n",
      "0\n",
      "0\n"
     ]
    }
   ],
   "source": [
    "#Her elemanın tekrar sayısını bulan program?\n",
    "l=[8,5,6,5,2,10,20,5,-4,6]\n",
    "sayaç=0\n",
    "for i in range(0,len(l)-1):\n",
    "    if l[i]==a:\n",
    "        sayaç+=1\n",
    "    print(sayaç)"
   ]
  },
  {
   "cell_type": "code",
   "execution_count": 22,
   "id": "1e74cfae-4f8e-4ce4-8acd-699347f5d29e",
   "metadata": {},
   "outputs": [
    {
     "name": "stdout",
     "output_type": "stream",
     "text": [
      "bir yazı girinhasan nsadas saa   \n",
      "5\n"
     ]
    }
   ],
   "source": [
    "#Girilen yazıdaki boşluk karakter sayısını bulan program?\n",
    "sayaç=0\n",
    "n=str(input(\"bir yazı girin\"))\n",
    "for i in range(len(n)):\n",
    "    if \" \"==n[i]:\n",
    "        sayaç+=1\n",
    "print(sayaç)"
   ]
  },
  {
   "cell_type": "code",
   "execution_count": 30,
   "id": "2252ff52-1069-4c55-8de8-9c12ec4e1fd7",
   "metadata": {},
   "outputs": [
    {
     "name": "stdin",
     "output_type": "stream",
     "text": [
      "bir yazı giriniz hasan basdh askjadh \n"
     ]
    },
    {
     "name": "stdout",
     "output_type": "stream",
     "text": [
      "3\n"
     ]
    }
   ],
   "source": [
    "sayaç=0\n",
    "kelime=0\n",
    "n=str(input(\"bir yazı giriniz\"))\n",
    "for i in range(len(n)):\n",
    "    if n[i]==\" \":\n",
    "        sayaç+=1\n",
    "print(sayaç)"
   ]
  },
  {
   "cell_type": "code",
   "execution_count": 18,
   "id": "e64f2d8a-ed59-470d-af97-468b935ecc56",
   "metadata": {},
   "outputs": [
    {
     "name": "stdin",
     "output_type": "stream",
     "text": [
      "bir yazı girin hasan baba   has\n"
     ]
    },
    {
     "name": "stdout",
     "output_type": "stream",
     "text": [
      "4\n"
     ]
    }
   ],
   "source": [
    "sayaç=0\n",
    "n=str(input(\"bir yazı girin\"))\n",
    "for i in n:\n",
    "    if \" \"== i:\n",
    "        sayaç+=1\n",
    "print(sayaç)"
   ]
  },
  {
   "cell_type": "code",
   "execution_count": null,
   "id": "55597801-508f-4921-8ffc-9b2b1a9f3c8b",
   "metadata": {},
   "outputs": [],
   "source": []
  },
  {
   "cell_type": "code",
   "execution_count": 23,
   "id": "da53a3fe-672e-42df-958f-dc85634f04aa",
   "metadata": {},
   "outputs": [
    {
     "name": "stdout",
     "output_type": "stream",
     "text": [
      "bir yazı girinhasan hasha\n",
      "bir yazı girinhasan\n",
      "eşit\n"
     ]
    }
   ],
   "source": [
    "#Girilen iki yazıyı karşılaştıran (eşit olup olmadığını bulan) program?\n",
    "\n",
    "n=input(\"bir yazı girin\")\n",
    "c=input(\"bir yazı girin\")\n",
    "if len(n)==len(c):\n",
    "    sayac=0\n",
    "    for i in range(len(n)):\n",
    "        if n[i]!=c[i]:\n",
    "            sayac=1\n",
    "            break\n",
    "if sayac==1:\n",
    "    print(\"eşit değil\")\n",
    "else:\n",
    "    print(\"eşit\")\n"
   ]
  },
  {
   "cell_type": "code",
   "execution_count": 36,
   "id": "37788224-7e19-47bd-8989-9807df1eac31",
   "metadata": {},
   "outputs": [
    {
     "name": "stdin",
     "output_type": "stream",
     "text": [
      "bir yazı girin hasan\n",
      "bir yazı girin mehmet\n"
     ]
    },
    {
     "name": "stdout",
     "output_type": "stream",
     "text": [
      "aynı değil\n"
     ]
    }
   ],
   "source": [
    "n=input(\"bir yazı girin\")\n",
    "c=input(\"bir yazı girin\")\n",
    "sayaç=0\n",
    "for i in range(len(n)):\n",
    "    if n[i]!=c[i]:\n",
    "        sayaç=1\n",
    "        break\n",
    "if sayaç==1:\n",
    "    print(\"aynı değil\")\n",
    "else:\n",
    "    print(\"aynı\")"
   ]
  },
  {
   "cell_type": "code",
   "execution_count": 8,
   "id": "5eb583c4-1d31-4200-bd20-fff2e76592d0",
   "metadata": {},
   "outputs": [
    {
     "name": "stdout",
     "output_type": "stream",
     "text": [
      "Bir cümle giriniz:aasd\n",
      "Bir değer girinizasfsa\n"
     ]
    },
    {
     "ename": "ValueError",
     "evalue": "invalid literal for int() with base 10: 'asfsa'",
     "output_type": "error",
     "traceback": [
      "\u001b[1;31m---------------------------------------------------------------------------\u001b[0m",
      "\u001b[1;31mValueError\u001b[0m                                Traceback (most recent call last)",
      "Input \u001b[1;32mIn [8]\u001b[0m, in \u001b[0;36m<cell line: 4>\u001b[1;34m()\u001b[0m\n\u001b[0;32m      1\u001b[0m \u001b[38;5;66;03m#Girilen yazının k. karakteriyle r. karakteri arasını kopyalayan programı yazınız?\u001b[39;00m\n\u001b[0;32m      2\u001b[0m \u001b[38;5;66;03m#Girilen yazının k. karakteriyle r. karakteri arasını kopyalayan programı yazınız?\u001b[39;00m\n\u001b[0;32m      3\u001b[0m cumle\u001b[38;5;241m=\u001b[39m\u001b[38;5;28minput\u001b[39m(\u001b[38;5;124m\"\u001b[39m\u001b[38;5;124mBir cümle giriniz:\u001b[39m\u001b[38;5;124m\"\u001b[39m)\n\u001b[1;32m----> 4\u001b[0m k\u001b[38;5;241m=\u001b[39m\u001b[38;5;28;43mint\u001b[39;49m\u001b[43m(\u001b[49m\u001b[38;5;28;43minput\u001b[39;49m\u001b[43m(\u001b[49m\u001b[38;5;124;43m\"\u001b[39;49m\u001b[38;5;124;43mBir değer giriniz\u001b[39;49m\u001b[38;5;124;43m\"\u001b[39;49m\u001b[43m)\u001b[49m\u001b[43m)\u001b[49m\n\u001b[0;32m      5\u001b[0m r\u001b[38;5;241m=\u001b[39m\u001b[38;5;28mint\u001b[39m(\u001b[38;5;28minput\u001b[39m(\u001b[38;5;124m\"\u001b[39m\u001b[38;5;124mBir değer giriniz:\u001b[39m\u001b[38;5;124m\"\u001b[39m))\n\u001b[0;32m      6\u001b[0m cumle\u001b[38;5;241m=\u001b[39m\u001b[38;5;28mstr\u001b[39m(cumle)\n",
      "\u001b[1;31mValueError\u001b[0m: invalid literal for int() with base 10: 'asfsa'"
     ]
    }
   ],
   "source": [
    "#Girilen yazının k. karakteriyle r. karakteri arasını kopyalayan programı yazınız?\n",
    "#Girilen yazının k. karakteriyle r. karakteri arasını kopyalayan programı yazınız?\n",
    "cumle=input(\"Bir cümle giriniz:\")\n",
    "k=int(input(\"Bir değer giriniz\"))\n",
    "r=int(input(\"Bir değer giriniz:\"))\n",
    "cumle=str(cumle)\n",
    "yeni_cümle=[]\n",
    "for yeni in range (len(cumle)):\n",
    "    yeni_cümle+=cumle[yeni]\n",
    "for olusacak in range (k+1,r):\n",
    "    print(yeni_cümle[olusacak],end=\"\")"
   ]
  },
  {
   "cell_type": "code",
   "execution_count": 44,
   "id": "28f8616e-fcc9-4e18-8258-6da3e187e836",
   "metadata": {},
   "outputs": [
    {
     "name": "stdout",
     "output_type": "stream",
     "text": [
      "9\n",
      "7\n"
     ]
    }
   ],
   "source": [
    "l=[5,8,9,7,6,3]\n",
    "for i in range(2,4):\n",
    "    print(l[i])"
   ]
  },
  {
   "cell_type": "code",
   "execution_count": 43,
   "id": "6d13df0e-88ac-447b-94f8-fa16e4b7c15b",
   "metadata": {},
   "outputs": [
    {
     "name": "stdin",
     "output_type": "stream",
     "text": [
      "Bir cümle giriniz: hasanbabayetmiş\n",
      "Bir değer giriniz h\n",
      "Bir değer giriniz: y\n"
     ]
    },
    {
     "name": "stdout",
     "output_type": "stream",
     "text": [
      "['h']\n"
     ]
    }
   ],
   "source": [
    "cumle=input(\"Bir cümle giriniz:\")\n",
    "k=str(input(\"Bir değer giriniz\"))\n",
    "r=str(input(\"Bir değer giriniz:\"))\n",
    "a=[]\n",
    "for i in range(len(cumle)):\n",
    "    a+=cumle[i]\n",
    "for j in range(k)"
   ]
  },
  {
   "cell_type": "code",
   "execution_count": 66,
   "id": "65fcfa27-4521-414f-abdd-acc5e95e14cc",
   "metadata": {},
   "outputs": [
    {
     "name": "stdin",
     "output_type": "stream",
     "text": [
      "bir yazı girin asfjksa şias+ dsd4 dsklfs7\n"
     ]
    },
    {
     "name": "stdout",
     "output_type": "stream",
     "text": [
      "4\n",
      "karakter 26\n",
      "rakam 2\n"
     ]
    }
   ],
   "source": [
    "#Girilen yazıdaki kelime, rakam ve karakter sayısını bulan program?\n",
    "n=str(input(\"bir yazı girin\"))\n",
    "kelime=1\n",
    "rakam=0\n",
    "for i in range(len(n)):\n",
    "    if n[i]==\" \" and n[i-1]!=\" \" and i!=0:\n",
    "        kelime+=1\n",
    "    if n[i] in [\"0\",\"1\",\"2\",\"3\",\"4\",\"5\",\"6\",\"7\",\"8\",\"9\"]:\n",
    "        rakam+=1\n",
    "print(kelime)\n",
    "print(\"karakter\",len(n))\n",
    "print(\"rakam\",rakam)\n",
    "    "
   ]
  },
  {
   "cell_type": "code",
   "execution_count": 46,
   "id": "36094185-b17a-4cb5-9438-2ba5455df9f5",
   "metadata": {},
   "outputs": [
    {
     "name": "stdin",
     "output_type": "stream",
     "text": [
      "bir metin girin HASNA SADAS DA ASF       ASJKD\n"
     ]
    },
    {
     "name": "stdout",
     "output_type": "stream",
     "text": [
      "4\n"
     ]
    }
   ],
   "source": [
    "n=str(input(\"bir metin girin\"))\n",
    "boş=0\n",
    "kelime=0\n",
    "rakam=0\n",
    "for i in range(len(n)):\n",
    "    if n[i]==\" \" and n[i-1]!=\" \" and i!=0:\n",
    "        kelime+=1\n",
    "print(kelime)"
   ]
  },
  {
   "cell_type": "code",
   "execution_count": 74,
   "id": "0abc22d3-e7c0-424c-ac65-75ffdd261a36",
   "metadata": {},
   "outputs": [
    {
     "name": "stdin",
     "output_type": "stream",
     "text": [
      "bir yazı girin hasanbaba\n",
      "aranan girin baba\n"
     ]
    },
    {
     "name": "stdout",
     "output_type": "stream",
     "text": [
      "hasan'baba'\n"
     ]
    }
   ],
   "source": [
    "#Girilen yazıdaki aranan kelimenin önüne ve arkasına TIRNAK sembolünü ekleyen program?\n",
    "n=(input(\"bir yazı girin\"))\n",
    "d=(input(\"aranan girin\"))\n",
    "c=\"\"\n",
    "for i in range(len(n)):\n",
    "    if n[i:i+len(d)]==d: #aradığım kelime\n",
    "        c+=n[0:i]#işk kısmı ata\n",
    "        c+=\"'\"+d+\"'\" # tırnak eklendi\n",
    "        c+=n[i+len(d):len(n)]\n",
    "print(c)"
   ]
  },
  {
   "cell_type": "code",
   "execution_count": 47,
   "id": "04caf1b3-dc84-4ff7-8f32-ee2dd888fd3a",
   "metadata": {},
   "outputs": [
    {
     "name": "stdin",
     "output_type": "stream",
     "text": [
      "bir yazı girin hasan baba\n",
      "aranan girin san\n"
     ]
    },
    {
     "name": "stdout",
     "output_type": "stream",
     "text": [
      "ha2san2 baba\n"
     ]
    }
   ],
   "source": [
    "n=(input(\"bir yazı girin\"))\n",
    "d=(input(\"aranan girin\"))\n",
    "c=\"\"\n",
    "for i in range(len(n)):\n",
    "    if n[i:i+len(d)]==d:\n",
    "        c+=n[0:i]\n",
    "        c+=\"2\"+d+\"2\"\n",
    "        c+=n[i+len(d):len(n)]\n",
    "print(c)"
   ]
  },
  {
   "cell_type": "code",
   "execution_count": 27,
   "id": "1bd54741-e9f9-4412-a8be-0643dccc6a97",
   "metadata": {},
   "outputs": [
    {
     "name": "stdout",
     "output_type": "stream",
     "text": [
      "bir yazı girinhasanbaba\n",
      "bir yazı girinsan\n",
      "hasanbaba\n"
     ]
    }
   ],
   "source": [
    "#Girilen yazıdaki bir karakteri sil\n",
    "cümle=(input(\"bir yazı girin\"))\n",
    "silinen=(input(\"bir yazı girin\"))\n",
    "yenisi=\"\"\n",
    "for x in cümle:\n",
    "    if x==silinen:\n",
    "        continue\n",
    "    else:\n",
    "        yenisi+=x\n",
    "print(yenisi)\n",
    "        \n",
    "        \n",
    "    "
   ]
  },
  {
   "cell_type": "code",
   "execution_count": 48,
   "id": "f204f6a1-350e-44e1-a448-3a8d86dce607",
   "metadata": {},
   "outputs": [
    {
     "name": "stdin",
     "output_type": "stream",
     "text": [
      "bir yazı girin hasanbaba\n",
      "bir yazı girin s\n"
     ]
    },
    {
     "name": "stdout",
     "output_type": "stream",
     "text": [
      "haanbaba\n"
     ]
    }
   ],
   "source": [
    "cümle=(input(\"bir yazı girin\"))\n",
    "silinen=(input(\"bir yazı girin\"))\n",
    "yenisi=\"\"\n",
    "for i in cümle:\n",
    "    if i==silinen:\n",
    "        continue\n",
    "    else:\n",
    "        yenisi+=i\n",
    "print(yenisi)"
   ]
  },
  {
   "cell_type": "code",
   "execution_count": 4,
   "id": "5bb7979c-5394-42cf-90f6-d3ea7c9d05e6",
   "metadata": {},
   "outputs": [
    {
     "name": "stdout",
     "output_type": "stream",
     "text": [
      "bir yazı girinhasanbaba\n",
      "aranan girinbaba\n",
      "hasan\n"
     ]
    }
   ],
   "source": [
    "#Girilen yazıdaki bir kelimeyi sil\n",
    "n=(input(\"bir yazı girin\"))\n",
    "d=(input(\"aranan girin\"))\n",
    "c=\"\"\n",
    "for i in range(len(n)):\n",
    "    if n[i:i+len(d)]==d: #aradığım kelime\n",
    "        c+=n[0:i]#işk kısmı ata    \n",
    "        c+=n[i+len(d):len(n)]\n",
    "print(c)"
   ]
  },
  {
   "cell_type": "code",
   "execution_count": null,
   "id": "462c1f59",
   "metadata": {},
   "outputs": [],
   "source": [
    "#Girilen onluk sayıyı ikili sayıya dönüştürünüz?\n"
   ]
  },
  {
   "cell_type": "code",
   "execution_count": 14,
   "id": "4415d047-6d32-4934-9761-019840778f9d",
   "metadata": {},
   "outputs": [
    {
     "data": {
      "text/plain": [
       "[2, 5, 8]"
      ]
     },
     "execution_count": 14,
     "metadata": {},
     "output_type": "execute_result"
    }
   ],
   "source": [
    "L=[2,5,8,9]\n",
    "L[0:(len(L))-1]"
   ]
  },
  {
   "cell_type": "code",
   "execution_count": null,
   "id": "391c3418-6ec9-4091-bf85-a152f77e3a22",
   "metadata": {},
   "outputs": [],
   "source": []
  }
 ],
 "metadata": {
  "kernelspec": {
   "display_name": "Python 3 (ipykernel)",
   "language": "python",
   "name": "python3"
  },
  "language_info": {
   "codemirror_mode": {
    "name": "ipython",
    "version": 3
   },
   "file_extension": ".py",
   "mimetype": "text/x-python",
   "name": "python",
   "nbconvert_exporter": "python",
   "pygments_lexer": "ipython3",
   "version": "3.9.12"
  }
 },
 "nbformat": 4,
 "nbformat_minor": 5
}
