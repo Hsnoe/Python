{
 "cells": [
  {
   "cell_type": "code",
   "execution_count": 7,
   "id": "f27ea286-af7f-4696-97b0-632b13c4ebcb",
   "metadata": {},
   "outputs": [
    {
     "name": "stdout",
     "output_type": "stream",
     "text": [
      "[8, 5, 7]\n",
      "3\n",
      "[[8, 5, 7], [8, 3, 1]]\n",
      "[[8, 5, 7]]\n"
     ]
    }
   ],
   "source": [
    "a=[[8,5,7],\n",
    "   [8,3,1],]\n",
    "print(a[0])\n",
    "print(a[1][1])\n",
    "print(a[0:2])\n",
    "print(a[0:len(a)-1])\n"
   ]
  },
  {
   "cell_type": "code",
   "execution_count": 10,
   "id": "580be734-b4c7-4d6c-83a2-68010f162f7a",
   "metadata": {},
   "outputs": [
    {
     "name": "stdout",
     "output_type": "stream",
     "text": [
      "[[8, 5, 7], [8, 3, 1]]\n",
      "[[8, 5, 7], [8, 3, 1]]\n"
     ]
    }
   ],
   "source": [
    "for i in range(len(a)):\n",
    "    print(a)"
   ]
  },
  {
   "cell_type": "code",
   "execution_count": 2,
   "id": "44a2955c-7df1-4d93-9eaa-6ea0b2698578",
   "metadata": {},
   "outputs": [
    {
     "name": "stdout",
     "output_type": "stream",
     "text": [
      "[[16, 10, 14], [13, 6, 2], [18, 14, 16]]\n"
     ]
    }
   ],
   "source": [
    "a=[[8,5,7],\n",
    "   [5,3,1],\n",
    "   [9,7,8]]\n",
    "\n",
    "b=[[8,5,7],\n",
    "   [8,3,1],\n",
    "   [9,7,8]]\n",
    "\n",
    "c=[[0,0,0],\n",
    "   [0,0,0],\n",
    "   [0,0,0]]\n",
    "\n",
    "for j in range(3) :\n",
    "    for i in range(3):\n",
    "        c[i][j]+=a[i][j]+b[i][j]\n",
    "\n",
    "print(c)\n"
   ]
  },
  {
   "cell_type": "code",
   "execution_count": 7,
   "id": "250a50f3-7670-4fd9-b840-1ce86448c185",
   "metadata": {},
   "outputs": [
    {
     "name": "stdout",
     "output_type": "stream",
     "text": [
      "[[16, 10, 14], [13, 6, 2], [18, 14, 16]]\n"
     ]
    }
   ],
   "source": [
    "a=[[8,5,7],\n",
    "   [5,3,1],\n",
    "   [9,7,8]]\n",
    "\n",
    "b=[[8,5,7],\n",
    "   [8,3,1],\n",
    "   [9,7,8]]\n",
    "\n",
    "c=[[0,0,0],\n",
    "   [0,0,0],\n",
    "   [0,0,0]]\n",
    "\n",
    "for i in range(3):\n",
    "    for j in range(3):\n",
    "        c[i][j]+=a[i][j]+b[i][j]\n",
    "print(c)"
   ]
  },
  {
   "cell_type": "code",
   "execution_count": 6,
   "id": "a9dabc6a-d97f-48de-9511-5cf53ec3f411",
   "metadata": {},
   "outputs": [
    {
     "name": "stdout",
     "output_type": "stream",
     "text": [
      "[[6, 0, 2], [10, 10, 10], [6, 3, 5], [9, 4, 6], [1, 1, 2], [1, 0, 9], [9, 4, 10]]\n"
     ]
    }
   ],
   "source": [
    "import random\n",
    "a=[[round(random.random()*10) for i in range(3)] for j in range(7)]\n",
    "print(a)   "
   ]
  },
  {
   "cell_type": "code",
   "execution_count": 13,
   "id": "9babaae3-8a3e-45cf-a657-de80839112de",
   "metadata": {},
   "outputs": [
    {
     "name": "stdout",
     "output_type": "stream",
     "text": [
      "[[8, 8, 7], [9, 4, 1], [4, 5, 0]]\n"
     ]
    }
   ],
   "source": [
    "import random\n",
    "a= [[(round(random.random()*10)) for i in range(3)] for j in range(3)]\n",
    "print(a)"
   ]
  },
  {
   "cell_type": "code",
   "execution_count": null,
   "id": "03ee1bd2-cb4d-4a4d-afa8-81fcc7214216",
   "metadata": {},
   "outputs": [],
   "source": [
    "import random\n",
    "a=[[(round(random.random()*10)for i in range(3)]for j in range(3)]"
   ]
  },
  {
   "cell_type": "code",
   "execution_count": 208,
   "id": "abfd2845-bb62-4fde-9541-9e2d2c47a706",
   "metadata": {},
   "outputs": [
    {
     "name": "stdin",
     "output_type": "stream",
     "text": [
      "kaç satır olsun 2\n",
      "kaç sutun olsun 4\n"
     ]
    },
    {
     "data": {
      "text/plain": [
       "[[7, 6, 2, 7], [1, 9, 1, 5]]"
      ]
     },
     "execution_count": 208,
     "metadata": {},
     "output_type": "execute_result"
    }
   ],
   "source": [
    "satır=int(input(\"kaç satır olsun\"))\n",
    "sutun=int(input(\"kaç sutun olsun\"))\n",
    "def randommatris(satır,sutun):\n",
    "    m=[[(round(random.random()*10)) for i in range(satır)] for j in range(sutun)]\n",
    "    return m\n",
    "def sıfırmatris(satır,sutun):\n",
    "    m=[[ 0 for i in range(satır)] for j in range(sutun)]\n",
    "    return m\n",
    "randommatris(sutun,satır)\n"
   ]
  },
  {
   "cell_type": "code",
   "execution_count": 18,
   "id": "4e12f573-ff1e-4a5a-b0b2-3f6016fa1014",
   "metadata": {},
   "outputs": [
    {
     "name": "stdin",
     "output_type": "stream",
     "text": [
      "kaç satır olsun 2\n",
      "kaç sutun olsun 2\n"
     ]
    },
    {
     "name": "stdout",
     "output_type": "stream",
     "text": [
      "[[3, 8], [6, 9]]\n",
      "[[10, 3], [9, 5]]\n",
      "[[13, 11], [15, 14]]\n"
     ]
    }
   ],
   "source": [
    "satır=int(input(\"kaç satır olsun\"))\n",
    "sutun=int(input(\"kaç sutun olsun\"))\n",
    "def randommatris(satır,sutun):\n",
    "    m=[[round(random.random()*10) for i in range(satır)]for j in range(sutun)]\n",
    "    return m\n",
    "def sifirmatris(satır,sutun):\n",
    "    m= [[round(random.random()*100) for i in range(satır)]for j in range(sutun)]\n",
    "    return m\n",
    "a=randommatris(sutun,satır)\n",
    "b=randommatris(sutun,satır)\n",
    "c=sifirmatris(sutun,satır)\n",
    "print(a)\n",
    "print(b)\n",
    "for i in range(len(a)):\n",
    "    for j in range(len(b[0])):\n",
    "        c[i][j]=a[i][j]+b[i][j]\n",
    "print(c)\n"
   ]
  },
  {
   "cell_type": "code",
   "execution_count": 209,
   "id": "89530060-d7db-4dd5-9586-b693d0786f8e",
   "metadata": {},
   "outputs": [
    {
     "name": "stdout",
     "output_type": "stream",
     "text": [
      "[[9, 10], [2, 6], [1, 2]]\n",
      "[[7, 2], [3, 1], [2, 2]]\n",
      "[[0, 0], [0, 0], [0, 0]]\n",
      "[[16, 12], [5, 7], [3, 4]]\n"
     ]
    }
   ],
   "source": [
    "\n",
    "m1=randommatris(2,3)\n",
    "m2=randommatris(2,3)\n",
    "m3=sıfırmatris(2,3)\n",
    "print(m1)\n",
    "print(m2)\n",
    "print(m3)\n",
    "for i in range(3):\n",
    "    for j in range(2):\n",
    "        m3[i][j]= m1[i][j]+m2[i][j]\n",
    "print(m3)"
   ]
  },
  {
   "cell_type": "code",
   "execution_count": 7,
   "id": "72c455ec-8f29-47ba-9b82-452c2c453022",
   "metadata": {},
   "outputs": [
    {
     "data": {
      "text/plain": [
       "[[15, 15, 15, 15],\n",
       " [15, 15, 15, 15],\n",
       " [15, 15, 15, 15],\n",
       " [15, 15, 15, 15],\n",
       " [15, 15, 15, 15],\n",
       " [15, 15, 15, 15],\n",
       " [15, 15, 15, 15],\n",
       " [15, 15, 15, 15]]"
      ]
     },
     "execution_count": 7,
     "metadata": {},
     "output_type": "execute_result"
    }
   ],
   "source": [
    "[[15 for i in range(4)] for j in range(8)]"
   ]
  },
  {
   "cell_type": "code",
   "execution_count": 32,
   "id": "a34e7ef9-2dff-4e36-aa85-ef623db4839e",
   "metadata": {},
   "outputs": [],
   "source": [
    "#matris toplamı bulunuz\n",
    "def randommatris(satir,sutun):\n",
    "    m=[[(round(random.random()*10)) for i in range(sutun)] for j in range(satir)]\n",
    "    return m\n",
    "def sıfırmatris(satir,sutun):\n",
    "    m=[[ 0 for i in range(sutun)] for j in range(satir)]\n",
    "    return m\n",
    "def sifirliste(satir,sutun):\n",
    "    m=[ 0 for i in range(sutun)] \n",
    "    return m\n",
    "def toplammatris(m1,m2,m3):\n",
    "    for i in range(len(m1)):\n",
    "        for j in range(len(m1[0])):\n",
    "            m3[i][j]=m1[i][j]+m2[i][j]\n",
    "    return m3\n",
    "def satirtopla(m):\n",
    "    A=sifirliste(len(m[0]))\n",
    "    for i in range(len(m[0])):\n",
    "        for j in range(len(m)):\n",
    "            A[i]=A[i]+m[j][i]\n",
    "    return A\n",
    "def sutuntopla(m):\n",
    "    A=sifirliste(len(m))\n",
    "    for i in range(len(m)):\n",
    "        for j in range(len(m[0])):\n",
    "            A[i]=A[i]+m[j][i]\n",
    "    return A"
   ]
  },
  {
   "cell_type": "code",
   "execution_count": 33,
   "id": "a0e48501-d797-4ac4-bb21-d25295923c99",
   "metadata": {},
   "outputs": [
    {
     "name": "stdout",
     "output_type": "stream",
     "text": [
      "[[1, 3, 9, 4], [8, 7, 8, 2]]\n",
      "[[4, 1, 3, 10], [2, 6, 3, 2]]\n",
      "[[5, 4, 12, 14], [10, 13, 11, 4]]\n",
      "[[0, 8, 3, 1], [9, 3, 0, 2]]\n"
     ]
    },
    {
     "ename": "TypeError",
     "evalue": "sifirliste() missing 1 required positional argument: 'sutun'",
     "output_type": "error",
     "traceback": [
      "\u001b[1;31m---------------------------------------------------------------------------\u001b[0m",
      "\u001b[1;31mTypeError\u001b[0m                                 Traceback (most recent call last)",
      "Input \u001b[1;32mIn [33]\u001b[0m, in \u001b[0;36m<cell line: 11>\u001b[1;34m()\u001b[0m\n\u001b[0;32m      9\u001b[0m A\u001b[38;5;241m=\u001b[39mrandommatris(m,n)\n\u001b[0;32m     10\u001b[0m \u001b[38;5;28mprint\u001b[39m(A)\n\u001b[1;32m---> 11\u001b[0m B\u001b[38;5;241m=\u001b[39m\u001b[43msatirtopla\u001b[49m\u001b[43m(\u001b[49m\u001b[43mA\u001b[49m\u001b[43m)\u001b[49m\n\u001b[0;32m     12\u001b[0m \u001b[38;5;28mprint\u001b[39m(B)\n",
      "Input \u001b[1;32mIn [32]\u001b[0m, in \u001b[0;36msatirtopla\u001b[1;34m(m)\u001b[0m\n\u001b[0;32m     16\u001b[0m \u001b[38;5;28;01mdef\u001b[39;00m \u001b[38;5;21msatirtopla\u001b[39m(m):\n\u001b[1;32m---> 17\u001b[0m     A\u001b[38;5;241m=\u001b[39m\u001b[43msifirliste\u001b[49m\u001b[43m(\u001b[49m\u001b[38;5;28;43mlen\u001b[39;49m\u001b[43m(\u001b[49m\u001b[43mm\u001b[49m\u001b[43m[\u001b[49m\u001b[38;5;241;43m0\u001b[39;49m\u001b[43m]\u001b[49m\u001b[43m)\u001b[49m\u001b[43m)\u001b[49m\n\u001b[0;32m     18\u001b[0m     \u001b[38;5;28;01mfor\u001b[39;00m i \u001b[38;5;129;01min\u001b[39;00m \u001b[38;5;28mrange\u001b[39m(\u001b[38;5;28mlen\u001b[39m(m[\u001b[38;5;241m0\u001b[39m])):\n\u001b[0;32m     19\u001b[0m         \u001b[38;5;28;01mfor\u001b[39;00m j \u001b[38;5;129;01min\u001b[39;00m \u001b[38;5;28mrange\u001b[39m(\u001b[38;5;28mlen\u001b[39m(m)):\n",
      "\u001b[1;31mTypeError\u001b[0m: sifirliste() missing 1 required positional argument: 'sutun'"
     ]
    }
   ],
   "source": [
    "m=2;n=4\n",
    "m1=randommatris(m,n)\n",
    "m2=randommatris(m,n)\n",
    "m3=sıfırmatris(m,n)\n",
    "m3=toplammatris(m1,m2,m3)\n",
    "print(m1)\n",
    "print(m2)\n",
    "print(m3)\n",
    "A=randommatris(m,n)\n",
    "print(A)\n",
    "B=satirtopla(A)\n",
    "print(B)"
   ]
  },
  {
   "cell_type": "code",
   "execution_count": 28,
   "id": "6db89db9-5a0e-4be4-b1c6-4f2ada61464f",
   "metadata": {},
   "outputs": [
    {
     "data": {
      "text/plain": [
       "[[0, 0], [0, 0]]"
      ]
     },
     "execution_count": 28,
     "metadata": {},
     "output_type": "execute_result"
    }
   ],
   "source": [
    "[[ 0 for i in range(2)]  for j in range(2)]"
   ]
  },
  {
   "cell_type": "code",
   "execution_count": 99,
   "id": "5fd08961-99ae-4715-884b-e48b2504c4fd",
   "metadata": {},
   "outputs": [],
   "source": [
    "#matristeki tüm sayıları topla ve enbüyüğü bul\n",
    "def randommatris(satir,sutun):\n",
    "    m=[[(round(random.random()*10)) for i in range(sutun)] for j in range(satir)]\n",
    "    return m\n",
    "def sıfırmatris(satir,sutun):\n",
    "    m=[[ 0 for i in range(sutun)] for j in range(satir)]\n",
    "    return m"
   ]
  },
  {
   "cell_type": "code",
   "execution_count": 24,
   "id": "fb46625d-8eb7-4cf2-9b75-f390d6819149",
   "metadata": {},
   "outputs": [
    {
     "name": "stdout",
     "output_type": "stream",
     "text": [
      "[[4, 9], [2, 3]]\n",
      "18\n",
      "9\n"
     ]
    }
   ],
   "source": [
    "a=randommatris(2,2)\n",
    "print(a)\n",
    "tmp=0\n",
    "enb=0\n",
    "for i in range(len(a)):\n",
    "    for j in range(len(a[0])):\n",
    "        if enb<a[i][j]:\n",
    "            enb=a[i][j]\n",
    "        tmp+=a[i][j]\n",
    "print(tmp)\n",
    "print(enb)"
   ]
  },
  {
   "cell_type": "code",
   "execution_count": 88,
   "id": "01777099-1165-4190-9df6-9576bc4c5dd8",
   "metadata": {},
   "outputs": [
    {
     "name": "stdout",
     "output_type": "stream",
     "text": [
      "[[6, 3], [1, 4], [2, 5], [3, 3]]\n",
      "27\n",
      "6\n"
     ]
    }
   ],
   "source": [
    "a=randommatris(2,4)\n",
    "print(a)\n",
    "top=0\n",
    "enb=0\n",
    "for i in range(len(a)):# satırı dön\n",
    "    for j in range(len(a[0])): \n",
    "        top=top + a[i][j]\n",
    "        if a[i][j]>enb:\n",
    "            enb=a[i][j]\n",
    "print(top)\n",
    "print(enb)"
   ]
  },
  {
   "cell_type": "code",
   "execution_count": 58,
   "id": "b3aad076-9501-4505-bafc-7daa52f3d38e",
   "metadata": {},
   "outputs": [
    {
     "name": "stdout",
     "output_type": "stream",
     "text": [
      "[[9, 2, 4, 3], [10, 9, 5, 8]]\n",
      "10\n"
     ]
    }
   ],
   "source": [
    "a=randommatris(2,4)\n",
    "print(a)\n",
    "enb=a[0][0]\n",
    "for i in range(len(a)):# satırı dön\n",
    "    for j in range(len(a[0])): \n",
    "        if a[i][j]>enb:\n",
    "            enb=a[i][j]\n",
    "print(enb)"
   ]
  },
  {
   "cell_type": "code",
   "execution_count": 69,
   "id": "ea4381ea-ff45-447e-a5d3-1b6aebab90a1",
   "metadata": {},
   "outputs": [
    {
     "name": "stdout",
     "output_type": "stream",
     "text": [
      "10\n",
      "10\n",
      "10\n"
     ]
    }
   ],
   "source": [
    "a=[[9, 2, 4, 3], [10, 9, 5, 8]]\n",
    "for i in range(3):\n",
    "    print(a[1][0])"
   ]
  },
  {
   "cell_type": "code",
   "execution_count": 26,
   "id": "f383d65e-3a1f-49bb-bcd6-a0a8183bc3a2",
   "metadata": {},
   "outputs": [
    {
     "name": "stdout",
     "output_type": "stream",
     "text": [
      "hi\n",
      "100\n"
     ]
    }
   ],
   "source": [
    "a=100\n",
    "def f():\n",
    "    a=0\n",
    "    return \"hi\"\n",
    "b=f()\n",
    "print(b)\n",
    "print(a)"
   ]
  },
  {
   "cell_type": "code",
   "execution_count": 110,
   "id": "c6d41cdb-3da8-4146-8d0e-e5c96e629561",
   "metadata": {},
   "outputs": [],
   "source": [
    "def randommatris(satir,sutun):\n",
    "    m=[[(round(random.random()*10)) for i in range(sutun)] for j in range(satir)]\n",
    "    return m\n",
    "def sıfırmatris(satir,sutun):\n",
    "    m=[[ 0 for i in range(sutun)] for j in range(satir)]\n",
    "    return m\n",
    "def sifirliste(m):\n",
    "    m=[ 0 for i in range(sutun)] \n",
    "    return m\n",
    "def satirtopla(m):\n",
    "    a=sifirliste(len(m[0]))\n",
    "    for i in range(len(m[0])):# satırı dön\n",
    "        for j in range(len(m)):\n",
    "            a[i]= a[i]+m[j][i]\n",
    "    return a\n",
    "def sutuntopla(m):\n",
    "    a=sifirliste(len(m))\n",
    "    for i in range(len(m)):\n",
    "        for j in range(len(m[0])):\n",
    "            a[i]=a[i]+m[j][i]\n",
    "    return a"
   ]
  },
  {
   "cell_type": "code",
   "execution_count": 111,
   "id": "52beb96e-aece-4160-a780-ba61f3586043",
   "metadata": {},
   "outputs": [
    {
     "name": "stdout",
     "output_type": "stream",
     "text": [
      "[[3, 7, 3], [1, 6, 5]]\n",
      "[4, 13, 8, 0]\n"
     ]
    },
    {
     "ename": "IndexError",
     "evalue": "list index out of range",
     "output_type": "error",
     "traceback": [
      "\u001b[1;31m---------------------------------------------------------------------------\u001b[0m",
      "\u001b[1;31mIndexError\u001b[0m                                Traceback (most recent call last)",
      "Input \u001b[1;32mIn [111]\u001b[0m, in \u001b[0;36m<cell line: 5>\u001b[1;34m()\u001b[0m\n\u001b[0;32m      3\u001b[0m c\u001b[38;5;241m=\u001b[39msatirtopla(d)\n\u001b[0;32m      4\u001b[0m \u001b[38;5;28mprint\u001b[39m(c)      \n\u001b[1;32m----> 5\u001b[0m e\u001b[38;5;241m=\u001b[39m\u001b[43msutuntopla\u001b[49m\u001b[43m(\u001b[49m\u001b[43md\u001b[49m\u001b[43m)\u001b[49m\n\u001b[0;32m      6\u001b[0m \u001b[38;5;28mprint\u001b[39m(e)\n",
      "Input \u001b[1;32mIn [110]\u001b[0m, in \u001b[0;36msutuntopla\u001b[1;34m(m)\u001b[0m\n\u001b[0;32m     18\u001b[0m \u001b[38;5;28;01mfor\u001b[39;00m i \u001b[38;5;129;01min\u001b[39;00m \u001b[38;5;28mrange\u001b[39m(\u001b[38;5;28mlen\u001b[39m(m)):\n\u001b[0;32m     19\u001b[0m     \u001b[38;5;28;01mfor\u001b[39;00m j \u001b[38;5;129;01min\u001b[39;00m \u001b[38;5;28mrange\u001b[39m(\u001b[38;5;28mlen\u001b[39m(m[\u001b[38;5;241m0\u001b[39m])):\n\u001b[1;32m---> 20\u001b[0m         a[i]\u001b[38;5;241m=\u001b[39ma[i]\u001b[38;5;241m+\u001b[39m\u001b[43mm\u001b[49m\u001b[43m[\u001b[49m\u001b[43mj\u001b[49m\u001b[43m]\u001b[49m[i]\n\u001b[0;32m     21\u001b[0m \u001b[38;5;28;01mreturn\u001b[39;00m a\n",
      "\u001b[1;31mIndexError\u001b[0m: list index out of range"
     ]
    }
   ],
   "source": [
    "d=randommatris(2,3)\n",
    "print(d)\n",
    "c=satirtopla(d)\n",
    "print(c)      \n",
    "e=sutuntopla(d)\n",
    "print(e)"
   ]
  },
  {
   "cell_type": "code",
   "execution_count": 26,
   "id": "dd637540-a636-408c-8376-6e2032274325",
   "metadata": {},
   "outputs": [],
   "source": [
    "#matris transpoz alma \n",
    "def randommatris(satir,sutun):\n",
    "    m=[[(round(random.random()*10)) for i in range(sutun)] for j in range(satir)]\n",
    "    return m\n",
    "def sıfırmatris(satir,sutun):\n",
    "    m=[[ 0 for i in range(sutun)] for j in range(satir)]\n",
    "    return m\n"
   ]
  },
  {
   "cell_type": "code",
   "execution_count": 31,
   "id": "4564dc9c-6ddd-4ce5-9493-ae364579fb0f",
   "metadata": {},
   "outputs": [
    {
     "name": "stdin",
     "output_type": "stream",
     "text": [
      "kaç satır olsun 3\n",
      "kaç sutun olsun 3\n"
     ]
    },
    {
     "name": "stdout",
     "output_type": "stream",
     "text": [
      "[[3, 1, 1], [5, 8, 10], [10, 4, 7]]\n",
      "[[0, 0, 0], [0, 0, 0], [0, 0, 0]]\n",
      "[[3, 5, 10], [1, 8, 4], [1, 10, 7]]\n"
     ]
    }
   ],
   "source": [
    "a=randommatris(satir,sutun)\n",
    "print(a)\n",
    "mt=sıfırmatris(satir,sutun)\n",
    "print(mt)\n",
    "for i in range(3):\n",
    "    for j in range(3):\n",
    "        mt[j][i]=a[i][j]\n",
    "print(mt)"
   ]
  },
  {
   "cell_type": "code",
   "execution_count": 113,
   "id": "012c48f6-2d18-4501-ab07-4088eb1101ce",
   "metadata": {},
   "outputs": [
    {
     "name": "stdout",
     "output_type": "stream",
     "text": [
      "10\n"
     ]
    }
   ],
   "source": [
    "#matris diagonal toplam\n",
    "mx=[[1,5,3],\n",
    "    [6,2,9],\n",
    "    [2,4,7]]\n",
    "matris_izi=0\n",
    "for i in range(len(mx)):\n",
    "    for x in range(len(mx[0])):\n",
    "        if i==x:\n",
    "            matris_izi+=mx[i][x]\n",
    "print(matris_izi)"
   ]
  },
  {
   "cell_type": "code",
   "execution_count": 33,
   "id": "cc003641-e8af-46a1-aa1f-dc6ed8999496",
   "metadata": {},
   "outputs": [
    {
     "name": "stdin",
     "output_type": "stream",
     "text": [
      "gir 2\n",
      "kaçıncısatır 2\n",
      "kaçıncı sütün 3\n"
     ]
    },
    {
     "name": "stdout",
     "output_type": "stream",
     "text": [
      "[[0, 0], [0, 0], [0, 0]]\n",
      "[[0, 0], [0, 2], [0, 0]]\n"
     ]
    }
   ],
   "source": [
    "verilensayi=int(input(\"gir\"))\n",
    "indexno=int(input(\"kaçıncısatır\"))\n",
    "indexno1=int(input(\"kaçıncı sütün\"))\n",
    "mx= [[0 for i in range(2)]for j in range(3)]\n",
    "print(mx)\n",
    "for i in range(len(mx)):\n",
    "    for x in range(len(mx[0])):\n",
    "        mx[indexno-1][indexno1-2] = verilensayi\n",
    "print(mx)"
   ]
  },
  {
   "cell_type": "code",
   "execution_count": 162,
   "id": "9e34b952-11ce-4dc1-be4f-2f563dedd6bf",
   "metadata": {},
   "outputs": [
    {
     "name": "stdin",
     "output_type": "stream",
     "text": [
      " 89\n"
     ]
    },
    {
     "name": "stdout",
     "output_type": "stream",
     "text": [
      "[[0, 0], [0, 0], [89, 0]]\n"
     ]
    }
   ],
   "source": [
    "#Verilen sayıyı matrisin k. indeksine yerleştir?\n",
    "eklenecek = int(input())\n",
    "satır = 3\n",
    "sutun = 2\n",
    "a = [[0 for i in range(2)]for j in range(3)]\n",
    "a[satır-1][sutun-2] = eklenecek\n",
    "print(a)\n"
   ]
  },
  {
   "cell_type": "code",
   "execution_count": 134,
   "id": "ae1bf36f-471b-42b3-b032-2115f49fb26a",
   "metadata": {},
   "outputs": [
    {
     "name": "stdout",
     "output_type": "stream",
     "text": [
      "[[24, 224, 36], [108, 49, -16], [11, 9, 273]]\n"
     ]
    }
   ],
   "source": [
    "#matris çarpım\n",
    "M1 = [[8, 14, -6], \n",
    "      [12,7,4], \n",
    "      [-11,3,21]]\n",
    "\n",
    "M2 = [[3, 16, -6],\n",
    "           [9,7,-4], \n",
    "           [-1,3,13]]\n",
    "\n",
    "M3  = [[0,0,0],\n",
    "       [0,0,0],\n",
    "       [0,0,0]]\n",
    "\n",
    "for i in range(len(M1)):\n",
    "    for j in range(len(M2[0])):\n",
    "        M3[i][j] = M1[i][j] * M2[i][j]\n",
    "print( M3)"
   ]
  },
  {
   "cell_type": "code",
   "execution_count": 207,
   "id": "c966a0d3-a3a3-4a3c-9373-552e5c0e6704",
   "metadata": {},
   "outputs": [
    {
     "name": "stdin",
     "output_type": "stream",
     "text": [
      "sayı olsun 5\n"
     ]
    },
    {
     "name": "stdout",
     "output_type": "stream",
     "text": [
      "[[0, 0, 0, 0, 0], [0, 0, 0, 0, 0], [0, 0, 0, 0, 0], [0, 0, 0, 0, 0], [0, 0, 0, 0, 0]]\n",
      "[[1, 2, 3, 4, 5], [6, 7, 8, 9, 10], [11, 12, 13, 14, 15], [16, 17, 18, 19, 20], [21, 22, 23, 24, 25]]\n"
     ]
    }
   ],
   "source": [
    "#Girilen N değerine göre NxN boyutlu bir matrisin hücrelerine 1 den NxN'e kadar sayıları yerleştir.\n",
    "N=int(input(\"sayı olsun\"))\n",
    "A=[[ 0 for i in range(N)]for j in range(N)]\n",
    "print(A)\n",
    "b=1\n",
    "for i in range(len(A)):\n",
    "    for j in range(len(A[0])):\n",
    "        A[i][j]=b\n",
    "        b+=1\n",
    "print(A)"
   ]
  },
  {
   "cell_type": "code",
   "execution_count": 167,
   "id": "0506e221-7bbd-437c-9b66-f095eca11bc9",
   "metadata": {},
   "outputs": [
    {
     "name": "stdout",
     "output_type": "stream",
     "text": [
      "10\n"
     ]
    }
   ],
   "source": []
  },
  {
   "cell_type": "code",
   "execution_count": 175,
   "id": "c5068316-e092-40e9-95ea-4e6f3009a3d1",
   "metadata": {},
   "outputs": [
    {
     "name": "stdin",
     "output_type": "stream",
     "text": [
      "gir 3\n",
      "kaçıncısatır 0\n",
      "kaçıncı sütün 0\n"
     ]
    },
    {
     "name": "stdout",
     "output_type": "stream",
     "text": [
      "[[0, 0], [0, 0], [3, 0]]\n"
     ]
    }
   ],
   "source": [
    "verilensayi=int(input(\"gir\"))\n",
    "indexno=int(input(\"kaçıncısatır\"))\n",
    "indexno1=int(input(\"kaçıncı sütün\"))\n",
    "mx= [[0 for i in range(2)]for j in range(3)]\n",
    "for i in range(len(mx)):\n",
    "    for x in range(len(mx[0])):\n",
    "        mx[indexno-1][indexno1-2] = verilensayi\n",
    "print(mx)"
   ]
  },
  {
   "cell_type": "code",
   "execution_count": 171,
   "id": "92e16293-8994-44bd-8135-a389c52d781c",
   "metadata": {},
   "outputs": [
    {
     "name": "stdin",
     "output_type": "stream",
     "text": [
      " 5\n"
     ]
    },
    {
     "name": "stdout",
     "output_type": "stream",
     "text": [
      "[[0, 0], [0, 0], [5, 0]]\n"
     ]
    }
   ],
   "source": [
    "#Verilen sayıyı matrisin k. indeksine yerleştir?\n",
    "eklenecek = int(input())\n",
    "satır = 3\n",
    "sutun = 2\n",
    "a = [[0 for i in range(2)]for j in range(3)]\n",
    "a[satır-1][sutun-2] = eklenecek\n",
    "print(a)"
   ]
  },
  {
   "cell_type": "code",
   "execution_count": 191,
   "id": "704ebaef-3166-4e1a-92ab-60fa7fa7e52c",
   "metadata": {},
   "outputs": [
    {
     "name": "stdout",
     "output_type": "stream",
     "text": [
      "81\n"
     ]
    }
   ],
   "source": [
    "a= int(random.random()*100)\n",
    "print(a)"
   ]
  },
  {
   "cell_type": "code",
   "execution_count": 198,
   "id": "5bd621a1-1d73-4dea-add7-798340c31f94",
   "metadata": {},
   "outputs": [
    {
     "name": "stdout",
     "output_type": "stream",
     "text": [
      "Taş kağıt makas oyunu\n"
     ]
    },
    {
     "name": "stdin",
     "output_type": "stream",
     "text": [
      "giriniz taş\n"
     ]
    },
    {
     "name": "stdout",
     "output_type": "stream",
     "text": [
      "bilgisayar : taş\n"
     ]
    }
   ],
   "source": [
    "\n"
   ]
  },
  {
   "cell_type": "code",
   "execution_count": 194,
   "id": "102963e3-b9a8-4d2e-bd34-89f7e71745ea",
   "metadata": {},
   "outputs": [
    {
     "data": {
      "text/plain": [
       "3"
      ]
     },
     "execution_count": 194,
     "metadata": {},
     "output_type": "execute_result"
    }
   ],
   "source": [
    "random.randint(1,3)"
   ]
  },
  {
   "cell_type": "code",
   "execution_count": null,
   "id": "d0f307a1-48da-4858-af8e-632ca41f9841",
   "metadata": {},
   "outputs": [],
   "source": [
    "#0-1 değerlerini içeren bir matristeki nesnenin kenarlarını hesapla."
   ]
  },
  {
   "cell_type": "code",
   "execution_count": 206,
   "id": "4ed217e3-c9d5-49d7-8ebc-6495c1363d07",
   "metadata": {},
   "outputs": [
    {
     "name": "stdout",
     "output_type": "stream",
     "text": [
      "[[0, 0, 0], [0, 0, 0], [0, 0, 0]]\n"
     ]
    },
    {
     "ename": "IndexError",
     "evalue": "list assignment index out of range",
     "output_type": "error",
     "traceback": [
      "\u001b[1;31m---------------------------------------------------------------------------\u001b[0m",
      "\u001b[1;31mIndexError\u001b[0m                                Traceback (most recent call last)",
      "Input \u001b[1;32mIn [206]\u001b[0m, in \u001b[0;36m<cell line: 4>\u001b[1;34m()\u001b[0m\n\u001b[0;32m      3\u001b[0m l\u001b[38;5;241m=\u001b[39m[\u001b[38;5;241m1\u001b[39m,\u001b[38;5;241m1\u001b[39m]\n\u001b[0;32m      4\u001b[0m \u001b[38;5;28;01mfor\u001b[39;00m x \u001b[38;5;129;01min\u001b[39;00m \u001b[38;5;28mrange\u001b[39m(\u001b[38;5;28mlen\u001b[39m(a)):   \n\u001b[1;32m----> 5\u001b[0m     a[i][j]\u001b[38;5;241m=\u001b[39m[\u001b[38;5;241m0\u001b[39m][\u001b[38;5;241m0\u001b[39m]\n\u001b[0;32m      6\u001b[0m \u001b[38;5;28mprint\u001b[39m(a)\n",
      "\u001b[1;31mIndexError\u001b[0m: list assignment index out of range"
     ]
    }
   ],
   "source": [
    "a=[[0 for i in range(3)]for j in range(3) ]\n",
    "print(a)\n",
    "l=[1,1]\n",
    "for x in range(len(a)):   \n",
    "    a[i][j]=[0][0]\n",
    "print(a)"
   ]
  },
  {
   "cell_type": "code",
   "execution_count": null,
   "id": "a155cd3b-6360-466a-8482-57754a05e07b",
   "metadata": {},
   "outputs": [],
   "source": []
  }
 ],
 "metadata": {
  "kernelspec": {
   "display_name": "Python 3 (ipykernel)",
   "language": "python",
   "name": "python3"
  },
  "language_info": {
   "codemirror_mode": {
    "name": "ipython",
    "version": 3
   },
   "file_extension": ".py",
   "mimetype": "text/x-python",
   "name": "python",
   "nbconvert_exporter": "python",
   "pygments_lexer": "ipython3",
   "version": "3.9.12"
  }
 },
 "nbformat": 4,
 "nbformat_minor": 5
}
