{
 "cells": [
  {
   "cell_type": "code",
   "execution_count": 52,
   "id": "9287771a-a302-4b26-9910-c9a45b2ad878",
   "metadata": {},
   "outputs": [
    {
     "name": "stdout",
     "output_type": "stream",
     "text": [
      "as\n",
      "sa\n"
     ]
    }
   ],
   "source": [
    "def hello():\n",
    "    print(\"as\")\n",
    "    print(\"sa\")\n",
    "hello()"
   ]
  },
  {
   "cell_type": "code",
   "execution_count": 2,
   "id": "c266fe78-c8bf-4af1-8941-291d894e27db",
   "metadata": {},
   "outputs": [
    {
     "name": "stdout",
     "output_type": "stream",
     "text": [
      "sa başkan\n"
     ]
    }
   ],
   "source": [
    "def hello(name):\n",
    "    print(\"sa\",name)\n",
    "hello(\"başkan\")"
   ]
  },
  {
   "cell_type": "code",
   "execution_count": 9,
   "id": "fd64fd1b-83d3-4cfa-8948-3870a3b3a5e2",
   "metadata": {},
   "outputs": [
    {
     "name": "stdout",
     "output_type": "stream",
     "text": [
      "hi my frined\n",
      "ı am writing function on the screen\n"
     ]
    }
   ],
   "source": [
    "def beniyaz(str):\n",
    "    print(str)\n",
    "beniyaz(\"hi my frined\")\n",
    "beniyaz(\"ı am writing function on the screen\")"
   ]
  },
  {
   "cell_type": "code",
   "execution_count": 119,
   "id": "0abe8238-5bb7-4eef-9334-62c99376c7c1",
   "metadata": {},
   "outputs": [
    {
     "name": "stdin",
     "output_type": "stream",
     "text": [
      "rakam qq 5\n"
     ]
    },
    {
     "name": "stdout",
     "output_type": "stream",
     "text": [
      "girmez\n"
     ]
    }
   ],
   "source": [
    "n = int(input(\"rakam qq\"))\n",
    "if 5<n<15:\n",
    "    print(n)\n",
    "else:\n",
    "    print(\"girmez\")"
   ]
  },
  {
   "cell_type": "code",
   "execution_count": 16,
   "id": "7929a677-dec3-4864-be8b-ca029b38216e",
   "metadata": {},
   "outputs": [
    {
     "name": "stdout",
     "output_type": "stream",
     "text": [
      "11\n"
     ]
    }
   ],
   "source": [
    "def top(a,b):\n",
    "    toplam = a + b\n",
    "    return toplam\n",
    "fark =top(5,18)-top(5,7)\n",
    "print(fark)"
   ]
  },
  {
   "cell_type": "code",
   "execution_count": 13,
   "id": "fbe10d3f-4c16-44ed-bdd2-7b59f13956a8",
   "metadata": {},
   "outputs": [
    {
     "data": {
      "text/plain": [
       "14"
      ]
     },
     "execution_count": 13,
     "metadata": {},
     "output_type": "execute_result"
    }
   ],
   "source": [
    "toplam=0\n",
    "def topla(a,b):\n",
    "    toplam=a+b\n",
    "    return toplam\n",
    "topla(8,6)"
   ]
  },
  {
   "cell_type": "code",
   "execution_count": null,
   "id": "00183034-4a70-42cf-ba82-13a3cc3f18c9",
   "metadata": {},
   "outputs": [],
   "source": []
  },
  {
   "cell_type": "code",
   "execution_count": 7,
   "id": "4e7a04e0-cd0b-45d5-b711-c9b18fc65b2e",
   "metadata": {},
   "outputs": [
    {
     "name": "stdout",
     "output_type": "stream",
     "text": [
      "13\n",
      "17\n"
     ]
    }
   ],
   "source": [
    "def top(a,b):\n",
    "    toplam=a+b\n",
    "    print( toplam)\n",
    "top(5,8)\n",
    "top(8,9)"
   ]
  },
  {
   "cell_type": "code",
   "execution_count": 20,
   "id": "84101994-623d-4d5b-a1b5-66b02f6278ec",
   "metadata": {},
   "outputs": [
    {
     "name": "stdout",
     "output_type": "stream",
     "text": [
      "hasan\n",
      "25\n"
     ]
    }
   ],
   "source": [
    "def printinfo(age,name):\n",
    "    print(name)\n",
    "    print(age)\n",
    "    return\n",
    "printinfo(name=\"hasan\",age=25)"
   ]
  },
  {
   "cell_type": "code",
   "execution_count": 23,
   "id": "86262ace-8aa1-4961-b774-6bee63f2518b",
   "metadata": {},
   "outputs": [
    {
     "name": "stdout",
     "output_type": "stream",
     "text": [
      "malatya\n",
      "25\n",
      "h\n"
     ]
    }
   ],
   "source": [
    "def info(name,age,local):\n",
    "    print(local)\n",
    "    print(age)\n",
    "    print(name)\n",
    "    return\n",
    "info(name=\"h\",age=25,local=\"malatya\")"
   ]
  },
  {
   "cell_type": "code",
   "execution_count": 22,
   "id": "a18be60c-83c4-4d43-990e-d7db13295f84",
   "metadata": {},
   "outputs": [
    {
     "name": "stdout",
     "output_type": "stream",
     "text": [
      "hasan\n",
      "0\n"
     ]
    }
   ],
   "source": [
    "#Bağımsız değişken\n",
    "def printinfo(age=0,name=\"h\"):\n",
    "    print(name)\n",
    "    print(age)\n",
    "    return\n",
    "printinfo(name=\"hasan\")"
   ]
  },
  {
   "cell_type": "code",
   "execution_count": 26,
   "id": "3fe5e49d-fbdd-4103-9304-9f399f81ce15",
   "metadata": {},
   "outputs": [
    {
     "name": "stdout",
     "output_type": "stream",
     "text": [
      "5\n",
      "8\n"
     ]
    }
   ],
   "source": [
    "#değişen uzunlukta parametreler\n",
    "def printinfo(arg1,*vartuple):\n",
    "    print(arg1)\n",
    "    for var in vartuple:\n",
    "        print(var)\n",
    "    return\n",
    "printinfo(5,8)\n",
    "    "
   ]
  },
  {
   "cell_type": "code",
   "execution_count": 29,
   "id": "746f329c-6eb5-485c-9907-c9942f374052",
   "metadata": {},
   "outputs": [
    {
     "data": {
      "text/plain": [
       "30"
      ]
     },
     "execution_count": 29,
     "metadata": {},
     "output_type": "execute_result"
    }
   ],
   "source": [
    "top = lambda a,b : a + b\n",
    "top(10,20)"
   ]
  },
  {
   "cell_type": "code",
   "execution_count": 33,
   "id": "9b4f8ae1-67e9-4e94-afb9-512a18231774",
   "metadata": {},
   "outputs": [
    {
     "name": "stdout",
     "output_type": "stream",
     "text": [
      "old list = [8, 50, 20]\n",
      "new list [8, 50, 5]\n",
      "now [8, 50, 5]\n"
     ]
    }
   ],
   "source": [
    "#global değişken fonksiyonun dışonda\n",
    "def değişken(liste):\n",
    "    print(\"old list =\",liste)\n",
    "    liste[2]=5\n",
    "    print(\"new list\",liste)\n",
    "    return\n",
    "\n",
    "liste = [8,50,20]\n",
    "değişken(liste)\n",
    "print(\"now\",liste)"
   ]
  },
  {
   "cell_type": "code",
   "execution_count": 35,
   "id": "834b49ce-aafa-4d40-bfc2-e3eb1e73b9bd",
   "metadata": {},
   "outputs": [
    {
     "name": "stdout",
     "output_type": "stream",
     "text": [
      "my newe list [5, 8, 1]\n",
      "first list [99, 77]\n"
     ]
    }
   ],
   "source": [
    "#lokal değişken\n",
    "def değişbeni(mylist):\n",
    "    mylist = [5,8,1]\n",
    "    print(\"my newe list\",mylist)\n",
    "\n",
    "mylist=[99,77]\n",
    "değişbeni(mylist)\n",
    "print(\"first list\",mylist)"
   ]
  },
  {
   "cell_type": "code",
   "execution_count": 25,
   "id": "87ce7207-af4e-4ac1-831f-9d99743c6f7e",
   "metadata": {},
   "outputs": [
    {
     "data": {
      "text/plain": [
       "120"
      ]
     },
     "execution_count": 25,
     "metadata": {},
     "output_type": "execute_result"
    }
   ],
   "source": [
    "def fak(a):\n",
    "    çarpım=1\n",
    "    while 0<a:\n",
    "        çarpım*=a\n",
    "        a-=1\n",
    "    return çarpım\n",
    "fak(5)"
   ]
  },
  {
   "cell_type": "code",
   "execution_count": 2,
   "id": "40f90905-0aa1-4a55-9d2d-fc0eb33f3bf2",
   "metadata": {},
   "outputs": [
    {
     "data": {
      "text/plain": [
       "120"
      ]
     },
     "execution_count": 2,
     "metadata": {},
     "output_type": "execute_result"
    }
   ],
   "source": [
    "def fak(a):\n",
    "    çarpım=1\n",
    "    while a>0:\n",
    "        çarpım*=a\n",
    "        a-=1\n",
    "    return çarpım\n",
    "fak(5)       "
   ]
  },
  {
   "cell_type": "code",
   "execution_count": 37,
   "id": "4cb7a232-6b92-4c2d-b3a8-9f6c17d9f7e4",
   "metadata": {},
   "outputs": [],
   "source": [
    "def fak(n):\n",
    "    i =1\n",
    "    fak=1\n",
    "    while i<n+1:\n",
    "        fak *=i\n",
    "        i+=1\n",
    "    return fak\n"
   ]
  },
  {
   "cell_type": "code",
   "execution_count": 40,
   "id": "d168cf08-04d2-4194-9770-68b120ccd31b",
   "metadata": {},
   "outputs": [
    {
     "data": {
      "text/plain": [
       "24"
      ]
     },
     "execution_count": 40,
     "metadata": {},
     "output_type": "execute_result"
    }
   ],
   "source": [
    "fak(4)"
   ]
  },
  {
   "cell_type": "code",
   "execution_count": 39,
   "id": "059a3fc1-fdcb-45d6-8cc6-1d95f442de32",
   "metadata": {},
   "outputs": [
    {
     "name": "stdout",
     "output_type": "stream",
     "text": [
      "0!=1\n",
      "1!=1\n",
      "2!=2\n",
      "3!=6\n",
      "4!=24\n",
      "5!=120\n",
      "6!=720\n",
      "7!=5040\n",
      "8!=40320\n",
      "9!=362880\n"
     ]
    }
   ],
   "source": [
    "for i in range(10):\n",
    "    print(str(i)+\"!\"+\"=\"+str(fak(i)))"
   ]
  },
  {
   "cell_type": "code",
   "execution_count": 117,
   "id": "bf670ba3-effe-44e5-88e0-0e9d4e341c47",
   "metadata": {},
   "outputs": [
    {
     "data": {
      "text/plain": [
       "120"
      ]
     },
     "execution_count": 117,
     "metadata": {},
     "output_type": "execute_result"
    }
   ],
   "source": [
    "def fak(a):\n",
    "    sonuc =1\n",
    "    for i in range(a,1,-1):\n",
    "        sonuc *=i\n",
    "    return sonuc\n",
    "fak(5)"
   ]
  },
  {
   "cell_type": "code",
   "execution_count": 30,
   "id": "62919a7e-7dd4-47b2-a223-0ff3466e693f",
   "metadata": {},
   "outputs": [
    {
     "data": {
      "text/plain": [
       "24"
      ]
     },
     "execution_count": 30,
     "metadata": {},
     "output_type": "execute_result"
    }
   ],
   "source": [
    "def fak(a):\n",
    "    sonuc=1\n",
    "    for i in range(1,a):\n",
    "        sonuc*=i\n",
    "    return sonuc\n",
    "fak(5)"
   ]
  },
  {
   "cell_type": "code",
   "execution_count": 43,
   "id": "0734f97a-4c92-4ed1-b47e-7dfa3ca1ec25",
   "metadata": {},
   "outputs": [
    {
     "data": {
      "text/plain": [
       "120"
      ]
     },
     "execution_count": 43,
     "metadata": {},
     "output_type": "execute_result"
    }
   ],
   "source": [
    "def fak(a):\n",
    "    sonuc=1\n",
    "    for i in range(a,1,-1):\n",
    "        sonuc*=i\n",
    "    return sonuc\n",
    "fak(5)"
   ]
  },
  {
   "cell_type": "code",
   "execution_count": 118,
   "id": "239d1803-7559-45b5-b7a4-f8a0d0f8025e",
   "metadata": {},
   "outputs": [
    {
     "name": "stdout",
     "output_type": "stream",
     "text": [
      "0!=1\n",
      "1!=1\n",
      "2!=2\n",
      "3!=6\n",
      "4!=24\n",
      "5!=120\n",
      "6!=720\n",
      "7!=5040\n",
      "8!=40320\n",
      "9!=362880\n"
     ]
    }
   ],
   "source": [
    "for i in range(10):\n",
    "    print(str(i)+\"!\"+\"=\"+str(fak(i)))"
   ]
  },
  {
   "cell_type": "code",
   "execution_count": 37,
   "id": "17d125f3-680f-4348-a935-9cc0d5030928",
   "metadata": {},
   "outputs": [],
   "source": [
    "#İlk N asal sayısını listeleyen program?\n",
    "def asalmi(p):\n",
    "    sonuc=1\n",
    "    for i in range(2,p):\n",
    "        if p%i==0:\n",
    "            sonuc=0\n",
    "            break\n",
    "    return sonuc"
   ]
  },
  {
   "cell_type": "code",
   "execution_count": 73,
   "id": "854e3073-c5ef-43e6-9cc5-08323d8cbd7b",
   "metadata": {},
   "outputs": [
    {
     "data": {
      "text/plain": [
       "0"
      ]
     },
     "execution_count": 73,
     "metadata": {},
     "output_type": "execute_result"
    }
   ],
   "source": [
    "def asalmi(a):\n",
    "    sonuc=1\n",
    "    for i in range(2,a):\n",
    "        if a%i==0:\n",
    "            sonuc=0\n",
    "            break\n",
    "    return sonuc\n",
    "asalmi(9)"
   ]
  },
  {
   "cell_type": "code",
   "execution_count": 39,
   "id": "81ba0b86-aa3b-4b38-a735-1c9a7522f837",
   "metadata": {},
   "outputs": [
    {
     "ename": "SyntaxError",
     "evalue": "invalid syntax (3965855937.py, line 2)",
     "output_type": "error",
     "traceback": [
      "\u001b[1;36m  Input \u001b[1;32mIn [39]\u001b[1;36m\u001b[0m\n\u001b[1;33m    c=0\u001b[0m\n\u001b[1;37m    ^\u001b[0m\n\u001b[1;31mSyntaxError\u001b[0m\u001b[1;31m:\u001b[0m invalid syntax\n"
     ]
    }
   ],
   "source": [
    "n=int(input(\"ilk kaç asal sayıyı bulayım olsun\")\n",
    "c=0      \n",
    "sayi=2\n",
    "while n>c:\n",
    "    if asalmi(sayi)==1:\n",
    "        c+=1\n",
    "    sayi+=1\n"
   ]
  },
  {
   "cell_type": "code",
   "execution_count": 40,
   "id": "48d3e8e5-af22-46bb-9b72-df885210bd88",
   "metadata": {},
   "outputs": [
    {
     "ename": "SyntaxError",
     "evalue": "invalid syntax (340648928.py, line 3)",
     "output_type": "error",
     "traceback": [
      "\u001b[1;36m  Input \u001b[1;32mIn [40]\u001b[1;36m\u001b[0m\n\u001b[1;33m    sayi=2\u001b[0m\n\u001b[1;37m    ^\u001b[0m\n\u001b[1;31mSyntaxError\u001b[0m\u001b[1;31m:\u001b[0m invalid syntax\n"
     ]
    }
   ],
   "source": [
    "c=0 #kaç asala olduğu\n",
    "n=int(input(\"ilk kaç asal sayıyı bulayım\")\n",
    "sayi=2\n",
    "while N>c:\n",
    "    if asalmi(sayi) == 1:\n",
    "        print(sayi)\n",
    "        c+=1\n",
    "    sayi+=1\n",
    "    \n",
    "      \n",
    "    "
   ]
  },
  {
   "cell_type": "code",
   "execution_count": 69,
   "id": "f36c1035-aa8f-4e16-88cd-771e18a16ece",
   "metadata": {},
   "outputs": [],
   "source": [
    "#Girilen sayının kaç faktöriyel olduğunu bulunuz (720=6!)\n",
    "def fak(a):\n",
    "    sonuc =1\n",
    "    for i in range(a,1,-1):\n",
    "        sonuc *=i\n",
    "    return sonuc"
   ]
  },
  {
   "cell_type": "code",
   "execution_count": 71,
   "id": "cd140f7c-d8c1-461f-9dbc-b886a393f57e",
   "metadata": {},
   "outputs": [
    {
     "ename": "SyntaxError",
     "evalue": "invalid syntax (3659136494.py, line 2)",
     "output_type": "error",
     "traceback": [
      "\u001b[1;36m  Input \u001b[1;32mIn [71]\u001b[1;36m\u001b[0m\n\u001b[1;33m    c=2\u001b[0m\n\u001b[1;37m    ^\u001b[0m\n\u001b[1;31mSyntaxError\u001b[0m\u001b[1;31m:\u001b[0m invalid syntax\n"
     ]
    }
   ],
   "source": [
    "n=int(input(\"girilen sayın\")\n",
    "c=2\n",
    "while n>c:\n",
    "    if n==fak(a):\n",
    "      print(c,\"!\")\n",
    "      break\n",
    "    else:\n",
    "      if n<fak(a):\n",
    "          print(c-1,\"!-\",c,\"!\")\n",
    "          break\n",
    "    c+=1\n",
    "      \n",
    "      \n",
    "          \n",
    "      "
   ]
  },
  {
   "cell_type": "code",
   "execution_count": 72,
   "id": "efb93dae-d58b-4108-b1f4-297243c10fd4",
   "metadata": {},
   "outputs": [
    {
     "name": "stdin",
     "output_type": "stream",
     "text": [
      "gir 8\n",
      "gir 7\n"
     ]
    },
    {
     "name": "stdout",
     "output_type": "stream",
     "text": [
      "8\n"
     ]
    }
   ],
   "source": [
    "#hanngi sayım büyük \n",
    "def top(a,c):\n",
    "    if a>c:\n",
    "        print(a)\n",
    "    else:\n",
    "        print(c)\n",
    "sayı1= int(input(\"gir\"))\n",
    "sayı2=int(input(\"gir\"))\n",
    "top(sayı1,sayı2)"
   ]
  },
  {
   "cell_type": "code",
   "execution_count": 3,
   "id": "d6335cd4-f3a6-4273-a972-39f522483039",
   "metadata": {},
   "outputs": [
    {
     "name": "stdout",
     "output_type": "stream",
     "text": [
      "b büyük\n"
     ]
    }
   ],
   "source": [
    "def byk(a,b):\n",
    "    if a>b:\n",
    "        print(\"abüyük\")\n",
    "    else:\n",
    "        print(\"b büyük\")\n",
    "byk(8,15)"
   ]
  },
  {
   "cell_type": "code",
   "execution_count": 51,
   "id": "a39e3b7a-841b-4ef0-97f0-d1763c70f569",
   "metadata": {},
   "outputs": [
    {
     "name": "stdout",
     "output_type": "stream",
     "text": [
      "['8', '4', '8', '5', '7', '7', '8']\n"
     ]
    },
    {
     "data": {
      "text/plain": [
       "list"
      ]
     },
     "execution_count": 51,
     "metadata": {},
     "output_type": "execute_result"
    }
   ],
   "source": [
    "#Listede en fazla tekrar eden elemanı silen program?\n",
    "L=[8,4,8,55,5,7,7,8]\n",
    "a=[]\n",
    "b=0\n",
    "for i in L:\n",
    "    if \n",
    "    \n",
    "    \n",
    "type(a)\n",
    "    "
   ]
  },
  {
   "cell_type": "code",
   "execution_count": null,
   "id": "f178798a-5ea5-4b73-bc58-72b2515d49f1",
   "metadata": {},
   "outputs": [],
   "source": [
    "L=[]\n",
    " a int(input(\"kaç rakam gireyim\")\n",
    "for i in range(n):\n",
    "    int(input(\"kaç rakam gireyim\")"
   ]
  },
  {
   "cell_type": "code",
   "execution_count": 19,
   "id": "507e03e4-0d4b-4cc1-8999-7ae701509009",
   "metadata": {},
   "outputs": [
    {
     "name": "stdout",
     "output_type": "stream",
     "text": [
      "far\n",
      "yok\n",
      "yok\n",
      "yok\n",
      "far\n"
     ]
    }
   ],
   "source": [
    "l=[5,7,8,9,5]\n",
    "a=5\n",
    "for i in range(len(l)):\n",
    "        if a==l[i]:\n",
    "            print(\"far\")\n",
    "        else:\n",
    "            print(\"yok\")"
   ]
  },
  {
   "cell_type": "code",
   "execution_count": 14,
   "id": "82c1c888-233d-4cda-87db-ec5de2275036",
   "metadata": {},
   "outputs": [
    {
     "name": "stdout",
     "output_type": "stream",
     "text": [
      "[7, 7, 8, 9, 7]\n"
     ]
    }
   ],
   "source": [
    "for i in range(len(l)):\n",
    "    if l[i]\n",
    "        l[i]=7\n",
    "print(l)"
   ]
  },
  {
   "cell_type": "code",
   "execution_count": 5,
   "id": "9990febf-3918-40c7-bf9b-92005c71e9b0",
   "metadata": {},
   "outputs": [
    {
     "name": "stdin",
     "output_type": "stream",
     "text": [
      "bir sayı gir:  5\n",
      "kaçınıcı satır:  3\n",
      "kaçınıcı sütun:  1\n"
     ]
    },
    {
     "ename": "IndexError",
     "evalue": "list index out of range",
     "output_type": "error",
     "traceback": [
      "\u001b[1;31m---------------------------------------------------------------------------\u001b[0m",
      "\u001b[1;31mIndexError\u001b[0m                                Traceback (most recent call last)",
      "Input \u001b[1;32mIn [5]\u001b[0m, in \u001b[0;36m<cell line: 7>\u001b[1;34m()\u001b[0m\n\u001b[0;32m      7\u001b[0m \u001b[38;5;28;01mfor\u001b[39;00m i \u001b[38;5;129;01min\u001b[39;00m \u001b[38;5;28mrange\u001b[39m(\u001b[38;5;28mlen\u001b[39m(mx)):\n\u001b[0;32m      8\u001b[0m     \u001b[38;5;28;01mfor\u001b[39;00m j \u001b[38;5;129;01min\u001b[39;00m \u001b[38;5;28mrange\u001b[39m(\u001b[38;5;28mlen\u001b[39m(mx[\u001b[38;5;241m0\u001b[39m])):\n\u001b[1;32m----> 9\u001b[0m         \u001b[43mmx\u001b[49m\u001b[43m[\u001b[49m\u001b[43mino\u001b[49m\u001b[43m]\u001b[49m[ino1]\u001b[38;5;241m=\u001b[39mvs\n\u001b[0;32m     10\u001b[0m \u001b[38;5;28mprint\u001b[39m(mx)\n",
      "\u001b[1;31mIndexError\u001b[0m: list index out of range"
     ]
    }
   ],
   "source": [
    "vs= int(input(\"bir sayı gir: \"))\n",
    "ino=int(input(\"kaçınıcı satır: \"))\n",
    "ino1=int(input(\"kaçınıcı sütun: \"))\n",
    "mx=[[1,2,3],\n",
    "    [4,5,6],\n",
    "    [7,8,9]]\n",
    "for i in range(len(mx)):\n",
    "    for j in range(len(mx[0])):\n",
    "        mx[ino][ino1]=vs\n",
    "print(mx)"
   ]
  },
  {
   "cell_type": "code",
   "execution_count": 84,
   "id": "d36f6c34-6dfd-4f2d-b420-327891331d5f",
   "metadata": {},
   "outputs": [],
   "source": [
    "def harfdönüştür(kelime):\n",
    "    a=[\"a\",\"e\",\"ı\",\"i\",\"o\",\"ö\",\"u\",\"ü\"]\n",
    "    c=\"\"\n",
    "    d=0\n",
    "    for i in kelime:\n",
    "        if i in a:\n",
    "            i=\"x\"\n",
    "            d+=1\n",
    "        c+=i\n",
    "    print(c,\"    \",d,\" kere yer değiştirdi\")"
   ]
  },
  {
   "cell_type": "code",
   "execution_count": 85,
   "id": "12efdc70-3570-4821-b269-fb7a83c3184b",
   "metadata": {},
   "outputs": [
    {
     "name": "stdin",
     "output_type": "stream",
     "text": [
      "bir yazı giriniz hasan programlamada\n"
     ]
    },
    {
     "name": "stdout",
     "output_type": "stream",
     "text": [
      "hxsxn prxgrxmlxmxdx      7  kere yer değiştirdi\n"
     ]
    }
   ],
   "source": [
    "kelime=input(\"bir yazı giriniz\")\n",
    "harfdönüştür(kelime)"
   ]
  },
  {
   "cell_type": "code",
   "execution_count": 86,
   "id": "df264cd1-363a-4495-93d1-e9df2e51bc66",
   "metadata": {},
   "outputs": [],
   "source": [
    "def teksayıdönüştür(a):\n",
    "    if a%2==0:\n",
    "        a=a+1\n",
    "    return a"
   ]
  },
  {
   "cell_type": "code",
   "execution_count": 92,
   "id": "aa20f99f-fab1-4d97-bb53-9b8778724c8e",
   "metadata": {},
   "outputs": [
    {
     "name": "stdin",
     "output_type": "stream",
     "text": [
      "kaç sayı alınsın giriniz 2\n",
      "giriniz 1\n",
      "giriniz 2\n"
     ]
    },
    {
     "name": "stdout",
     "output_type": "stream",
     "text": [
      "['1', '2']\n"
     ]
    },
    {
     "ename": "TypeError",
     "evalue": "not all arguments converted during string formatting",
     "output_type": "error",
     "traceback": [
      "\u001b[1;31m---------------------------------------------------------------------------\u001b[0m",
      "\u001b[1;31mTypeError\u001b[0m                                 Traceback (most recent call last)",
      "Input \u001b[1;32mIn [92]\u001b[0m, in \u001b[0;36m<cell line: 7>\u001b[1;34m()\u001b[0m\n\u001b[0;32m      5\u001b[0m     l\u001b[38;5;241m+\u001b[39m\u001b[38;5;241m=\u001b[39ma\n\u001b[0;32m      6\u001b[0m \u001b[38;5;28mprint\u001b[39m(l)\n\u001b[1;32m----> 7\u001b[0m \u001b[43mteksayıdönüştür\u001b[49m\u001b[43m(\u001b[49m\u001b[43ml\u001b[49m\u001b[43m[\u001b[49m\u001b[43mi\u001b[49m\u001b[43m]\u001b[49m\u001b[43m)\u001b[49m\n",
      "Input \u001b[1;32mIn [86]\u001b[0m, in \u001b[0;36mteksayıdönüştür\u001b[1;34m(a)\u001b[0m\n\u001b[0;32m      1\u001b[0m \u001b[38;5;28;01mdef\u001b[39;00m \u001b[38;5;21mteksayıdönüştür\u001b[39m(a):\n\u001b[1;32m----> 2\u001b[0m     \u001b[38;5;28;01mif\u001b[39;00m \u001b[43ma\u001b[49m\u001b[38;5;241;43m%\u001b[39;49m\u001b[38;5;241;43m2\u001b[39;49m\u001b[38;5;241m==\u001b[39m\u001b[38;5;241m0\u001b[39m:\n\u001b[0;32m      3\u001b[0m         a\u001b[38;5;241m=\u001b[39ma\u001b[38;5;241m+\u001b[39m\u001b[38;5;241m1\u001b[39m\n\u001b[0;32m      4\u001b[0m     \u001b[38;5;28;01mreturn\u001b[39;00m a\n",
      "\u001b[1;31mTypeError\u001b[0m: not all arguments converted during string formatting"
     ]
    }
   ],
   "source": [
    "n=int(input(\"kaç sayı alınsın giriniz\"))\n",
    "l=[]\n",
    "for i in range(n):\n",
    "    a=input(\"giriniz\")\n",
    "    l+=a\n",
    "print(l)\n",
    "teksayıdönüştür(l[i])"
   ]
  },
  {
   "cell_type": "code",
   "execution_count": 97,
   "id": "85d369c3-8cb2-4644-8bc7-552d110566c5",
   "metadata": {},
   "outputs": [
    {
     "name": "stdout",
     "output_type": "stream",
     "text": [
      "2\n"
     ]
    }
   ],
   "source": [
    "l=[5,8,9,7,2]\n",
    "print(l[-1])"
   ]
  },
  {
   "cell_type": "code",
   "execution_count": null,
   "id": "35676fe6-07eb-45c6-8a78-ef4597e9940b",
   "metadata": {},
   "outputs": [],
   "source": []
  }
 ],
 "metadata": {
  "kernelspec": {
   "display_name": "Python 3 (ipykernel)",
   "language": "python",
   "name": "python3"
  },
  "language_info": {
   "codemirror_mode": {
    "name": "ipython",
    "version": 3
   },
   "file_extension": ".py",
   "mimetype": "text/x-python",
   "name": "python",
   "nbconvert_exporter": "python",
   "pygments_lexer": "ipython3",
   "version": "3.9.12"
  }
 },
 "nbformat": 4,
 "nbformat_minor": 5
}
