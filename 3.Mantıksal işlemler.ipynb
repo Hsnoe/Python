{
 "cells": [
  {
   "cell_type": "code",
   "execution_count": 1,
   "id": "c20cf123-a92a-4c88-bada-be1c336eaa8d",
   "metadata": {},
   "outputs": [
    {
     "name": "stdout",
     "output_type": "stream",
     "text": [
      "değer giriniz185\n",
      "goodbye\n"
     ]
    }
   ],
   "source": [
    "#if\n",
    "var=input(\"değer giriniz\")\n",
    "if (var==100):\n",
    "    print(\"değişken 100 dür\")\n",
    "print(\"goodbye\")"
   ]
  },
  {
   "cell_type": "code",
   "execution_count": 11,
   "id": "4e47dd2d-8208-4163-8ee4-35f0a9da7ec0",
   "metadata": {},
   "outputs": [
    {
     "name": "stdout",
     "output_type": "stream",
     "text": [
      "İŞLEMLER\n",
      "1:Toplama\n",
      "2:Çıkarma\n",
      "3:Çarpma\n",
      "4:Bölme\n"
     ]
    },
    {
     "name": "stdin",
     "output_type": "stream",
     "text": [
      "bir sayı giriniz 11\n",
      "bir sayı giriniz 10\n",
      "işlem seçiniz giriniz 4\n"
     ]
    },
    {
     "name": "stdout",
     "output_type": "stream",
     "text": [
      "bölme sonucu 1.1\n"
     ]
    }
   ],
   "source": [
    "print(\"İŞLEMLER\\n1:Toplama\\n2:Çıkarma\\n3:Çarpma\\n4:Bölme\")\n",
    "c=int(input(\"bir sayı giriniz\"))\n",
    "d=int(input(\"bir sayı giriniz\"))\n",
    "a=int(input(\"işlem seçiniz giriniz\"))\n",
    "if (a==2):\n",
    "    print(\"ÇIKARMA İŞLEMİ :\",(c-d))\n",
    "elif (a==1):\n",
    "    print(\"toplama sonucu:\",(c+d))\n",
    "elif(a==3):\n",
    "    print(\"çapma sonucu:\",(c*d))\n",
    "elif(a==4):\n",
    "    print(\"bölme sonucu\",(c/d))\n",
    "else:\n",
    "    print(\"hatalı goodbye\")"
   ]
  },
  {
   "cell_type": "code",
   "execution_count": null,
   "id": "d745a5e0-dc53-4cb5-ab67-e3b0f360e08e",
   "metadata": {},
   "outputs": [
    {
     "name": "stdin",
     "output_type": "stream",
     "text": [
      "bir sayı giriniz 45\n"
     ]
    },
    {
     "name": "stdout",
     "output_type": "stream",
     "text": [
      "s pozitif sayıdır\n"
     ]
    }
   ],
   "source": [
    "#Girilen sayının pozitif ya da negatif olduğunu ekrana yazınız?\n",
    "s=float(input(\"bir sayı giriniz\"))\n",
    "if s>0:\n",
    "    print(\"s pozitif sayıdır\")\n",
    "elif s<0:\n",
    "    print(\"s negatif sayıdır\")\n",
    "else:\n",
    "    print(\"0 dır\")"
   ]
  },
  {
   "cell_type": "code",
   "execution_count": 2,
   "id": "e9d16f6c-dfc8-49cf-a24e-205108dc0a57",
   "metadata": {},
   "outputs": [
    {
     "name": "stdin",
     "output_type": "stream",
     "text": [
      "bir sayı giriniz -28\n"
     ]
    },
    {
     "name": "stdout",
     "output_type": "stream",
     "text": [
      "neğatif\n"
     ]
    }
   ],
   "source": [
    "s=float(input(\"bir sayı giriniz\"))\n",
    "if s <0:\n",
    "    print(\"neğatif\")\n",
    "elif s>0:\n",
    "    print(\"poz\")\n",
    "else:\n",
    "    print(\"0\")"
   ]
  },
  {
   "cell_type": "code",
   "execution_count": 25,
   "id": "658f05fd-7f04-4c30-90c3-b216a804749c",
   "metadata": {},
   "outputs": [
    {
     "name": "stdin",
     "output_type": "stream",
     "text": [
      "notu giriniz 20\n",
      "notu giriniz 60\n"
     ]
    },
    {
     "name": "stdout",
     "output_type": "stream",
     "text": [
      "notu budur = 44.0\n",
      "kaldın\n"
     ]
    }
   ],
   "source": [
    "#Vize ve Final notu girilen öğrencinin geçip geçmediğini hesaplayan program (vizenin %40,finalin %60’ı hesaplanır.\n",
    "#Final en az 60 olmak zorundadır)\n",
    "vize=float(input(\"notu giriniz\"))\n",
    "final=float(input(\"notu giriniz\"))\n",
    "if final>=60:\n",
    "    notu= vize*0.4+final*0.6\n",
    "    print(\"notu budur =\",notu)\n",
    "    if notu<50:\n",
    "        print(\"kaldın\")\n",
    "    if notu>50:\n",
    "        print(\"geçtin\")\n",
    "else:\n",
    "    print(\"kaldın geçmiş olsun\")"
   ]
  },
  {
   "cell_type": "code",
   "execution_count": null,
   "id": "3101cc78-eafc-4b92-aabe-b14e9798a835",
   "metadata": {},
   "outputs": [],
   "source": []
  },
  {
   "cell_type": "code",
   "execution_count": 27,
   "id": "45d5b5aa-a9c3-411a-a9b6-e9ace8b59d54",
   "metadata": {},
   "outputs": [
    {
     "name": "stdin",
     "output_type": "stream",
     "text": [
      "bir sayı giriniz 15\n",
      "bir sayı giriniz 8\n",
      "bir sayı giriniz 99\n"
     ]
    },
    {
     "name": "stdout",
     "output_type": "stream",
     "text": [
      "büyük sayı: 99.0\n"
     ]
    }
   ],
   "source": [
    "#Kullanıcının girdiği üç sayıdan büyük olanını yazdıran program? \n",
    "s=float(input(\"bir sayı giriniz\"))\n",
    "a=float(input(\"bir sayı giriniz\"))\n",
    "b=float(input(\"bir sayı giriniz\"))\n",
    "if s>a and s>b:\n",
    "    print(\"büyük sayı :\",s)\n",
    "elif a>s and a>b:\n",
    "    print(\"büyük sayı :\",a)\n",
    "elif b>s and b>a:\n",
    "    print(\"büyük sayı:\",b)\n"
   ]
  },
  {
   "cell_type": "code",
   "execution_count": 6,
   "id": "b9c89f7e-982e-4f36-83b0-b624369c3a8d",
   "metadata": {},
   "outputs": [
    {
     "name": "stdin",
     "output_type": "stream",
     "text": [
      "bir sayı giriniz 54\n",
      "bir sayı giriniz 87\n",
      "bir sayı giriniz 9\n"
     ]
    },
    {
     "name": "stdout",
     "output_type": "stream",
     "text": [
      "87.0\n"
     ]
    }
   ],
   "source": [
    "s=float(input(\"bir sayı giriniz\"))\n",
    "a=float(input(\"bir sayı giriniz\"))\n",
    "b=float(input(\"bir sayı giriniz\"))\n",
    "if s>a and s>b:\n",
    "    print(s)\n",
    "elif a>s and a>b:\n",
    "    print(a)\n",
    "else:\n",
    "    print(b)"
   ]
  },
  {
   "cell_type": "code",
   "execution_count": 33,
   "id": "37ee6132-a8c5-45fc-8b53-45f0cf7a9bfa",
   "metadata": {},
   "outputs": [
    {
     "name": "stdin",
     "output_type": "stream",
     "text": [
      "enter a number 108\n"
     ]
    },
    {
     "name": "stdout",
     "output_type": "stream",
     "text": [
      "s sayısı 6 nın katıdır \n"
     ]
    }
   ],
   "source": [
    "#Girilen sayının 6'nın katı olduğunu bulan program?\n",
    "s=float(input(\"enter a number\"))\n",
    "if s%6==0:\n",
    "    print(\"s sayısı 6 nın katıdır \")\n",
    "else:\n",
    "    print(\"s katı değildir\")"
   ]
  },
  {
   "cell_type": "code",
   "execution_count": 39,
   "id": "323fa4d8-5660-43a6-9f05-adf602fbe180",
   "metadata": {},
   "outputs": [
    {
     "name": "stdin",
     "output_type": "stream",
     "text": [
      "enter a exam grade 19\n"
     ]
    },
    {
     "name": "stdout",
     "output_type": "stream",
     "text": [
      "harf notu ff dir\n"
     ]
    }
   ],
   "source": [
    "#Yüzlük notu harf notuna çeviriniz?\n",
    "s=float(input(\"enter a exam grade\"))\n",
    "if s>=85:\n",
    "    print(\"harf notu AA dır\")\n",
    "elif 85>s>=70:\n",
    "    print(\"arf notu BB dir\")\n",
    "elif 70>s>=50:\n",
    "    print(\"harf notu cc dir\")\n",
    "elif s<50 :\n",
    "    print(\"harf notu ff dir\")\n",
    "    "
   ]
  },
  {
   "cell_type": "code",
   "execution_count": 41,
   "id": "2b78077d-396e-4b2d-a346-e75377d8286c",
   "metadata": {},
   "outputs": [
    {
     "name": "stdin",
     "output_type": "stream",
     "text": [
      "enter a money 6000\n",
      "enter a number of childeren 4\n"
     ]
    },
    {
     "name": "stdout",
     "output_type": "stream",
     "text": [
      "yeni maaşı = 6900.0\n"
     ]
    }
   ],
   "source": [
    "#İşçi maaşı ve çocuk sayısı verilmektedir. Çocuk sayısı bir ise %5, iki ise %10, üç veya daha fazla ise %15 zam yaparak yeni maaşı hesaplayınız?\n",
    "işcimaası=float(input(\"enter a money\"))\n",
    "cocuksayısı=float(input(\"enter a number of childeren\"))\n",
    "if cocuksayısı==1:\n",
    "    print(\"yeni maaşı=\",işcimaası+işcimaası*0.05)\n",
    "elif cocuksayısı==2:\n",
    "    print(\"yeni maaşı=\",işcimaası+işcimaası*0.10)\n",
    "elif cocuksayısı>=3:\n",
    "    print(\"yeni maaşı =\",işcimaası+işcimaası*0.15)"
   ]
  },
  {
   "cell_type": "code",
   "execution_count": 9,
   "id": "5e7815e9-94a5-4535-8422-489f91bbdf69",
   "metadata": {},
   "outputs": [
    {
     "name": "stdin",
     "output_type": "stream",
     "text": [
      "enter a money 85\n",
      "enter a number of childeren 5\n"
     ]
    },
    {
     "name": "stdout",
     "output_type": "stream",
     "text": [
      "yenim 97.75\n"
     ]
    }
   ],
   "source": [
    "ı=float(input(\"enter a money\"))\n",
    "c=float(input(\"enter a number of childeren\"))\n",
    "if c==1:\n",
    "    print(\"yenim\",ı+ı*0.05)\n",
    "elif c==2:\n",
    "    print(\"yenim\",ı+ı*0.10)\n",
    "else:\n",
    "    print(\"yenim\",ı+ı*0.15)"
   ]
  },
  {
   "cell_type": "code",
   "execution_count": 58,
   "id": "a5039dd7-841a-4600-b971-3419214d0296",
   "metadata": {},
   "outputs": [
    {
     "name": "stdout",
     "output_type": "stream",
     "text": [
      "çizgi doğrunun bilgileri gir\n"
     ]
    },
    {
     "name": "stdin",
     "output_type": "stream",
     "text": [
      "değer gir 4\n",
      "değer gir 8\n",
      "değer gir 9\n"
     ]
    },
    {
     "name": "stdout",
     "output_type": "stream",
     "text": [
      "dairenin bilgileri gir\n"
     ]
    },
    {
     "name": "stdin",
     "output_type": "stream",
     "text": [
      "değer gir 10\n",
      "değer gir 8\n",
      "değer gir 15\n"
     ]
    },
    {
     "name": "stdout",
     "output_type": "stream",
     "text": [
      "çizgi daireyi keser\n"
     ]
    }
   ],
   "source": [
    "#Çizgi daireyi kesiyor mu, yoksa teğet mi sonucunu bulan program? \n",
    "#Çizgi: ax+by+c=0 \n",
    "#Daire: (dx,dy,r) \n",
    "# d = |a.x0+b.y0+c| / √a²+b² bir noktanın doğruya olan uzaklığı\n",
    "print(\"çizgi doğrunun bilgileri gir\")\n",
    "a=int(input(\"değer gir\"))\n",
    "m=int(input(\"değer gir\"))\n",
    "c=int(input(\"değer gir\"))\n",
    "print(\"dairenin bilgileri gir\")\n",
    "x=int(input(\"değer gir\"))\n",
    "y=int(input(\"değer gir\"))\n",
    "r=int(input(\"değer gir\"))\n",
    "d= (a*x+m*y+c)/math.sqrt(a**2+m**2)\n",
    "if r>d:\n",
    "      print(\"çizgi daireyi keser\")\n",
    "elif r==d:\n",
    "      print(\"çizgi daireye teğet\")\n",
    "else:\n",
    "      print(\"daireyi kesmez\")"
   ]
  },
  {
   "cell_type": "code",
   "execution_count": null,
   "id": "b241a03e-6f58-415c-8aed-0e9fa5881a14",
   "metadata": {},
   "outputs": [],
   "source": []
  }
 ],
 "metadata": {
  "kernelspec": {
   "display_name": "Python 3 (ipykernel)",
   "language": "python",
   "name": "python3"
  },
  "language_info": {
   "codemirror_mode": {
    "name": "ipython",
    "version": 3
   },
   "file_extension": ".py",
   "mimetype": "text/x-python",
   "name": "python",
   "nbconvert_exporter": "python",
   "pygments_lexer": "ipython3",
   "version": "3.9.12"
  }
 },
 "nbformat": 4,
 "nbformat_minor": 5
}
