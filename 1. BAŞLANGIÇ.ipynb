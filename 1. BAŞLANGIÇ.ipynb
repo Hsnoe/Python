{
 "cells": [
  {
   "cell_type": "code",
   "execution_count": 1,
   "id": "d525db6a-8f7f-45a1-8271-a9a8db9e02a9",
   "metadata": {},
   "outputs": [
    {
     "name": "stdin",
     "output_type": "stream",
     "text": [
      "sayı gir= 55\n"
     ]
    },
    {
     "name": "stdout",
     "output_type": "stream",
     "text": [
      "55\n"
     ]
    }
   ],
   "source": [
    "#İNPUT VE PRİNT\n",
    "x=input(\"sayı gir=\")\n",
    "print(x)"
   ]
  },
  {
   "cell_type": "code",
   "execution_count": 5,
   "id": "083f807d-d71f-4200-92bd-9a419642bf9f",
   "metadata": {},
   "outputs": [
    {
     "name": "stdout",
     "output_type": "stream",
     "text": [
      "100.1\n",
      "10.1\n",
      "Hasan\n"
     ]
    }
   ],
   "source": [
    "counter =100.1\n",
    "miles=10.1\n",
    "name=\"Hasan\"\n",
    "print(counter)\n",
    "print(miles)\n",
    "print(name)\n",
    "a=b=B=1\n",
    "del(a)"
   ]
  },
  {
   "cell_type": "code",
   "execution_count": 13,
   "id": "67c73a08-4d81-4297-9e71-da5ce8f8650c",
   "metadata": {},
   "outputs": [
    {
     "data": {
      "text/plain": [
       "10"
      ]
     },
     "execution_count": 13,
     "metadata": {},
     "output_type": "execute_result"
    }
   ],
   "source": [
    "#DEĞİŞKENLER (SAYI)\n",
    "#int(tamsayı)\n",
    "#float(virgüllü)\n",
    "x=int(10.8)\n",
    "x"
   ]
  },
  {
   "cell_type": "code",
   "execution_count": 23,
   "id": "84e9f382-b6a5-4fd6-9a42-9e0253fcf6fd",
   "metadata": {},
   "outputs": [
    {
     "name": "stdout",
     "output_type": "stream",
     "text": [
      "hello world\n",
      "h\n",
      "ello\n",
      "llo world\n",
      "hello worldhello worldhello world\n",
      "hello worldtext\n"
     ]
    }
   ],
   "source": [
    "#DEĞİŞKNELER (YAZI)\n",
    "str=(\"hello world\")\n",
    "print(str)\n",
    "print(str[0])\n",
    "print(str[1:5])\n",
    "print(str[2:])\n",
    "print(str * 3)\n",
    "print(str+\"text\")"
   ]
  },
  {
   "cell_type": "code",
   "execution_count": 25,
   "id": "3bfd71b4-b8eb-4850-926f-26d8ef45b0c2",
   "metadata": {},
   "outputs": [
    {
     "name": "stdout",
     "output_type": "stream",
     "text": [
      "[25.3, 'john', 18, 23, 'jacke', 42]\n",
      "[16.8, 'kate', 'jacke', 18]\n",
      "[25.3, 'john']\n",
      "[18, 23, 'jacke', 42]\n",
      "[25.3, 'john', 18, 23, 'jacke', 42, 25.3, 'john', 18, 23, 'jacke', 42, 25.3, 'john', 18, 23, 'jacke', 42]\n",
      "[25.3, 'john', 18, 23, 'jacke', 42, 16.8, 'kate', 'jacke', 18]\n"
     ]
    }
   ],
   "source": [
    "#DEĞİŞKENLER (LİSTE)   = (TUPLE) FARK PARANTEZ ()\n",
    "list=[25.3,\"john\",18,23,\"jacke\",42]\n",
    "tinylist=[16.8,\"kate\",\"jacke\",18]\n",
    "print(list)\n",
    "print(tinylist)\n",
    "print(list[0:2])\n",
    "print(list[2:])\n",
    "print(list*3)\n",
    "print(list+tinylist)"
   ]
  },
  {
   "cell_type": "code",
   "execution_count": 30,
   "id": "951308a4-65ff-4c6b-8b7b-f3da131ec3fb",
   "metadata": {},
   "outputs": [
    {
     "name": "stdout",
     "output_type": "stream",
     "text": [
      "this is one kütüphane\n",
      "sensiz ben nefes alamam\n",
      "dict_keys(['name', 'soyisim', 'yaş'])\n",
      "dict_values(['efkarlı', 'zalım', '20'])\n"
     ]
    }
   ],
   "source": [
    "#DEĞİŞKENLER (DİCTİONARY)\n",
    "dict={}\n",
    "dict[1]= \"this is one kütüphane\"\n",
    "dict[2]= \"sensiz ben nefes alamam\"\n",
    "tinydict={\"name\":\"efkarlı\",\"soyisim\":\"zalım\",\"yaş\":\"20\"}\n",
    "print(dict[1])\n",
    "print(dict[2])\n",
    "print(tinydict.keys())\n",
    "print(tinydict.values())"
   ]
  },
  {
   "cell_type": "code",
   "execution_count": 32,
   "id": "94f16c9b-613e-491c-89dc-d186fd4bd461",
   "metadata": {},
   "outputs": [
    {
     "name": "stdout",
     "output_type": "stream",
     "text": [
      "4\n"
     ]
    }
   ],
   "source": [
    "print(int(\"100\",2))"
   ]
  },
  {
   "cell_type": "code",
   "execution_count": 34,
   "id": "486a95fe-de17-4981-866e-aabc0d043454",
   "metadata": {},
   "outputs": [
    {
     "data": {
      "text/plain": [
       "60"
      ]
     },
     "execution_count": 34,
     "metadata": {},
     "output_type": "execute_result"
    }
   ],
   "source": [
    "max(50,60)"
   ]
  },
  {
   "cell_type": "code",
   "execution_count": 36,
   "id": "2002734a-e9dc-4673-bf7a-24cc2b5031b5",
   "metadata": {},
   "outputs": [
    {
     "name": "stdout",
     "output_type": "stream",
     "text": [
      "['__doc__', '__loader__', '__name__', '__package__', '__spec__', 'acos', 'acosh', 'asin', 'asinh', 'atan', 'atan2', 'atanh', 'ceil', 'comb', 'copysign', 'cos', 'cosh', 'degrees', 'dist', 'e', 'erf', 'erfc', 'exp', 'expm1', 'fabs', 'factorial', 'floor', 'fmod', 'frexp', 'fsum', 'gamma', 'gcd', 'hypot', 'inf', 'isclose', 'isfinite', 'isinf', 'isnan', 'isqrt', 'lcm', 'ldexp', 'lgamma', 'log', 'log10', 'log1p', 'log2', 'modf', 'nan', 'nextafter', 'perm', 'pi', 'pow', 'prod', 'radians', 'remainder', 'sin', 'sinh', 'sqrt', 'tan', 'tanh', 'tau', 'trunc', 'ulp']\n"
     ]
    }
   ],
   "source": [
    "import math\n",
    "content= dir(math)\n",
    "print(content)"
   ]
  },
  {
   "cell_type": "code",
   "execution_count": 37,
   "id": "603688ed-ee51-4ab7-b00e-6a68ae52b9cf",
   "metadata": {},
   "outputs": [
    {
     "name": "stdout",
     "output_type": "stream",
     "text": [
      "0.3402969426906256\n"
     ]
    }
   ],
   "source": [
    "import random\n",
    "print(random.random())"
   ]
  },
  {
   "cell_type": "markdown",
   "id": "44c0b3e1-1e57-4915-839e-bf872c2e59ee",
   "metadata": {},
   "source": [
    "#SORULAR"
   ]
  },
  {
   "cell_type": "code",
   "execution_count": 45,
   "id": "e689e027-7a74-4fe3-aaba-b85470a68dc7",
   "metadata": {},
   "outputs": [
    {
     "name": "stdin",
     "output_type": "stream",
     "text": [
      "bir sayı giriniz = 15\n",
      "bir sayı giriniz = 15\n"
     ]
    },
    {
     "name": "stdout",
     "output_type": "stream",
     "text": [
      "15.0\n"
     ]
    }
   ],
   "source": [
    "#Örnek 4: Girilen 2 Sayının Ortalamasını Bulan Python Örneği\n",
    "sayı1=input(\"bir sayı giriniz =\")\n",
    "sayı2=input(\"bir sayı giriniz =\")\n",
    "toplam =(float(sayı1)+float((sayı2)))/2\n",
    "print(toplam)"
   ]
  },
  {
   "cell_type": "code",
   "execution_count": 1,
   "id": "6eec0f61-57a9-458c-808c-4ba48960daef",
   "metadata": {},
   "outputs": [
    {
     "name": "stdin",
     "output_type": "stream",
     "text": [
      "vizeyi giriniz = 30\n",
      "finali giriniz = 40\n"
     ]
    },
    {
     "name": "stdout",
     "output_type": "stream",
     "text": [
      "36.0\n"
     ]
    }
   ],
   "source": [
    "#Örnek 5: Girilen Vize ve Final Notu Ortalaması Hesaplayan Python Örneği\n",
    "vizenotu=input(\"vizeyi giriniz =\")\n",
    "finalnotu=input(\"finali giriniz =\")\n",
    "ortalama= int(vizenotu)*0.4+int(finalnotu)*0.6\n",
    "print(ortalama)"
   ]
  },
  {
   "cell_type": "code",
   "execution_count": null,
   "id": "3699d57b-6212-4ada-866e-28a99f784588",
   "metadata": {},
   "outputs": [],
   "source": []
  }
 ],
 "metadata": {
  "kernelspec": {
   "display_name": "Python 3 (ipykernel)",
   "language": "python",
   "name": "python3"
  },
  "language_info": {
   "codemirror_mode": {
    "name": "ipython",
    "version": 3
   },
   "file_extension": ".py",
   "mimetype": "text/x-python",
   "name": "python",
   "nbconvert_exporter": "python",
   "pygments_lexer": "ipython3",
   "version": "3.9.12"
  }
 },
 "nbformat": 4,
 "nbformat_minor": 5
}
