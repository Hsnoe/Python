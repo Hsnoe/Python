{
 "cells": [
  {
   "cell_type": "code",
   "execution_count": null,
   "id": "6a994530",
   "metadata": {},
   "outputs": [],
   "source": [
    "#TC kimlik noyu doğru girmeye zorlayınız? (11 karakter ve tamamı sayı)\n",
    "\n",
    "tc_giris=input(\"TCK giriniz:\")\n",
    "rakamlar=\"0123456789\"\n",
    "c=0\n",
    "d=0\n",
    "for gez in tc_giris:\n",
    "    c+=1\n",
    "    if gez not in rakamlar and tc_giris[0]==\"0\":\n",
    "        d+=1\n",
    "        break\n",
    "if c==11 and d==0:\n",
    "    print(\"Girdiğiniz TCK doğrudur.\")\n",
    "else:\n",
    "    print(\"Girdiğiniz TCK yanlıştır \")"
   ]
  },
  {
   "cell_type": "code",
   "execution_count": 28,
   "id": "e36daded",
   "metadata": {},
   "outputs": [
    {
     "name": "stdout",
     "output_type": "stream",
     "text": [
      "Bir cümle girinizhasna\n",
      "ansah\n"
     ]
    }
   ],
   "source": [
    "#Girilen cümleyi tersten yazdırın?\n",
    "a=input(\"Bir cümle giriniz\")\n",
    "b=\"\"\n",
    "for i in range (len(a)):\n",
    "    b=a[i]+b\n",
    "print(b)"
   ]
  },
  {
   "cell_type": "code",
   "execution_count": 25,
   "id": "262fd2be",
   "metadata": {},
   "outputs": [
    {
     "ename": "TypeError",
     "evalue": "object of type 'int' has no len()",
     "output_type": "error",
     "traceback": [
      "\u001b[1;31m---------------------------------------------------------------------------\u001b[0m",
      "\u001b[1;31mTypeError\u001b[0m                                 Traceback (most recent call last)",
      "Input \u001b[1;32mIn [25]\u001b[0m, in \u001b[0;36m<cell line: 2>\u001b[1;34m()\u001b[0m\n\u001b[0;32m      1\u001b[0m l\u001b[38;5;241m=\u001b[39m[\u001b[38;5;241m2\u001b[39m,\u001b[38;5;241m6\u001b[39m,\u001b[38;5;241m4\u001b[39m,\u001b[38;5;241m8\u001b[39m,\u001b[38;5;241m4\u001b[39m,]\n\u001b[0;32m      2\u001b[0m \u001b[38;5;28;01mfor\u001b[39;00m i \u001b[38;5;129;01min\u001b[39;00m l:\n\u001b[1;32m----> 3\u001b[0m     \u001b[38;5;28mprint\u001b[39m(\u001b[38;5;241m1\u001b[39m,\u001b[38;5;28;43mlen\u001b[39;49m\u001b[43m(\u001b[49m\u001b[43mi\u001b[49m\u001b[43m)\u001b[49m,\u001b[38;5;241m-\u001b[39m\u001b[38;5;241m1\u001b[39m)\n",
      "\u001b[1;31mTypeError\u001b[0m: object of type 'int' has no len()"
     ]
    }
   ],
   "source": [
    "l=[2,6,4,8,4,]\n",
    "for i in l:\n",
    "    print(1,len(i),-1)"
   ]
  },
  {
   "cell_type": "code",
   "execution_count": 3,
   "id": "5828054d",
   "metadata": {},
   "outputs": [
    {
     "name": "stdout",
     "output_type": "stream",
     "text": [
      "bir cümle giriniz =asjdafka\n",
      "s\n",
      "s\n",
      "s\n",
      "s\n",
      "s\n",
      "s\n",
      "s\n",
      "s\n"
     ]
    }
   ],
   "source": [
    "#Girilen cümledeki harflerin adetlerini ekrana yazın?\n",
    "a=str(input(\"bir cümle giriniz =\"))\n",
    "for i in range(len(a)):\n",
    "    print(str(a[1]))"
   ]
  },
  {
   "cell_type": "code",
   "execution_count": null,
   "id": "d021608d",
   "metadata": {},
   "outputs": [],
   "source": [
    "#Girilen cümledeki sesli ve sessiz harf sayısını bulun?\n"
   ]
  },
  {
   "cell_type": "code",
   "execution_count": 31,
   "id": "8ce74996",
   "metadata": {},
   "outputs": [
    {
     "name": "stdout",
     "output_type": "stream",
     "text": [
      "enter a number =6\n",
      "saydır\n"
     ]
    }
   ],
   "source": [
    "#Girilen sayının Pronic (ardışık iki sayının çarpımına eşit) olup olmadığını bulunuz?\n",
    "çarpım=1\n",
    "a=int(input(\"enter a number =\"))\n",
    "b=0\n",
    "for i in range(a):\n",
    "    if a==i*(i+1):\n",
    "        b+=1\n",
    "if b==1:\n",
    "    print(\"saydır\")\n",
    "\n",
    "else:\n",
    "    print(\"sayı değildir\")"
   ]
  },
  {
   "cell_type": "code",
   "execution_count": null,
   "id": "d6ce9838",
   "metadata": {},
   "outputs": [],
   "source": [
    "#N’e kadar ki Harshad (sayının kendisi rakamları toplamına bölünüyor) olanları listele? \n",
    "n=int(input(\"enter a number =\"))\n",
    "for i in range(n):\n",
    "    if n"
   ]
  },
  {
   "cell_type": "code",
   "execution_count": null,
   "id": "1a2204c3",
   "metadata": {},
   "outputs": [],
   "source": [
    "#Girilen sayının Jumbled (komşu rakamlar arasındaki fark maksimum 1) olup olmadığını bulunuz? \n"
   ]
  },
  {
   "cell_type": "code",
   "execution_count": 28,
   "id": "fb6c0f2d",
   "metadata": {},
   "outputs": [
    {
     "name": "stdout",
     "output_type": "stream",
     "text": [
      "kaç metreden bırakılsın20\n",
      "36.0 1\n"
     ]
    }
   ],
   "source": [
    "#Bir top X metre yükseklikten bırakılıyor. Her sıçrayışta  önceki yüksekliğini %20 kaybediyor. 1 metreden daha az olana kadar aldığı toplam yolu ve sıçrama sayısını hesaplayınız?\n",
    "t=0\n",
    "s=0\n",
    "n=int(input(\"kaç metreden bırakılsın\"))\n",
    "while n>=1:\n",
    "    t=n+(n-(n*0.20))\n",
    "    n=n-(n-0.20)\n",
    "    s=s+1\n",
    "print(t,s)"
   ]
  },
  {
   "cell_type": "code",
   "execution_count": 35,
   "id": "dffaaad7",
   "metadata": {},
   "outputs": [
    {
     "name": "stdout",
     "output_type": "stream",
     "text": [
      "kaç metreden bırakılsın8\n",
      "enter a number16\n",
      "ebob 16\n"
     ]
    }
   ],
   "source": [
    "#Girilen iki sayının OBEB (ortak bölenlerin en büyüğü) hesaplayan program?\n",
    "n=int(input(\"kaç metreden bırakılsın\"))\n",
    "a=int(input(\"enter a number\"))\n",
    "for i in range(1,a+1):\n",
    "    if a%i==0 and (n%i==0):\n",
    "        ebob=i\n",
    "print(\"ebob\",i)"
   ]
  },
  {
   "cell_type": "code",
   "execution_count": null,
   "id": "86f9c73d",
   "metadata": {},
   "outputs": [],
   "source": []
  }
 ],
 "metadata": {
  "kernelspec": {
   "display_name": "Python 3 (ipykernel)",
   "language": "python",
   "name": "python3"
  },
  "language_info": {
   "codemirror_mode": {
    "name": "ipython",
    "version": 3
   },
   "file_extension": ".py",
   "mimetype": "text/x-python",
   "name": "python",
   "nbconvert_exporter": "python",
   "pygments_lexer": "ipython3",
   "version": "3.9.12"
  }
 },
 "nbformat": 4,
 "nbformat_minor": 5
}
