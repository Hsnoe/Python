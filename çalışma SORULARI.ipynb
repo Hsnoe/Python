{
 "cells": [
  {
   "cell_type": "code",
   "execution_count": 9,
   "id": "dc9de876-428f-455a-85f6-012723de45b5",
   "metadata": {},
   "outputs": [
    {
     "name": "stdin",
     "output_type": "stream",
     "text": [
      "diktörgen çevre giriniz  24\n",
      "kare kenar giriniz  6\n"
     ]
    },
    {
     "name": "stdout",
     "output_type": "stream",
     "text": [
      "diktörgende alan şu 36.0\n"
     ]
    }
   ],
   "source": [
    "#SORU1\n",
    "DC=int(input(\"diktörgen çevre giriniz \"))\n",
    "kk=int(input(\"kare kenar giriniz \"))\n",
    "b=(DC-(2*kk))/2\n",
    "DA=b*kk\n",
    "print(\"diktörgende alan şu\",DA)"
   ]
  },
  {
   "cell_type": "code",
   "execution_count": 23,
   "id": "d615a471-250d-4697-abbf-71447d7fb784",
   "metadata": {},
   "outputs": [
    {
     "name": "stdin",
     "output_type": "stream",
     "text": [
      "diktörgen çevre giriniz  5\n",
      "diktörgen çevre giriniz  7\n",
      "diktörgen çevre giriniz  1\n"
     ]
    },
    {
     "name": "stdout",
     "output_type": "stream",
     "text": [
      "x i n değer aralığı  0 ,dir\n"
     ]
    }
   ],
   "source": [
    "#SORU2\n",
    "A=int(input(\"diktörgen çevre giriniz \"))\n",
    "B=int(input(\"diktörgen çevre giriniz \"))\n",
    "C=int(input(\"diktörgen çevre giriniz \"))\n",
    "X=0\n",
    "y=B+C\n",
    "z=A+3*X\n",
    "while z>y:\n",
    "    print(X)\n",
    "    X+=1\n",
    "print(\"x i n değer aralığı \",X,\",dir\")"
   ]
  },
  {
   "cell_type": "code",
   "execution_count": null,
   "id": "bb81729b-4326-4932-8452-75ec17472fe5",
   "metadata": {},
   "outputs": [
    {
     "name": "stdin",
     "output_type": "stream",
     "text": [
      "0,50 aralığında değer girr  5\n"
     ]
    },
    {
     "name": "stdout",
     "output_type": "stream",
     "text": [
      "b = 5\n"
     ]
    },
    {
     "name": "stdin",
     "output_type": "stream",
     "text": [
      "0,50 aralığında değer girr  6\n"
     ]
    },
    {
     "name": "stdout",
     "output_type": "stream",
     "text": [
      "a 7\n"
     ]
    },
    {
     "name": "stdin",
     "output_type": "stream",
     "text": [
      "0,50 aralığında değer girr  8\n"
     ]
    },
    {
     "name": "stdout",
     "output_type": "stream",
     "text": [
      "b = 13\n"
     ]
    },
    {
     "name": "stdin",
     "output_type": "stream",
     "text": [
      "0,50 aralığında değer girr  17\n"
     ]
    },
    {
     "name": "stdout",
     "output_type": "stream",
     "text": [
      "a 24\n"
     ]
    },
    {
     "name": "stdin",
     "output_type": "stream",
     "text": [
      "0,50 aralığında değer girr  15\n"
     ]
    },
    {
     "name": "stdout",
     "output_type": "stream",
     "text": [
      "b = 28\n"
     ]
    },
    {
     "name": "stdin",
     "output_type": "stream",
     "text": [
      "0,50 aralığında değer girr  18\n"
     ]
    },
    {
     "name": "stdout",
     "output_type": "stream",
     "text": [
      "a 42\n"
     ]
    },
    {
     "name": "stdin",
     "output_type": "stream",
     "text": [
      "0,50 aralığında değer girr  18\n"
     ]
    },
    {
     "name": "stdout",
     "output_type": "stream",
     "text": [
      "b = 46\n"
     ]
    },
    {
     "name": "stdin",
     "output_type": "stream",
     "text": [
      "0,50 aralığında değer girr  19\n"
     ]
    },
    {
     "name": "stdout",
     "output_type": "stream",
     "text": [
      "a 61\n"
     ]
    },
    {
     "name": "stdin",
     "output_type": "stream",
     "text": [
      "0,50 aralığında değer girr  42\n"
     ]
    },
    {
     "name": "stdout",
     "output_type": "stream",
     "text": [
      "b = 88\n"
     ]
    },
    {
     "name": "stdin",
     "output_type": "stream",
     "text": [
      "0,50 aralığında değer girr  18\n"
     ]
    },
    {
     "name": "stdout",
     "output_type": "stream",
     "text": [
      "a 79\n"
     ]
    }
   ],
   "source": [
    "#SORU3\n",
    "a=1\n",
    "b=0\n",
    "döngüyönü=0\n",
    "while 10 > döngüyönü :\n",
    "    n= int(input(\"0,50 aralığında değer girr \"))\n",
    "    if a>b:\n",
    "        b+=n\n",
    "        döngüyönü+=1\n",
    "        print(\"b =\",b)\n",
    "    else:\n",
    "        b>a\n",
    "        a+=n\n",
    "        döngüyönü+=1\n",
    "        print(\"a=\",a)"
   ]
  },
  {
   "cell_type": "code",
   "execution_count": 80,
   "id": "b76632b6-d989-4cdc-ae8e-49232663e48c",
   "metadata": {},
   "outputs": [
    {
     "name": "stdin",
     "output_type": "stream",
     "text": [
      "ag hasan\n"
     ]
    },
    {
     "ename": "IndexError",
     "evalue": "list assignment index out of range",
     "output_type": "error",
     "traceback": [
      "\u001b[1;31m---------------------------------------------------------------------------\u001b[0m",
      "\u001b[1;31mIndexError\u001b[0m                                Traceback (most recent call last)",
      "Input \u001b[1;32mIn [80]\u001b[0m, in \u001b[0;36m<cell line: 16>\u001b[1;34m()\u001b[0m\n\u001b[0;32m     14\u001b[0m     \u001b[38;5;28mprint\u001b[39m(a)\n\u001b[0;32m     15\u001b[0m     \u001b[38;5;28mprint\u001b[39m(c)\n\u001b[1;32m---> 16\u001b[0m \u001b[43mharfdönüştür\u001b[49m\u001b[43m(\u001b[49m\u001b[43mkelime\u001b[49m\u001b[43m)\u001b[49m\n",
      "Input \u001b[1;32mIn [80]\u001b[0m, in \u001b[0;36mharfdönüştür\u001b[1;34m(kelime)\u001b[0m\n\u001b[0;32m      9\u001b[0m \u001b[38;5;28;01mif\u001b[39;00m kelime[i] \u001b[38;5;129;01min\u001b[39;00m sesli:\n\u001b[0;32m     10\u001b[0m     c\u001b[38;5;241m+\u001b[39m\u001b[38;5;241m=\u001b[39m\u001b[38;5;241m1\u001b[39m\n\u001b[1;32m---> 11\u001b[0m     a[i]\u001b[38;5;241m=\u001b[39m\u001b[38;5;124m\"\u001b[39m\u001b[38;5;124mX\u001b[39m\u001b[38;5;124m\"\u001b[39m\n\u001b[0;32m     12\u001b[0m \u001b[38;5;28;01melse\u001b[39;00m:\n\u001b[0;32m     13\u001b[0m     a\u001b[38;5;241m+\u001b[39m\u001b[38;5;241m=\u001b[39m[kelime[i]]\n",
      "\u001b[1;31mIndexError\u001b[0m: list assignment index out of range"
     ]
    }
   ],
   "source": [
    "#SORU4\n",
    "kelime=input(\"ag\")\n",
    "def harfdönüştür(kelime):\n",
    "    sesli=[\"a\",\"e\",\"ı\",\"i\",\"o\",\"ö\",\"u\",\"ü\"]\n",
    "    c=0\n",
    "    a=[]\n",
    "    x=\"X\"\n",
    "    for i in range(len(kelime)):\n",
    "        if kelime[i] in sesli:\n",
    "            c+=1\n",
    "            a[i]=\"X\"\n",
    "        else:\n",
    "            a+=[kelime[i]]\n",
    "    print(a)\n",
    "    print(c)\n",
    "harfdönüştür(kelime)"
   ]
  },
  {
   "cell_type": "code",
   "execution_count": 24,
   "id": "e9050912-c15a-4709-8af3-c0a263beec59",
   "metadata": {},
   "outputs": [
    {
     "name": "stdin",
     "output_type": "stream",
     "text": [
      "Bir kelime giriniz: hasa\n"
     ]
    },
    {
     "name": "stdout",
     "output_type": "stream",
     "text": [
      "hXsX  2 defa yer değiştirme işlemi yapıldı\n"
     ]
    }
   ],
   "source": [
    "kul_gir=input(\"Bir kelime giriniz:\")\n",
    "\n",
    "def harfdonustur(kul_gir):\n",
    "    cnt=0\n",
    "    sesli=[\"a\",\"e\",\"i\",\"ı\",\"u\",\"ü\",\"o\",\"ö\"]\n",
    "    kul_gir_liste=[]\n",
    "    sesli_str=()\n",
    "    for i in range (len(kul_gir)):\n",
    "        kul_gir_liste+=kul_gir[i]\n",
    "    for i in range (len(kul_gir)):\n",
    "        if kul_gir_liste[i] in sesli:\n",
    "            kul_gir_liste[i]=\"X\"\n",
    "            cnt+=1\n",
    "    if cnt>0:\n",
    "        for i in range (len(kul_gir_liste)):\n",
    "            print(kul_gir_liste[i],end=\"\")\n",
    "        print(\" \",cnt,\"defa yer değiştirme işlemi yapıldı\")\n",
    "    else:\n",
    "        print(\"Sesli harf bulunamadı.\")\n",
    "if len(kul_gir)>20:\n",
    "    print(\"Hatalı giriş yaptınız\")\n",
    "else:\n",
    "    harfdonustur(kul_gir)"
   ]
  },
  {
   "cell_type": "code",
   "execution_count": 10,
   "id": "101243f7",
   "metadata": {},
   "outputs": [],
   "source": [
    "#Soru5\n",
    "def teksayıdönüştür(a):\n",
    "    c=0\n",
    "    if a%2==0:\n",
    "        a+=1\n",
    "        print(n)\n",
    "        c+=1\n",
    "        print(\"yer değişti\",1,\"kere\")\n",
    "    else:\n",
    "        print(\"çift sayı bulunamadı\")\n"
   ]
  },
  {
   "cell_type": "code",
   "execution_count": 11,
   "id": "6f6fed47-e757-471d-8260-d056971c769a",
   "metadata": {},
   "outputs": [
    {
     "name": "stdin",
     "output_type": "stream",
     "text": [
      "sayı gir 5\n",
      "sayı gir 1\n",
      "sayı gir 7\n",
      "sayı gir 9\n",
      "sayı gir 1\n",
      "sayı gir 2\n"
     ]
    },
    {
     "name": "stdout",
     "output_type": "stream",
     "text": [
      "2\n"
     ]
    }
   ],
   "source": [
    "n=int(input(\"sayı gir\"))\n",
    "for i in range(n):\n",
    "    a=input(\"sayı gir\")\n",
    "print(a)"
   ]
  },
  {
   "cell_type": "code",
   "execution_count": null,
   "id": "feb52b29-a0a8-4012-9723-da24c5c425f9",
   "metadata": {},
   "outputs": [],
   "source": [
    "#mitoz bölünme\n"
   ]
  },
  {
   "cell_type": "markdown",
   "id": "e5af280d-cf4c-4da4-b6ef-87c7b84381bc",
   "metadata": {},
   "source": [
    "Girilen N değerine göre NxN boyutlu bir matrisin hücrelerine 0-100 aralığında rastgele bir sayı yerleştiriniz. Daha sonra matrisin iki köşegenin de bulunan sayıların yerlerini aşağıdaki gibi ters çeviren programı yazınız."
   ]
  },
  {
   "cell_type": "code",
   "execution_count": 9,
   "id": "ea4ef386-718d-494d-b234-c5e04eab9681",
   "metadata": {},
   "outputs": [
    {
     "name": "stdin",
     "output_type": "stream",
     "text": [
      "KAÇ BOYUTLU MATRİSsayı gir 5\n"
     ]
    },
    {
     "name": "stdout",
     "output_type": "stream",
     "text": [
      "[[29, 59, 25, 91, 33], [59, 61, 30, 79, 53], [1, 68, 32, 98, 51], [43, 63, 60, 16, 46], [50, 37, 51, 56, 78]]\n"
     ]
    }
   ],
   "source": [
    "import random\n",
    "N=int(input(\"KAÇ BOYUTLU MATRİSsayı gir\"))\n",
    "n=[[ round(random.random()*100) for i in range(N)]for j in range(N)]\n",
    "print(n)"
   ]
  },
  {
   "cell_type": "code",
   "execution_count": 8,
   "id": "233153a5-5616-48c6-a27b-d129f76d9cc9",
   "metadata": {},
   "outputs": [
    {
     "ename": "TypeError",
     "evalue": "Random.random() takes no arguments (2 given)",
     "output_type": "error",
     "traceback": [
      "\u001b[1;31m---------------------------------------------------------------------------\u001b[0m",
      "\u001b[1;31mTypeError\u001b[0m                                 Traceback (most recent call last)",
      "Input \u001b[1;32mIn [8]\u001b[0m, in \u001b[0;36m<cell line: 1>\u001b[1;34m()\u001b[0m\n\u001b[1;32m----> 1\u001b[0m \u001b[43mrandom\u001b[49m\u001b[38;5;241;43m.\u001b[39;49m\u001b[43mrandom\u001b[49m\u001b[43m(\u001b[49m\u001b[38;5;241;43m1\u001b[39;49m\u001b[43m,\u001b[49m\u001b[38;5;241;43m5\u001b[39;49m\u001b[43m)\u001b[49m\n",
      "\u001b[1;31mTypeError\u001b[0m: Random.random() takes no arguments (2 given)"
     ]
    }
   ],
   "source": []
  },
  {
   "cell_type": "code",
   "execution_count": 22,
   "id": "df225542-3ccb-41de-b54c-3a9e84c65eac",
   "metadata": {},
   "outputs": [
    {
     "name": "stdin",
     "output_type": "stream",
     "text": [
      "kısa kenarsayı gir 2\n",
      "KAÇ adet kağıt olsun 3\n"
     ]
    },
    {
     "name": "stdout",
     "output_type": "stream",
     "text": [
      "36\n"
     ]
    }
   ],
   "source": [
    "#alan sorusu\n",
    "x=int(input(\"kısa kenarsayı gir\"))\n",
    "n=int(input(\"KAÇ adet kağıt olsun\"))\n",
    "alan=0\n",
    "for i in range(2,(2*n)+1,2):\n",
    "        alan+=x*(x+i)\n",
    "print(alan)"
   ]
  },
  {
   "cell_type": "code",
   "execution_count": 21,
   "id": "bd122770-8bd2-49bd-b025-60c2bf6e3dee",
   "metadata": {},
   "outputs": [
    {
     "name": "stdout",
     "output_type": "stream",
     "text": [
      "2\n",
      "4\n",
      "6\n"
     ]
    }
   ],
   "source": [
    "for i in range(2,7,2):\n",
    "    print(i)"
   ]
  },
  {
   "cell_type": "markdown",
   "id": "a26b1008",
   "metadata": {},
   "source": [
    "s =\"programlamada uzmanlaşmak isteyen bir kişinin çok sayıda soru çözmesi gerekir! bu aşamayi sadece sebatjer öğrenciler geçer? ikinciproblem sounun anlaşılmasıdır.\""
   ]
  },
  {
   "cell_type": "code",
   "execution_count": 21,
   "id": "c3d55ca8",
   "metadata": {},
   "outputs": [
    {
     "name": "stdout",
     "output_type": "stream",
     "text": [
      " programlamada uzmanlaşmak isteyen bir kişinin çok sayıda soru çözmesi gerekir bu aşamayi sadece sebatjer öğrenciler geçer ikinciproblem sounun anlaşılmasıdır\n"
     ]
    }
   ],
   "source": [
    "s =\"programlamada uzmanlaşmak isteyen bir kişinin çok sayıda soru çözmesi gerekir! bu aşamayi sadece sebatjer öğrenciler geçer? ikinciproblem sounun anlaşılmasıdır.\"\n",
    "YS = \" \"\n",
    "b=[\"!\",\"?\",\".\"]\n",
    "a=0\n",
    "for i in s:\n",
    "    if i in b:\n",
    "        i+=\"\"\n",
    "    else:\n",
    "        YS+=i\n",
    "print(YS)\n",
    "    "
   ]
  },
  {
   "cell_type": "code",
   "execution_count": 14,
   "id": "40fc3762",
   "metadata": {},
   "outputs": [
    {
     "name": "stdout",
     "output_type": "stream",
     "text": [
      "19\n",
      "[' ', ' ', ' ', ' ', ' ', ' ', ' ', ' ', ' ', ' ', ' ', ' ', ' ', ' ', ' ', ' ', ' ', ' ']\n"
     ]
    }
   ],
   "source": [
    "kelimeliste=[]\n",
    "tmp=0\n",
    "for i in YS:\n",
    "    if i !=\" \":\n",
    "        kelimeliste+=i\n",
    "        \n",
    "    else:\n",
    "        \n",
    "        "
   ]
  },
  {
   "cell_type": "code",
   "execution_count": 6,
   "id": "d7726240",
   "metadata": {},
   "outputs": [
    {
     "ename": "TypeError",
     "evalue": "can only concatenate str (not \"int\") to str",
     "output_type": "error",
     "traceback": [
      "\u001b[1;31m---------------------------------------------------------------------------\u001b[0m",
      "\u001b[1;31mTypeError\u001b[0m                                 Traceback (most recent call last)",
      "Input \u001b[1;32mIn [6]\u001b[0m, in \u001b[0;36m<cell line: 7>\u001b[1;34m()\u001b[0m\n\u001b[0;32m      9\u001b[0m         i\u001b[38;5;241m+\u001b[39m\u001b[38;5;241m=\u001b[39m\u001b[38;5;124m\"\u001b[39m\u001b[38;5;124m\"\u001b[39m\n\u001b[0;32m     10\u001b[0m     \u001b[38;5;28;01melse\u001b[39;00m:\n\u001b[1;32m---> 11\u001b[0m         YS\u001b[38;5;241m+\u001b[39m\u001b[38;5;241m=\u001b[39mi\n\u001b[0;32m     12\u001b[0m \u001b[38;5;28mprint\u001b[39m(YS)\n",
      "\u001b[1;31mTypeError\u001b[0m: can only concatenate str (not \"int\") to str"
     ]
    }
   ],
   "source": [
    "s =\"programlamada uzmanlaşmak isteyen bir kişinin çok sayıda soru çözmesi gerekir! bu aşamayi sadece sebatjer öğrenciler geçer? ikinciproblem sounun anlaşılmasıdır.\"\n",
    "s=str(s)\n",
    "YS=str(YS)\n",
    "YS = \" \"\n",
    "b=[\"!\",\"?\",\".\"]\n",
    "a=0\n",
    "for i in range(len(s)):\n",
    "    if s[i]==[\"!\",\"?\",\".\"]:\n",
    "        i+=\"\"\n",
    "    else:\n",
    "        YS+=i\n",
    "print(YS)"
   ]
  },
  {
   "cell_type": "code",
   "execution_count": null,
   "id": "abc78ae3-0433-4eae-925f-1638d1802c98",
   "metadata": {},
   "outputs": [],
   "source": []
  },
  {
   "cell_type": "code",
   "execution_count": null,
   "id": "d5a5c6b5-3be4-4ba1-b947-1d2343b847ab",
   "metadata": {},
   "outputs": [],
   "source": []
  }
 ],
 "metadata": {
  "kernelspec": {
   "display_name": "Python 3 (ipykernel)",
   "language": "python",
   "name": "python3"
  },
  "language_info": {
   "codemirror_mode": {
    "name": "ipython",
    "version": 3
   },
   "file_extension": ".py",
   "mimetype": "text/x-python",
   "name": "python",
   "nbconvert_exporter": "python",
   "pygments_lexer": "ipython3",
   "version": "3.9.12"
  }
 },
 "nbformat": 4,
 "nbformat_minor": 5
}
