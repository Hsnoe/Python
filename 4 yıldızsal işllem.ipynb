{
 "cells": [
  {
   "cell_type": "code",
   "execution_count": 11,
   "id": "d201255d",
   "metadata": {
    "scrolled": true
   },
   "outputs": [
    {
     "name": "stdout",
     "output_type": "stream",
     "text": [
      "bir tablo giriniz8\n",
      "########\n",
      "########\n",
      "########\n",
      "########\n",
      "########\n",
      "########\n",
      "########\n",
      "########\n"
     ]
    }
   ],
   "source": [
    "sayı=int(input(\"bir tablo giriniz\"))\n",
    "for satır in range(1,sayı+1):\n",
    "    print(\"#\"*sayı)"
   ]
  },
  {
   "cell_type": "code",
   "execution_count": 14,
   "id": "93fc5643",
   "metadata": {},
   "outputs": [
    {
     "name": "stdout",
     "output_type": "stream",
     "text": [
      "bir tablo giriniz5\n",
      "5\n",
      "10\n",
      "15\n",
      "20\n",
      "25\n"
     ]
    }
   ],
   "source": [
    "#hem satır hem sütün oluşturmak için\n",
    "sayı=int(input(\"bir tablo giriniz\"))\n",
    "for satır in range(1,sayı+1):\n",
    "    for sutun in range(1,sayı+1):\n",
    "        olcu=satır*sutun\n",
    "    print(olcu)\n"
   ]
  },
  {
   "cell_type": "code",
   "execution_count": 12,
   "id": "e6742e25",
   "metadata": {
    "scrolled": true
   },
   "outputs": [
    {
     "name": "stdout",
     "output_type": "stream",
     "text": [
      "bir tablo giriniz10\n",
      "  10     20     30     40     50     60     70     80     90    100   "
     ]
    }
   ],
   "source": [
    "#hem satır hem sütün oluşturmak için\n",
    "sayı=int(input(\"bir tablo giriniz\"))\n",
    "for satır in range(1,sayı+1):\n",
    "    for sutun in range(1,sayı+1):\n",
    "        olcu=satır*sutun\n",
    "    print(\"{0:4}\".format(olcu),end=\"   \")\n"
   ]
  },
  {
   "cell_type": "code",
   "execution_count": 2,
   "id": "c848acc7",
   "metadata": {},
   "outputs": [
    {
     "name": "stdin",
     "output_type": "stream",
     "text": [
      "bir tablo giriniz 5\n"
     ]
    },
    {
     "name": "stdout",
     "output_type": "stream",
     "text": [
      "*          *\n",
      "**        **\n",
      "***      ***\n",
      "****    ****\n",
      "*****  *****\n"
     ]
    }
   ],
   "source": [
    "sayı=int(input(\"bir tablo giriniz\"))\n",
    "for i in range(sayı):\n",
    "    a=\"*\" * (i+1)+' ' * (sayı-i) * 2+ \"*\" * (i+1)\n",
    "    print(a)\n",
    "    "
   ]
  },
  {
   "cell_type": "code",
   "execution_count": 15,
   "id": "73716e20",
   "metadata": {},
   "outputs": [
    {
     "name": "stdout",
     "output_type": "stream",
     "text": [
      "Sayı giriniz:5\n",
      "*          *\n",
      "**        **\n",
      "***      ***\n",
      "****    ****\n",
      "*****  *****\n",
      "************\n",
      "*****  *****\n",
      "****    ****\n",
      "***      ***\n",
      "**        **\n",
      "*          *\n"
     ]
    }
   ],
   "source": [
    "#kelebek çizme\n",
    "sayi = int(input('Sayı giriniz:'))\n",
    "for i in range(sayi):\n",
    "        val = '*' * (i+1) + ' ' * (sayi - i) * 2 + '*' * (i+1)\n",
    "        print(val)\n",
    "for i in range(sayi, -1, -1):\n",
    "        val = '*' * (i+1) + ' ' * (sayi - i) * 2 + '*' * (i+1)\n",
    "        print(val)"
   ]
  },
  {
   "cell_type": "code",
   "execution_count": 77,
   "id": "1ed32545",
   "metadata": {},
   "outputs": [
    {
     "name": "stdout",
     "output_type": "stream",
     "text": [
      "bir tablo giriniz5\n",
      "0\n",
      "2\n",
      "6\n",
      "12\n",
      "20\n",
      "30\n"
     ]
    }
   ],
   "source": [
    "sayı=int(input(\"bir tablo giriniz\"))\n",
    "for i in range(sayı+1):\n",
    "    a= (i) * (i+1)\n",
    "    print(a)\n",
    "    "
   ]
  },
  {
   "cell_type": "code",
   "execution_count": 1,
   "id": "0025098f",
   "metadata": {},
   "outputs": [
    {
     "name": "stdout",
     "output_type": "stream",
     "text": [
      "kenar uzunluğu giriniz5\n",
      "kenar uzunluğu giriniz5\n",
      "0\n",
      "1\n",
      "2\n",
      "3\n",
      "4\n"
     ]
    }
   ],
   "source": [
    "boşluk=0\n",
    "k=int(input(\"kenar uzunluğu giriniz\"))\n",
    "karakter=int(input(\"kenar uzunluğu giriniz\"))\n",
    "for i in range(karakter):\n",
    "    boşluk+=1\n",
    "    print(i)"
   ]
  },
  {
   "cell_type": "code",
   "execution_count": 18,
   "id": "bf429910",
   "metadata": {},
   "outputs": [
    {
     "name": "stdout",
     "output_type": "stream",
     "text": [
      "Sayı giriniz:2\n",
      "Sayı giriniz:2\n",
      "aa\n",
      "aa\n"
     ]
    }
   ],
   "source": [
    "satir = int(input('Sayı giriniz:'))\n",
    "sutun = int(input('Sayı giriniz:'))\n",
    "for i in range(satir):\n",
    "    for j in range(sutun):\n",
    "        print(\"a\",end=\"\")\n",
    "    print()"
   ]
  },
  {
   "cell_type": "code",
   "execution_count": 19,
   "id": "c20dab6d",
   "metadata": {},
   "outputs": [
    {
     "name": "stdout",
     "output_type": "stream",
     "text": [
      "Bir sayı giriniz:8\n",
      "\n",
      "1\n",
      "23\n",
      "456\n",
      "78910\n",
      "1112131415\n",
      "161718192021\n",
      "22232425262728\n",
      "2930313233343536\n"
     ]
    }
   ],
   "source": [
    "#6.tablo\n",
    "a=int(input(\"Bir sayı giriniz:\"))\n",
    "b=1\n",
    "for satir in range (a+1):\n",
    "    for sütun in range (satir):\n",
    "        print(b,end=\"\")\n",
    "        b+=1\n",
    "    print()\n"
   ]
  },
  {
   "cell_type": "code",
   "execution_count": 98,
   "id": "20f9a1a8",
   "metadata": {},
   "outputs": [
    {
     "name": "stdout",
     "output_type": "stream",
     "text": [
      "1 \t 2 \t 3 \t 4 \t 5 \t 6 \t 7 \t 8 \t 9 \t 10 \t \n",
      "\n",
      "2 \t 4 \t 6 \t 8 \t 10 \t 12 \t 14 \t 16 \t 18 \t 20 \t \n",
      "\n",
      "3 \t 6 \t 9 \t 12 \t 15 \t 18 \t 21 \t 24 \t 27 \t 30 \t \n",
      "\n",
      "4 \t 8 \t 12 \t 16 \t 20 \t 24 \t 28 \t 32 \t 36 \t 40 \t \n",
      "\n",
      "5 \t 10 \t 15 \t 20 \t 25 \t 30 \t 35 \t 40 \t 45 \t 50 \t \n",
      "\n",
      "6 \t 12 \t 18 \t 24 \t 30 \t 36 \t 42 \t 48 \t 54 \t 60 \t \n",
      "\n",
      "7 \t 14 \t 21 \t 28 \t 35 \t 42 \t 49 \t 56 \t 63 \t 70 \t \n",
      "\n",
      "8 \t 16 \t 24 \t 32 \t 40 \t 48 \t 56 \t 64 \t 72 \t 80 \t \n",
      "\n",
      "9 \t 18 \t 27 \t 36 \t 45 \t 54 \t 63 \t 72 \t 81 \t 90 \t \n",
      "\n",
      "10 \t 20 \t 30 \t 40 \t 50 \t 60 \t 70 \t 80 \t 90 \t 100 \t \n",
      "\n"
     ]
    }
   ],
   "source": [
    "#çarğım tablosu\n",
    "for satir in range(1,11):\n",
    "    for sutun in range(1,11):\n",
    "        print(satir*sutun, '\\t', end=\" \")\n",
    "    print(\"\\n\")"
   ]
  },
  {
   "cell_type": "code",
   "execution_count": 25,
   "id": "93ae8a50",
   "metadata": {
    "scrolled": true
   },
   "outputs": [
    {
     "name": "stdout",
     "output_type": "stream",
     "text": [
      "GİR3\n",
      "  *\n",
      " ***\n",
      "*****\n"
     ]
    }
   ],
   "source": [
    "#piramit yapma\n",
    "satir=int(input(\"GİR\"))\n",
    "for i in range(satir):\n",
    "    print(' '*(satir-i-1) + '*'*(2*i+1))\n"
   ]
  },
  {
   "cell_type": "code",
   "execution_count": 46,
   "id": "a350bdc0",
   "metadata": {},
   "outputs": [
    {
     "name": "stdout",
     "output_type": "stream",
     "text": [
      "0 0 0 0 0 \n",
      "1 1 1 1 1 \n",
      "2 2 2 2 2 \n",
      "3 3 3 3 3 \n",
      "4 4 4 4 4 \n"
     ]
    }
   ],
   "source": [
    "for i in range(5):\n",
    "    for j in range(5):\n",
    "        print(i,end=\" \")\n",
    "    print()"
   ]
  },
  {
   "cell_type": "code",
   "execution_count": 42,
   "id": "112b15cf",
   "metadata": {},
   "outputs": [
    {
     "name": "stdout",
     "output_type": "stream",
     "text": [
      "0 \n",
      "\n",
      "1 \n",
      "\n",
      "2 \n",
      "\n"
     ]
    }
   ],
   "source": [
    "for x in range(3):\n",
    "    print(x, '\\n' )"
   ]
  },
  {
   "cell_type": "code",
   "execution_count": 26,
   "id": "1cd6038c",
   "metadata": {
    "scrolled": true
   },
   "outputs": [
    {
     "name": "stdout",
     "output_type": "stream",
     "text": [
      "Bir sayı giriniz:4\n",
      "   *\n",
      "  ***\n",
      " *****\n",
      "*******\n",
      "   **\n",
      "   **\n"
     ]
    }
   ],
   "source": [
    "# ağaç \n",
    "n=int(input(\"Bir sayı giriniz:\"))\n",
    "for i in range(n):\n",
    "    print(\" \"*(n-i-1)+\"*\"*(i*2+1))\n",
    "\n",
    "\n",
    "for i in range(int(n/2)):\n",
    "    print(' '*int(n-n/4)+'*'*int(n/2))"
   ]
  },
  {
   "cell_type": "code",
   "execution_count": 21,
   "id": "c639a876",
   "metadata": {},
   "outputs": [
    {
     "ename": "TypeError",
     "evalue": "'l' is an invalid keyword argument for int()",
     "output_type": "error",
     "traceback": [
      "\u001b[1;31m---------------------------------------------------------------------------\u001b[0m",
      "\u001b[1;31mTypeError\u001b[0m                                 Traceback (most recent call last)",
      "Input \u001b[1;32mIn [21]\u001b[0m, in \u001b[0;36m<cell line: 2>\u001b[1;34m()\u001b[0m\n\u001b[0;32m      1\u001b[0m \u001b[38;5;66;03m#k = 5 girildiğinde 1 ile 10 arasında değerler olan liste aşağıdaki gibi 5 defa kaydırılıyor. Bunu gerçekleştiren programı yazınız?l\u001b[39;00m\n\u001b[1;32m----> 2\u001b[0m \u001b[38;5;28;43mint\u001b[39;49m\u001b[43m(\u001b[49m\u001b[43ml\u001b[49m\u001b[38;5;241;43m=\u001b[39;49m\u001b[43m[\u001b[49m\u001b[38;5;241;43m5\u001b[39;49m\u001b[43m,\u001b[49m\u001b[38;5;241;43m7\u001b[39;49m\u001b[43m,\u001b[49m\u001b[38;5;241;43m1\u001b[39;49m\u001b[43m,\u001b[49m\u001b[38;5;241;43m2\u001b[39;49m\u001b[43m,\u001b[49m\u001b[38;5;241;43m6\u001b[39;49m\u001b[43m,\u001b[49m\u001b[38;5;241;43m1\u001b[39;49m\u001b[43m,\u001b[49m\u001b[38;5;241;43m0\u001b[39;49m\u001b[43m,\u001b[49m\u001b[38;5;241;43m9\u001b[39;49m\u001b[43m,\u001b[49m\u001b[38;5;241;43m12\u001b[39;49m\u001b[43m,\u001b[49m\u001b[38;5;241;43m10\u001b[39;49m\u001b[43m]\u001b[49m\u001b[43m)\u001b[49m\n\u001b[0;32m      3\u001b[0m ata\u001b[38;5;241m=\u001b[39m\u001b[38;5;241m0\u001b[39m\n\u001b[0;32m      4\u001b[0m \u001b[38;5;28;01mfor\u001b[39;00m i \u001b[38;5;129;01min\u001b[39;00m \u001b[38;5;28mrange\u001b[39m(\u001b[38;5;241m10\u001b[39m):\n",
      "\u001b[1;31mTypeError\u001b[0m: 'l' is an invalid keyword argument for int()"
     ]
    }
   ],
   "source": [
    "#k = 5 girildiğinde 1 ile 10 arasında değerler olan liste aşağıdaki gibi 5 defa kaydırılıyor. Bunu gerçekleştiren programı yazınız?l\n",
    "int(l=[5,7,1,2,6,1,0,9,12,10]\n",
    "ata=0\n",
    "for i in range(10):\n",
    "    ata=l[i]\n",
    "    l[i[0]]=l[i[9]]\n",
    "    l[i[9]]=ata\n",
    "    print(l)\n"
   ]
  },
  {
   "cell_type": "code",
   "execution_count": 22,
   "id": "23f0fdc4",
   "metadata": {},
   "outputs": [
    {
     "name": "stdout",
     "output_type": "stream",
     "text": [
      "sayı gir8\n",
      "        *\n",
      "        **\n",
      "       *  *\n",
      "      *    *\n",
      "     *      *\n",
      "    *        *\n",
      "   *          *\n",
      "  *            *\n",
      " *              *\n"
     ]
    }
   ],
   "source": [
    "#tablo son\n",
    "n =int(input(\"sayı gir\"))\n",
    "print(\" \"*(n-1),\"*\")\n",
    "for i in range(n):\n",
    "    print(\" \"*(n-i)+\"*\"*1+\" \"*i*2+\"*\"*1)"
   ]
  },
  {
   "cell_type": "code",
   "execution_count": 29,
   "id": "1d1e3c51",
   "metadata": {},
   "outputs": [
    {
     "name": "stdout",
     "output_type": "stream",
     "text": [
      "9 9 9 9 9 9 9 9 9 8 8 8 8 8 8 8 8 "
     ]
    }
   ],
   "source": [
    "n= int(input(\"değer gir\"))\n",
    "for i in range(n):\n",
    "    print(9,end=\" \")\n"
   ]
  },
  {
   "cell_type": "code",
   "execution_count": 44,
   "id": "9d3f63df",
   "metadata": {},
   "outputs": [
    {
     "name": "stdout",
     "output_type": "stream",
     "text": [
      "s:5\n",
      "1\n",
      "22\n",
      "333\n",
      "4444\n",
      "55555\n"
     ]
    }
   ],
   "source": [
    "s = int(input(\"s:\"))\n",
    "for i in range(1,s+1,1):\n",
    "    for j in range(1,i+1):\n",
    "        print(i,end=\"\")\n",
    "    print()"
   ]
  },
  {
   "cell_type": "code",
   "execution_count": 42,
   "id": "fe15dd9e",
   "metadata": {},
   "outputs": [
    {
     "name": "stdout",
     "output_type": "stream",
     "text": [
      "s:5\n",
      "55555\n",
      "4444\n",
      "333\n",
      "22\n",
      "1\n",
      "1\n",
      "22\n",
      "333\n",
      "4444\n",
      "55555\n"
     ]
    }
   ],
   "source": [
    "s = int(input(\"s:\"))\n",
    "for i in range(s,0,-1):\n",
    "    for j in range(1,i+1):\n",
    "        print(i,end=\"\")\n",
    "    print()\n",
    "for i in range(1,s+1,1):\n",
    "    for j in range(1,i+1):\n",
    "        print(i,end=\"\")\n",
    "    print()"
   ]
  },
  {
   "cell_type": "code",
   "execution_count": null,
   "id": "4683515c",
   "metadata": {},
   "outputs": [],
   "source": []
  },
  {
   "cell_type": "code",
   "execution_count": 4,
   "id": "9b1f6a54",
   "metadata": {},
   "outputs": [
    {
     "ename": "SyntaxError",
     "evalue": "invalid syntax (612526244.py, line 3)",
     "output_type": "error",
     "traceback": [
      "\u001b[1;36m  Input \u001b[1;32mIn [4]\u001b[1;36m\u001b[0m\n\u001b[1;33m    while 10<x:\u001b[0m\n\u001b[1;37m    ^\u001b[0m\n\u001b[1;31mSyntaxError\u001b[0m\u001b[1;31m:\u001b[0m invalid syntax\n"
     ]
    }
   ],
   "source": [
    "toplamyol=0\n",
    "x=int(input(\"kaç cmmetre yükseklikten bırakılsın\")\n",
    "while 10<x:\n",
    "    toplamyol+=x\n",
    "    x=x-(x*0.10)\n",
    "print(toplamyol)"
   ]
  },
  {
   "cell_type": "code",
   "execution_count": null,
   "id": "b11c5b50-b011-42f2-a138-a725a1181ded",
   "metadata": {},
   "outputs": [],
   "source": []
  }
 ],
 "metadata": {
  "kernelspec": {
   "display_name": "Python 3 (ipykernel)",
   "language": "python",
   "name": "python3"
  },
  "language_info": {
   "codemirror_mode": {
    "name": "ipython",
    "version": 3
   },
   "file_extension": ".py",
   "mimetype": "text/x-python",
   "name": "python",
   "nbconvert_exporter": "python",
   "pygments_lexer": "ipython3",
   "version": "3.9.12"
  }
 },
 "nbformat": 4,
 "nbformat_minor": 5
}
