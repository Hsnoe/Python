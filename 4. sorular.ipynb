{
 "cells": [
  {
   "cell_type": "code",
   "execution_count": 1,
   "id": "49955111-1649-47cd-9ee0-8e4ebd4079a2",
   "metadata": {},
   "outputs": [
    {
     "name": "stdout",
     "output_type": "stream",
     "text": [
      "N sayı gir=15\n",
      "tek sayılar toplamı = 0\n",
      "çift sayılar toplamı = 1\n",
      "tek sayılar toplamı = 1\n",
      "çift sayılar toplamı = 1\n",
      "tek sayılar toplamı = 1\n",
      "çift sayılar toplamı = 2\n",
      "tek sayılar toplamı = 2\n",
      "çift sayılar toplamı = 2\n",
      "tek sayılar toplamı = 2\n",
      "çift sayılar toplamı = 3\n",
      "tek sayılar toplamı = 3\n",
      "çift sayılar toplamı = 3\n",
      "tek sayılar toplamı = 3\n",
      "çift sayılar toplamı = 4\n",
      "tek sayılar toplamı = 4\n",
      "çift sayılar toplamı = 4\n",
      "tek sayılar toplamı = 4\n",
      "çift sayılar toplamı = 5\n",
      "tek sayılar toplamı = 5\n",
      "çift sayılar toplamı = 5\n",
      "tek sayılar toplamı = 5\n",
      "çift sayılar toplamı = 6\n",
      "tek sayılar toplamı = 6\n",
      "çift sayılar toplamı = 6\n",
      "tek sayılar toplamı = 6\n",
      "çift sayılar toplamı = 7\n",
      "tek sayılar toplamı = 7\n",
      "çift sayılar toplamı = 7\n",
      "tek sayılar toplamı = 7\n",
      "çift sayılar toplamı = 8\n",
      "tek sayılar toplamı = 8\n",
      "çift sayılar toplamı = 8\n"
     ]
    }
   ],
   "source": [
    "# n’e kadar ki tek sayıların toplamı, çift sayıların çarpımını hesaplayan program?\n",
    "N=int(input(\"N sayı gir=\"))\n",
    "t=0\n",
    "c=0\n",
    "for x in range(N+1):\n",
    "    if x%2==1:\n",
    "        t+=1\n",
    "    print(\"tek sayılar toplamı =\",t)\n",
    "    if x%2==0:\n",
    "        c+=1\n",
    "    print(\"çift sayılar toplamı =\",c)\n",
    "   "
   ]
  },
  {
   "cell_type": "code",
   "execution_count": 4,
   "id": "1ca5b88e-9ac2-4023-8be9-83cc52551b59",
   "metadata": {},
   "outputs": [
    {
     "name": "stdin",
     "output_type": "stream",
     "text": [
      "N sayı gir= 5\n"
     ]
    },
    {
     "name": "stdout",
     "output_type": "stream",
     "text": [
      "tek toplam 4\n",
      "çiftçarpım 8\n"
     ]
    }
   ],
   "source": [
    "# n’e kadar ki tek sayıların toplamı, çift sayıların çarpımını hesaplayan program?\n",
    "carpım=1\n",
    "toplam=0\n",
    "n=int(input(\"N sayı gir=\"))\n",
    "for i in range(1,n):\n",
    "    if i%2==1:\n",
    "        toplam+=i\n",
    "    if i%2==0:\n",
    "        carpım*=i\n",
    "print(\"tek toplam\",toplam)\n",
    "print(\"çiftçarpım\",carpım)"
   ]
  },
  {
   "cell_type": "code",
   "execution_count": 18,
   "id": "3ea1945c-24ec-4b79-87bf-912fdbaf2d3f",
   "metadata": {},
   "outputs": [
    {
     "name": "stdin",
     "output_type": "stream",
     "text": [
      "N sayı gir= 5\n"
     ]
    },
    {
     "name": "stdout",
     "output_type": "stream",
     "text": [
      "N faktoriyel= 120\n"
     ]
    }
   ],
   "source": [
    "#Girilen sayının faktöriyelini hesaplayan program?\n",
    "N=int(input(\"N sayı gir=\"))\n",
    "fak=1\n",
    "for x in range(1,N+1):\n",
    "    fak=fak*x\n",
    "print(\"N faktoriyel=\",fak)\n",
    "    "
   ]
  },
  {
   "cell_type": "code",
   "execution_count": 27,
   "id": "44d1faac-59f5-472b-892b-dde5c2cd5291",
   "metadata": {},
   "outputs": [
    {
     "name": "stdin",
     "output_type": "stream",
     "text": [
      "fibonaccinin ilk N sayısısı gir= 4\n"
     ]
    },
    {
     "name": "stdout",
     "output_type": "stream",
     "text": [
      "0 1 1 2 "
     ]
    }
   ],
   "source": [
    "#Girilen n değerine göre Fibonacci serisinin \n",
    "#( 0 1 1 2 3 5 8 … ) ilk n terimini hesaplayınız?\n",
    "N=int(input(\"fibonaccinin ilk N sayısısı gir=\"))\n",
    "a=0\n",
    "print(a,end=\" \")\n",
    "b=1\n",
    "print(b,end=\" \")\n",
    "for x in range(N-2):\n",
    "    f=a+b\n",
    "    print(f,end=\" \")\n",
    "    a=b\n",
    "    b=f\n",
    "\n",
    "\n"
   ]
  },
  {
   "cell_type": "code",
   "execution_count": 6,
   "id": "9bfbeeaf-c88d-4d6c-ba73-887019717111",
   "metadata": {},
   "outputs": [
    {
     "name": "stdin",
     "output_type": "stream",
     "text": [
      "fibonaccinin ilk N sayısısı gir= 8\n"
     ]
    },
    {
     "name": "stdout",
     "output_type": "stream",
     "text": [
      "0\n",
      "1\n",
      "1\n",
      "2\n",
      "3\n",
      "5\n",
      "8\n",
      "13\n",
      "21\n",
      "34\n"
     ]
    }
   ],
   "source": [
    "#Girilen n değerine göre Fibonacci serisinin \n",
    "#( 0 1 1 2 3 5 8 … ) ilk n terimini hesaplayınız?\n",
    "n=int(input(\"fibonaccinin ilk N sayısısı gir=\"))\n",
    "a=0\n",
    "print(a)\n",
    "b=1\n",
    "print(b)\n",
    "for i in range(n):\n",
    "    f=a+b\n",
    "    print(f)\n",
    "    a=b\n",
    "    b=f\n",
    "    "
   ]
  },
  {
   "cell_type": "code",
   "execution_count": 2,
   "id": "34483ebe",
   "metadata": {},
   "outputs": [
    {
     "name": "stdout",
     "output_type": "stream",
     "text": [
      "kaç adet sayı olsun5\n",
      "kaç adet sayı olsun10\n",
      "kaç adet sayı olsun0\n",
      "kaç adet sayı olsun-2\n",
      "kaç adet sayı olsun0\n",
      "kaç adet sayı olsun5\n",
      "2 6 2\n"
     ]
    }
   ],
   "source": [
    "#Girilen n adet sayı içerisinden pozitif, negatif ve sıfır sayısının kaçar adet tekrarlandığını bulan program?\n",
    "p=0\n",
    "n=0\n",
    "s=0\n",
    "n=int(input(\"kaç adet sayı olsun\"))\n",
    "for i in range(n):\n",
    "    m=int(input(\"kaç adet sayı olsun\"))\n",
    "    if m>0:\n",
    "        p=p+1\n",
    "    if m<0:\n",
    "        n=n+1\n",
    "    if m==0:\n",
    "        s=s+1\n",
    "print(p,n,s)"
   ]
  },
  {
   "cell_type": "code",
   "execution_count": 25,
   "id": "2c174a3a",
   "metadata": {},
   "outputs": [
    {
     "name": "stdout",
     "output_type": "stream",
     "text": [
      "first element olsun2\n",
      "toplam eleman sayısı olsun12\n",
      "artış değeri olsun2\n",
      "2\n",
      "4 6 8 10 12 14 16 18 20 22 24 "
     ]
    }
   ],
   "source": [
    "#Serinin ilk elemanı, toplam eleman sayısını ve artış değeri girildiğinde seri sonucunu hesaplayan program?\n",
    "i=int(input(\"first element olsun\"))\n",
    "t=int(input(\"toplam eleman sayısı olsun\"))\n",
    "a=int(input(\"artış değeri olsun\"))\n",
    "print(i)\n",
    "for x in range(t-1):\n",
    "    i=i+a\n",
    "    print(i,end=\" \")\n",
    "    \n",
    "\n"
   ]
  },
  {
   "cell_type": "code",
   "execution_count": null,
   "id": "4874de49",
   "metadata": {},
   "outputs": [],
   "source": [
    "                        fonksiyonunun x eksenini kestiği nokta sayısını bulunuz? bu kaldııııııı"
   ]
  },
  {
   "cell_type": "code",
   "execution_count": 58,
   "id": "d635414f",
   "metadata": {},
   "outputs": [
    {
     "name": "stdout",
     "output_type": "stream",
     "text": [
      "enter a number9\n",
      "asal değildir\n"
     ]
    }
   ],
   "source": [
    "#Girilen bir sayının asal olup olmadığını bulunuz?\n",
    "a=1\n",
    "\n",
    "s=int(input(\"enter a number\"))\n",
    "for i in range(2,s,1):\n",
    "    if s%i==0:\n",
    "        a=0\n",
    "if a==0:\n",
    "    print(\"asal değildir\")\n",
    "else:\n",
    "    print(\"asaldır\")\n",
    "     "
   ]
  },
  {
   "cell_type": "code",
   "execution_count": 11,
   "id": "2eca905d-0497-41fa-9a5a-0b7a3ced925e",
   "metadata": {},
   "outputs": [
    {
     "name": "stdin",
     "output_type": "stream",
     "text": [
      "enter a number 8\n"
     ]
    },
    {
     "name": "stdout",
     "output_type": "stream",
     "text": [
      "asal değil\n"
     ]
    }
   ],
   "source": [
    "c=0\n",
    "s=int(input(\"enter a number\"))\n",
    "for i in range(2,s):\n",
    "    if s%i==0:\n",
    "        c=1\n",
    "if c==1:\n",
    "    print(\"asal değil\")\n",
    "else:\n",
    "    print(\"asal\")"
   ]
  },
  {
   "cell_type": "code",
   "execution_count": 16,
   "id": "c0913a6a-5679-4c2e-9671-8454ff5dbd3f",
   "metadata": {},
   "outputs": [
    {
     "name": "stdin",
     "output_type": "stream",
     "text": [
      "enter a number 36\n"
     ]
    },
    {
     "name": "stdout",
     "output_type": "stream",
     "text": [
      "2\n",
      "2\n",
      "3\n",
      "3\n"
     ]
    }
   ],
   "source": [
    "açarpanı=2\n",
    "s=int(input(\"enter a number\"))\n",
    "while s>1:\n",
    "    if s%açarpanı==0:\n",
    "        s=s/açarpanı\n",
    "        print(açarpanı)\n",
    "    else:\n",
    "        açarpanı+=1"
   ]
  },
  {
   "cell_type": "code",
   "execution_count": 12,
   "id": "66b0ed4d",
   "metadata": {},
   "outputs": [
    {
     "name": "stdin",
     "output_type": "stream",
     "text": [
      "enter a number 18\n"
     ]
    },
    {
     "name": "stdout",
     "output_type": "stream",
     "text": [
      "2\n",
      "3\n",
      "3\n"
     ]
    }
   ],
   "source": [
    "#Girilen bir sayının asal çarpanlarını bulan program?\n",
    "açarpanı=2\n",
    "s=int(input(\"enter a number\"))\n",
    "while s>1:\n",
    "    if s%açarpanı==0:\n",
    "        s=s/açarpanı\n",
    "        print(açarpanı)\n",
    "    else:\n",
    "        açarpanı=açarpanı+1\n",
    "        "
   ]
  },
  {
   "cell_type": "code",
   "execution_count": 76,
   "id": "f2642cc5",
   "metadata": {},
   "outputs": [
    {
     "name": "stdout",
     "output_type": "stream",
     "text": [
      "enter a number728\n",
      "basamak değerleri çarpımı = 112\n"
     ]
    }
   ],
   "source": [
    "#Girilen sayının basamak değerleri çarpımını bulunuz?\n",
    "a=0\n",
    "b=0\n",
    "c=0\n",
    "n=int(input(\"enter a number\"))\n",
    "a=n//100\n",
    "b=(n%100)//10\n",
    "c=(n%100)%10\n",
    "print(\"basamak değerleri çarpımı =\",a*b*c)"
   ]
  },
  {
   "cell_type": "code",
   "execution_count": 14,
   "id": "a4e63d2f",
   "metadata": {},
   "outputs": [
    {
     "name": "stdout",
     "output_type": "stream",
     "text": [
      "enter a number185\n",
      "['1', '8', '5']\n",
      "40\n"
     ]
    }
   ],
   "source": [
    "n=int(input(\"enter a number\"))\n",
    "n=str(n)\n",
    "a=[]\n",
    "carp=1\n",
    "for i in range(len(n)):\n",
    "    a+=n[i]\n",
    "print(a)\n",
    "for i in range(len(a)):\n",
    "    carp*=int(a[i])\n",
    "print(carp)"
   ]
  },
  {
   "cell_type": "code",
   "execution_count": 17,
   "id": "3b766e6e-3a28-4ede-97aa-630dca799f22",
   "metadata": {},
   "outputs": [
    {
     "name": "stdin",
     "output_type": "stream",
     "text": [
      "enter a number 587\n"
     ]
    },
    {
     "name": "stdout",
     "output_type": "stream",
     "text": [
      "587\n"
     ]
    }
   ],
   "source": [
    "n=int(input(\"enter a number\"))\n",
    "n=str(n)\n",
    "print(n)"
   ]
  },
  {
   "cell_type": "code",
   "execution_count": 6,
   "id": "e95b1c63",
   "metadata": {},
   "outputs": [
    {
     "name": "stdout",
     "output_type": "stream",
     "text": [
      "enter a number185\n",
      "enter a number5\n"
     ]
    }
   ],
   "source": [
    "#Girilen sayının basamak değerlerinde k rakamı olmayanları listeleyen program? bu kaldıııııııı\n",
    "a=0\n",
    "b=0\n",
    "c=0\n",
    "d=0\n",
    "k=int(input(\"enter a number\"))\n",
    "n=int(input(\"enter a number\"))\n",
    "a=n//100\n",
    "b=(n%100)//10\n",
    "c=(n%100)%10\n",
    "if a!=k:\n",
    "    d+=a\n",
    "else:\n",
    "    print(a)\n",
    "if b!=k:\n",
    "    d+=b\n",
    "else:\n",
    "    print(b)\n",
    "if c!=k:\n",
    "    d+=c\n",
    "else:\n",
    "    print(c)"
   ]
  },
  {
   "cell_type": "code",
   "execution_count": 103,
   "id": "498c5f48",
   "metadata": {},
   "outputs": [
    {
     "name": "stdout",
     "output_type": "stream",
     "text": [
      "sayı giriniz19785\n",
      "5\n"
     ]
    }
   ],
   "source": [
    "#Girilen sayının basamak sayısını ekrana yazdıran program?\n",
    "b=0\n",
    "a = str(input(\"sayı giriniz\"))\n",
    "for i in range(len(a)):\n",
    "    b=b+1\n",
    "print(b)"
   ]
  },
  {
   "cell_type": "code",
   "execution_count": 107,
   "id": "7bbeaf73",
   "metadata": {},
   "outputs": [
    {
     "name": "stdout",
     "output_type": "stream",
     "text": [
      "sayı giriniz19745\n",
      "0\n",
      "1\n",
      "2\n",
      "3\n",
      "4\n"
     ]
    }
   ],
   "source": [
    "a = str(input(\"sayı giriniz\"))\n",
    "for i in range(len(a)):\n",
    "    print(i)"
   ]
  },
  {
   "cell_type": "code",
   "execution_count": null,
   "id": "d46d318c",
   "metadata": {},
   "outputs": [],
   "source": []
  }
 ],
 "metadata": {
  "kernelspec": {
   "display_name": "Python 3 (ipykernel)",
   "language": "python",
   "name": "python3"
  },
  "language_info": {
   "codemirror_mode": {
    "name": "ipython",
    "version": 3
   },
   "file_extension": ".py",
   "mimetype": "text/x-python",
   "name": "python",
   "nbconvert_exporter": "python",
   "pygments_lexer": "ipython3",
   "version": "3.9.12"
  }
 },
 "nbformat": 4,
 "nbformat_minor": 5
}
