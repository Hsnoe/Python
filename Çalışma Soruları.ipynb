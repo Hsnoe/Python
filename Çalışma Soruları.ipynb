{
 "cells": [
  {
   "cell_type": "code",
   "execution_count": 3,
   "metadata": {},
   "outputs": [
    {
     "name": "stdin",
     "output_type": "stream",
     "text": [
      "Bir satir giriniz 5\n"
     ]
    },
    {
     "name": "stdout",
     "output_type": "stream",
     "text": [
      "[6, 9, 9, 10, 1]\n",
      "[1, 2, 9, 8, 6]\n",
      "[1, 9, 3, 5, 8]\n",
      "[7, 7, 9, 7, 4]\n",
      "[4, 8, 4, 7, 6]\n",
      "-------------------------------\n",
      "Sol Diyagonal= [6, 2, 3, 7, 6]\n",
      "Sağ Diyagonal= [1, 8, 3, 7, 4]\n",
      "-------------------------------\n",
      "YENİ MATRİS\n",
      "[1, 9, 9, 10, 6]\n",
      "[1, 8, 9, 2, 6]\n",
      "[1, 9, 3, 5, 8]\n",
      "[7, 7, 9, 7, 4]\n",
      "[6, 8, 4, 7, 4]\n"
     ]
    }
   ],
   "source": [
    "#Soru 1\n",
    "import random\n",
    "sol_diyagonal=[]\n",
    "sağ_diyagonal=[]\n",
    "cnt=0\n",
    "degisken=0\n",
    "satir=int(input(\"Bir satir giriniz\"))\n",
    "matris=[[int(random.randint(1,10)) for x in range (satir)]for j in range (satir)]\n",
    "for i in range (len(matris)):\n",
    "    print(matris[i])\n",
    "    sol_diyagonal+=[matris[i][i]]\n",
    "while cnt==0:\n",
    "    for j in range (len(matris[i])-1,-1,-1):\n",
    "        sağ_diyagonal+=[matris[degisken][j]]\n",
    "        if degisken==(satir-1):\n",
    "            cnt=1\n",
    "        else:\n",
    "            cnt=0\n",
    "            degisken+=1\n",
    "print(\"-------------------------------\")\n",
    "print(\"Sol Diyagonal=\",sol_diyagonal)\n",
    "print(\"Sağ Diyagonal=\",sağ_diyagonal)\n",
    "print(\"-------------------------------\")\n",
    "for i in range (len(matris)):\n",
    "    matris[i][i]=sağ_diyagonal[i]\n",
    "\n",
    "cnt=0\n",
    "degisken=0\n",
    "while cnt==0:\n",
    "    for j in range (len(matris[i])-1,-1,-1):\n",
    "        matris[degisken][j]=sol_diyagonal[degisken]\n",
    "        if degisken==(satir-1):\n",
    "            cnt=1\n",
    "        else:\n",
    "            cnt=0\n",
    "            degisken+=1\n",
    "print(\"YENİ MATRİS\")\n",
    "for i in range (len(matris)):\n",
    "    print(matris[i])"
   ]
  },
  {
   "cell_type": "code",
   "execution_count": 20,
   "metadata": {},
   "outputs": [
    {
     "name": "stdin",
     "output_type": "stream",
     "text": [
      "Bir satir giriniz 8\n"
     ]
    },
    {
     "name": "stdout",
     "output_type": "stream",
     "text": [
      "[2, 10, 6, 4, 8, 3, 7, 7]\n",
      "[2, 1, 7, 3, 3, 7, 1, 9]\n",
      "[3, 8, 9, 7, 6, 4, 7, 5]\n",
      "[2, 10, 3, 5, 1, 2, 2, 9]\n",
      "[9, 7, 3, 10, 8, 6, 2, 4]\n",
      "[3, 8, 10, 8, 2, 8, 8, 7]\n",
      "[1, 7, 6, 3, 10, 2, 1, 7]\n",
      "[5, 10, 5, 8, 10, 5, 2, 5]\n",
      "[2, 1, 9, 5, 8, 8, 1, 5]\n",
      "-------------------------------\n",
      "Sol Diyagonal= [2, 1, 9, 5, 8, 8, 1, 5]\n",
      "Sağ Diyagonal= [7, 1, 4, 1, 10, 10, 7, 5]\n",
      "-------------------------------\n",
      "YENİ MATRİS\n",
      "[7, 10, 6, 4, 8, 3, 7, 7]\n",
      "[2, 1, 7, 3, 3, 7, 1, 9]\n",
      "[3, 8, 4, 7, 6, 4, 7, 5]\n",
      "[2, 10, 3, 1, 1, 2, 2, 9]\n",
      "[9, 7, 3, 10, 10, 6, 2, 4]\n",
      "[3, 8, 10, 8, 2, 10, 8, 7]\n",
      "[1, 7, 6, 3, 10, 2, 7, 7]\n",
      "[5, 10, 5, 8, 10, 5, 2, 5]\n"
     ]
    }
   ],
   "source": [
    "import random\n",
    "sol_diyagonal=[]\n",
    "sağ_diyagonal=[]\n",
    "cnt=0\n",
    "degisken=0\n",
    "satir=int(input(\"Bir satir giriniz\"))\n",
    "matris=[[int(random.randint(1,10)) for x in range (satir)]for j in range (satir)]\n",
    "for i in range (len(matris)):\n",
    "    print(matris[i])\n",
    "    sol_diyagonal+=[matris[i][i]]\n",
    "print(sol_diyagonal)\n",
    "while cnt==0:\n",
    "    for j in range (len(matris[i])-1,-1,-1):\n",
    "        sağ_diyagonal+=[matris[degisken][j]]\n",
    "        if degisken==(satir-1):\n",
    "            cnt=1\n",
    "        else:\n",
    "            cnt=0\n",
    "            degisken+=1\n",
    "print(\"-------------------------------\")\n",
    "print(\"Sol Diyagonal=\",sol_diyagonal)\n",
    "print(\"Sağ Diyagonal=\",sağ_diyagonal)\n",
    "print(\"-------------------------------\")\n",
    "for i in range (len(matris)):\n",
    "    matris[i][i]=sağ_diyagonal[i]\n",
    "print(\"YENİ MATRİS\")\n",
    "for i in range (len(matris)):\n",
    "    print(matris[i])"
   ]
  },
  {
   "cell_type": "code",
   "execution_count": 11,
   "metadata": {},
   "outputs": [
    {
     "name": "stdin",
     "output_type": "stream",
     "text": [
      "Dikdörtgenin Çevre Uzunluğunu Giriniz: 5\n",
      "Karenin Kenar Uzunluğunu Giriniz: 1\n"
     ]
    },
    {
     "name": "stdout",
     "output_type": "stream",
     "text": [
      "Dikdörtgenin alanı= 1\n"
     ]
    }
   ],
   "source": [
    "#Soru 2\n",
    "çevre_uzunluğu=int(input(\"Dikdörtgenin Çevre Uzunluğunu Giriniz:\"))\n",
    "karenin_tek_kenar_uzunluğu=int(input(\"Karenin Kenar Uzunluğunu Giriniz:\"))\n",
    "dik_uzun_kenar=int((çevre_uzunluğu-(2*karenin_tek_kenar_uzunluğu))/2)\n",
    "print(\"Dikdörtgenin alanı=\",dik_uzun_kenar*karenin_tek_kenar_uzunluğu)"
   ]
  },
  {
   "cell_type": "code",
   "execution_count": 5,
   "metadata": {},
   "outputs": [
    {
     "name": "stdout",
     "output_type": "stream",
     "text": [
      "X'in alabileceği deger aralığı= 0 < x < 3\n"
     ]
    }
   ],
   "source": [
    "#Soru 3 (BAKILACAK)\n",
    "a_agırlıgı=int(input(\"Bir sayı giriniz\"))\n",
    "b_agırlıgı=int(input(\"Bir sayı giriniz\"))\n",
    "c_agırlıgı=int(input(\"Bir sayı giriniz\"))\n",
    "x=0\n",
    "deger_aralığı=[]\n",
    "sag_kefe=b_agırlıgı+c_agırlıgı\n",
    "sol_kefe=a_agırlıgı+x*3\n",
    "while sag_kefe>=sol_kefe:\n",
    "    deger_aralığı+=[x]\n",
    "    x+=1\n",
    "    sol_kefe=a_agırlıgı+x*3\n",
    "son_eleman=int(len(deger_aralığı)-1)\n",
    "print(\"X'in alabileceği deger aralığı=\",deger_aralığı[0],\"< x <\",deger_aralığı[son_eleman])"
   ]
  },
  {
   "cell_type": "code",
   "execution_count": null,
   "metadata": {},
   "outputs": [
    {
     "name": "stdout",
     "output_type": "stream",
     "text": [
      "Sol Kefe= 0 Sağ Kefe= 0\n",
      "Sol Kefe= 0 + 13 Sağ Kefe= 0\n",
      "Sol Kefe= 13 Sağ Kefe= 0 + 42\n",
      "Sol Kefe= 13 + 32 Sağ Kefe= 42\n",
      "Sol Kefe= 45 Sağ Kefe= 42 + 39\n",
      "Sol Kefe= 45 + 3 Sağ Kefe= 81\n",
      "Sol Kefe= 48 + 21 Sağ Kefe= 81\n",
      "Sol Kefe= 69 + 46 Sağ Kefe= 81\n",
      "Sol Kefe= 115 Sağ Kefe= 81 + 28\n",
      "Sol Kefe= 115 Sağ Kefe= 109 + 45\n",
      "Sol Kefe= 115 + 49 Sağ Kefe= 154\n",
      "Sol Kefe= 164 Sağ Kefe= 154 + 12\n",
      "Sol Kefe= 164 + 30 Sağ Kefe= 166\n",
      "Sol Kefe= 194 Sağ Kefe= 166 + 8\n",
      "Sol Kefe= 194 Sağ Kefe= 174 + 32\n"
     ]
    }
   ],
   "source": [
    "#Soru 4\n",
    "import random\n",
    "sol_kefe=0\n",
    "sağ_kefe=0\n",
    "cnt=0\n",
    "print(\"Sol Kefe=\",sol_kefe,\"Sağ Kefe=\",sağ_kefe)\n",
    "sol_kefe=random.randint(1,50)\n",
    "print(\"Sol Kefe= 0 +\",sol_kefe,\"Sağ Kefe=\",sağ_kefe)\n",
    "while cnt<9:\n",
    "    if sol_kefe>sağ_kefe:\n",
    "        ilk_deger_sağ=sağ_kefe\n",
    "        sağ_kefe+=random.randint(1,50)\n",
    "        eklenen_sayı_sağ=sağ_kefe-ilk_deger_sağ\n",
    "        print(\"Sol Kefe=\",sol_kefe,\"Sağ Kefe=\",ilk_deger_sağ,\"+\",eklenen_sayı_sağ)\n",
    "        if sağ_kefe>sol_kefe:\n",
    "            cnt+=1\n",
    "    else:\n",
    "        ilk_deger_sol=sol_kefe\n",
    "        sol_kefe+=random.randint(1,50)\n",
    "        eklenen_sayı_sol=sol_kefe-ilk_deger_sol\n",
    "        print(\"Sol Kefe=\",ilk_deger_sol,\"+\",eklenen_sayı_sol,\"Sağ Kefe=\",sağ_kefe)\n",
    "        if sol_kefe>sağ_kefe:\n",
    "            cnt+=1"
   ]
  },
  {
   "cell_type": "code",
   "execution_count": 1,
   "metadata": {},
   "outputs": [
    {
     "name": "stdout",
     "output_type": "stream",
     "text": [
      "27\n",
      "9\n",
      "36\n"
     ]
    }
   ],
   "source": [
    "#Soru 5 (BAKILACAK)\n",
    "zeynep_kalem=int(input(\"Kalem sayısını giriniz:\"))\n",
    "kuzey_kalem=int(input(\"Kuzeyin kalem sayısını giriniz:\"))\n",
    "def carpan_toplam(x):\n",
    "    top=0\n",
    "    cnt=0\n",
    "    for i in range (x-1,0,-1):\n",
    "        if x%i==0:\n",
    "            print(i)\n",
    "            top+=i\n",
    "            cnt+=1\n",
    "        if cnt==2:\n",
    "            break\n",
    "    print(top)\n",
    "cnt=0\n",
    "top=0\n",
    "for j in range (kuzey_kalem-1,0,-1):\n",
    "    if kuzey_kalem%j==0:\n",
    "        print(j)\n",
    "        top+=j\n",
    "        cnt+=1\n",
    "    if cnt==2:\n",
    "        break\n",
    "print(top)"
   ]
  },
  {
   "cell_type": "code",
   "execution_count": null,
   "metadata": {},
   "outputs": [
    {
     "name": "stdout",
     "output_type": "stream",
     "text": [
      "0 Saat 1 Dakika 0 Saniye\n",
      "0 Saat 2 Dakika 0 Saniye\n",
      "0 Saat 3 Dakika 0 Saniye\n",
      "0 Saat 4 Dakika 0 Saniye\n",
      "0 Saat 5 Dakika 0 Saniye\n",
      "0 Saat 6 Dakika 0 Saniye\n",
      "0 Saat 7 Dakika 0 Saniye\n",
      "0 Saat 8 Dakika 0 Saniye\n",
      "0 Saat 9 Dakika 0 Saniye\n",
      "0 Saat 10 Dakika 0 Saniye\n",
      "0 Saat 11 Dakika 0 Saniye\n"
     ]
    }
   ],
   "source": [
    "#Soru 6\n",
    "#k=12 #saniyede üretiyor 5\n",
    "#l=15 #saniye üretiyor 4\n",
    "toplam_paket=int(input(\"Üretilmesi istenen paket adedi:\"))\n",
    "dakikada_üretilen=9\n",
    "döngü=toplam_paket//dakikada_üretilen\n",
    "for i in range (1,döngü+1):\n",
    "    print(i//60,\"Saat\",i%60,\"Dakika\",0,\"Saniye\")"
   ]
  },
  {
   "cell_type": "code",
   "execution_count": 15,
   "metadata": {},
   "outputs": [
    {
     "data": {
      "text/plain": [
       "3"
      ]
     },
     "execution_count": 15,
     "metadata": {},
     "output_type": "execute_result"
    }
   ],
   "source": [
    "10//3\n"
   ]
  },
  {
   "cell_type": "code",
   "execution_count": null,
   "metadata": {},
   "outputs": [
    {
     "name": "stdout",
     "output_type": "stream",
     "text": [
      "Muzlu süt oranı= 2.6 Çilekli süt oranı= 3.525\n",
      "0.7375886524822696\n"
     ]
    }
   ],
   "source": [
    "#Soru 7\n",
    "muzlu_süt_acı=int(input(\"Bir açı değeri giriniz:\"))\n",
    "çilekli_süt_acı=360-muzlu_süt_acı\n",
    "muzlu_süt_oran=muzlu_süt_acı/30\n",
    "çilekli_süt_oran=çilekli_süt_acı/80\n",
    "son_oran=muzlu_süt_oran/çilekli_süt_oran\n",
    "print(\"Muzlu süt oranı=\",muzlu_süt_oran,\"Çilekli süt oranı=\",çilekli_süt_oran)\n",
    "print(son_oran)"
   ]
  },
  {
   "cell_type": "code",
   "execution_count": null,
   "metadata": {},
   "outputs": [
    {
     "name": "stdout",
     "output_type": "stream",
     "text": [
      "8\n",
      "188\n"
     ]
    }
   ],
   "source": [
    "#Soru 9 (Özyineleme yok)\n",
    "kısa_kenar=int(input(\"Kısa kenarı giriniz:\"))\n",
    "tekrar_sayısı=int(input(\"Bir sayı giriniz:\"))\n",
    "print(kısa_kenar*(kısa_kenar+2))\n",
    "tekrar=1\n",
    "for i in range (2,tekrar_sayısı+1):\n",
    "    alan=(kısa_kenar*(kısa_kenar+2))*i+((2*kısa_kenar)*tekrar)\n",
    "    tekrar+=i\n",
    "    print(alan)"
   ]
  },
  {
   "cell_type": "code",
   "execution_count": 46,
   "metadata": {},
   "outputs": [
    {
     "name": "stdout",
     "output_type": "stream",
     "text": [
      "P Tarlası\n"
     ]
    }
   ],
   "source": [
    "#Soru 10\n",
    "depo_su_miktarı=int(input(\"Depodaki su miktarını giriniz:\"))\n",
    "tarlalar=[]\n",
    "cnt=0\n",
    "k_tarlası=int(input(\"Tarla alanı giriniz:\"))\n",
    "l_tarlası=int(input(\"Tarla alanı giriniz:\"))\n",
    "n_tarlası=int(input(\"Tarla alanı giriniz:\"))\n",
    "p_tarlası=int(input(\"Tarla alanı giriniz:\"))\n",
    "r_tarlası=int(input(\"Tarla alanı giriniz:\"))\n",
    "s_tarlası=int(input(\"Tarla alanı giriniz:\"))\n",
    "yeni_su_miktarı=0\n",
    "toplam=0\n",
    "tarlalar+=[k_tarlası,l_tarlası,n_tarlası,p_tarlası,r_tarlası,s_tarlası]\n",
    "tarla_isimleri=[\"K Tarlası\",\"L Tarlası\",\"N Tarlası\",\"P Tarlası\",\"R Tarlası\",\"S Tarlası\"]\n",
    "while cnt==0:\n",
    "    if depo_su_miktarı>=2500:\n",
    "        depo_su_miktarı-=1\n",
    "        yeni_su_miktarı+=1\n",
    "    else:\n",
    "        cnt=1\n",
    "yeni_su_miktarı*=2\n",
    "for i in range (len(tarlalar)):\n",
    "    toplam+=tarlalar[i]\n",
    "    if toplam>yeni_su_miktarı:\n",
    "        print(tarla_isimleri[i])\n",
    "        break"
   ]
  },
  {
   "cell_type": "code",
   "execution_count": 2,
   "metadata": {},
   "outputs": [
    {
     "name": "stdout",
     "output_type": "stream",
     "text": [
      "16.0\n",
      "25.6\n",
      "40.96\n",
      "65.536\n",
      "104.8576\n",
      "167.77216\n",
      "268.43545600000004\n",
      "429.4967296000001\n",
      "687.1947673600001\n",
      "1099.5116277760003\n"
     ]
    }
   ],
   "source": [
    "#Soru 11 Özyinelemesiz\n",
    "def mitoz(sayi):\n",
    "    cnt=0\n",
    "    while cnt<10:\n",
    "        cnt+=1\n",
    "        sayi*=2\n",
    "        sayi=sayi-(sayi*0.2)\n",
    "        print(sayi)\n",
    "mitoz(10)"
   ]
  },
  {
   "cell_type": "code",
   "execution_count": 12,
   "metadata": {},
   "outputs": [
    {
     "name": "stdout",
     "output_type": "stream",
     "text": [
      "16.0\n",
      "25.6\n",
      "40.96\n",
      "65.536\n",
      "104.8576\n",
      "167.77216\n",
      "268.43545600000004\n",
      "429.4967296000001\n",
      "687.1947673600001\n",
      "1099.5116277760003\n"
     ]
    },
    {
     "data": {
      "text/plain": [
       "1099.5116277760003"
      ]
     },
     "execution_count": 12,
     "metadata": {},
     "output_type": "execute_result"
    }
   ],
   "source": [
    "#Soru 11 Özyinelemeli\n",
    "def mitoz_özyinelemeli(sayi,sayac=0):\n",
    "    if sayac==10:\n",
    "        return sayi\n",
    "    else:\n",
    "        sayi*=2\n",
    "        sayi=sayi-(sayi*0.2)\n",
    "        print(sayi)\n",
    "        return mitoz_özyinelemeli(sayi,sayac+1)\n",
    "mitoz_özyinelemeli(10)"
   ]
  },
  {
   "cell_type": "code",
   "execution_count": 2,
   "metadata": {},
   "outputs": [
    {
     "name": "stdin",
     "output_type": "stream",
     "text": [
      "Bir kelime giriniz: 5\n"
     ]
    },
    {
     "name": "stdout",
     "output_type": "stream",
     "text": [
      "Sesli harf bulunamadı.\n"
     ]
    }
   ],
   "source": [
    "#Soru 12\n",
    "kul_gir=input(\"Bir kelime giriniz:\")\n",
    "\n",
    "def harfdonustur(kul_gir):\n",
    "    cnt=0\n",
    "    sesli=[\"a\",\"e\",\"i\",\"ı\",\"u\",\"ü\",\"o\",\"ö\"]\n",
    "    kul_gir_liste=[]\n",
    "    sesli_str=()\n",
    "    for i in range (len(kul_gir)):\n",
    "        kul_gir_liste+=kul_gir[i]\n",
    "    for i in range (len(kul_gir)):\n",
    "        if kul_gir_liste[i] in sesli:\n",
    "            kul_gir_liste[i]=\"X\"\n",
    "            cnt+=1\n",
    "    if cnt>0:\n",
    "        for i in range (len(kul_gir_liste)):\n",
    "            print(kul_gir_liste[i],end=\"\")\n",
    "        print(\" \",cnt,\"defa yer değiştirme işlemi yapıldı\")\n",
    "    else:\n",
    "        print(\"Sesli harf bulunamadı.\")\n",
    "if len(kul_gir)>20:\n",
    "    print(\"Hatalı giriş yaptınız\")\n",
    "else:\n",
    "    harfdonustur(kul_gir)"
   ]
  },
  {
   "cell_type": "code",
   "execution_count": 37,
   "metadata": {},
   "outputs": [
    {
     "name": "stdout",
     "output_type": "stream",
     "text": [
      "1 3 5 7 9 \n",
      "Çift sayı bulunamadı\n"
     ]
    }
   ],
   "source": [
    "#Soru 13\n",
    "def TekSayiDonustur(sayi):\n",
    "    if sayi%2==0:\n",
    "        print(sayi+1,end=\" \")\n",
    "kaç_tane=int(input(\"Bir sayı giriniz:\"))\n",
    "cnt=0\n",
    "for i in range(kaç_tane):\n",
    "    sayı=int(input(\"Bir sayı giriniz:\"))\n",
    "    if sayı%2==0:\n",
    "        cnt+=1\n",
    "        TekSayiDonustur(sayı)\n",
    "    else:\n",
    "        print(sayı,end=\" \")\n",
    "if cnt==0:\n",
    "    print(\"\\nÇift sayı bulunamadı\")\n",
    "else:\n",
    "    print(\"\\n\",cnt,\"defa yer değiştirme işlemi yapıldı.\")"
   ]
  }
 ],
 "metadata": {
  "kernelspec": {
   "display_name": "Python 3 (ipykernel)",
   "language": "python",
   "name": "python3"
  },
  "language_info": {
   "codemirror_mode": {
    "name": "ipython",
    "version": 3
   },
   "file_extension": ".py",
   "mimetype": "text/x-python",
   "name": "python",
   "nbconvert_exporter": "python",
   "pygments_lexer": "ipython3",
   "version": "3.9.12"
  },
  "vscode": {
   "interpreter": {
    "hash": "11eadeb3d9282690b6dabd8108683caa7cf329dc46e8d2882d7e6ed26f706bce"
   }
  }
 },
 "nbformat": 4,
 "nbformat_minor": 4
}
