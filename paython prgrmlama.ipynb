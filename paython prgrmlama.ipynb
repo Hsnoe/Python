{
 "cells": [
  {
   "cell_type": "markdown",
   "id": "e54d2b96-2763-41ca-85d3-112865b5917c",
   "metadata": {},
   "source": [
    "**python programlama**"
   ]
  },
  {
   "cell_type": "markdown",
   "id": "c31da95a-3e7f-429d-8739-6e051b40ae6c",
   "metadata": {},
   "source": [
    "**stringler**"
   ]
  },
  {
   "cell_type": "code",
   "execution_count": 11,
   "id": "39f7c4d9-c810-44be-ad45-54d843ff50f8",
   "metadata": {},
   "outputs": [
    {
     "data": {
      "text/plain": [
       "'pyth'"
      ]
     },
     "execution_count": 11,
     "metadata": {},
     "output_type": "execute_result"
    }
   ],
   "source": [
    "ders=\"python\"\n",
    "ders[0:4]"
   ]
  },
  {
   "cell_type": "code",
   "execution_count": 10,
   "id": "8d38af35-f56c-4641-9603-0a02787c69de",
   "metadata": {},
   "outputs": [
    {
     "data": {
      "text/plain": [
       "'n'"
      ]
     },
     "execution_count": 10,
     "metadata": {},
     "output_type": "execute_result"
    }
   ],
   "source": [
    "ders[-1]"
   ]
  },
  {
   "cell_type": "code",
   "execution_count": 13,
   "id": "7d9b8c8a-c4df-4a13-8a51-22a2dee19473",
   "metadata": {},
   "outputs": [
    {
     "data": {
      "text/plain": [
       "True"
      ]
     },
     "execution_count": 13,
     "metadata": {},
     "output_type": "execute_result"
    }
   ],
   "source": [
    "\"y\" in ders"
   ]
  },
  {
   "cell_type": "code",
   "execution_count": 14,
   "id": "946aa546-6936-41f0-b715-0584fc428fcd",
   "metadata": {},
   "outputs": [
    {
     "data": {
      "text/plain": [
       "False"
      ]
     },
     "execution_count": 14,
     "metadata": {},
     "output_type": "execute_result"
    }
   ],
   "source": [
    "\"Y\" in ders"
   ]
  },
  {
   "cell_type": "code",
   "execution_count": 15,
   "id": "2cee891b-9772-44cd-bd87-55bff7520b1e",
   "metadata": {},
   "outputs": [
    {
     "data": {
      "text/plain": [
       "['__add__',\n",
       " '__class__',\n",
       " '__contains__',\n",
       " '__delattr__',\n",
       " '__dir__',\n",
       " '__doc__',\n",
       " '__eq__',\n",
       " '__format__',\n",
       " '__ge__',\n",
       " '__getattribute__',\n",
       " '__getitem__',\n",
       " '__getnewargs__',\n",
       " '__gt__',\n",
       " '__hash__',\n",
       " '__init__',\n",
       " '__init_subclass__',\n",
       " '__iter__',\n",
       " '__le__',\n",
       " '__len__',\n",
       " '__lt__',\n",
       " '__mod__',\n",
       " '__mul__',\n",
       " '__ne__',\n",
       " '__new__',\n",
       " '__reduce__',\n",
       " '__reduce_ex__',\n",
       " '__repr__',\n",
       " '__rmod__',\n",
       " '__rmul__',\n",
       " '__setattr__',\n",
       " '__sizeof__',\n",
       " '__str__',\n",
       " '__subclasshook__',\n",
       " 'capitalize',\n",
       " 'casefold',\n",
       " 'center',\n",
       " 'count',\n",
       " 'encode',\n",
       " 'endswith',\n",
       " 'expandtabs',\n",
       " 'find',\n",
       " 'format',\n",
       " 'format_map',\n",
       " 'index',\n",
       " 'isalnum',\n",
       " 'isalpha',\n",
       " 'isascii',\n",
       " 'isdecimal',\n",
       " 'isdigit',\n",
       " 'isidentifier',\n",
       " 'islower',\n",
       " 'isnumeric',\n",
       " 'isprintable',\n",
       " 'isspace',\n",
       " 'istitle',\n",
       " 'isupper',\n",
       " 'join',\n",
       " 'ljust',\n",
       " 'lower',\n",
       " 'lstrip',\n",
       " 'maketrans',\n",
       " 'partition',\n",
       " 'removeprefix',\n",
       " 'removesuffix',\n",
       " 'replace',\n",
       " 'rfind',\n",
       " 'rindex',\n",
       " 'rjust',\n",
       " 'rpartition',\n",
       " 'rsplit',\n",
       " 'rstrip',\n",
       " 'split',\n",
       " 'splitlines',\n",
       " 'startswith',\n",
       " 'strip',\n",
       " 'swapcase',\n",
       " 'title',\n",
       " 'translate',\n",
       " 'upper',\n",
       " 'zfill']"
      ]
     },
     "execution_count": 15,
     "metadata": {},
     "output_type": "execute_result"
    }
   ],
   "source": [
    "dir(str)"
   ]
  },
  {
   "cell_type": "code",
   "execution_count": 20,
   "id": "a62623fd-2ddf-4090-b194-72be05424437",
   "metadata": {},
   "outputs": [],
   "source": [
    "isim=\"selami5\""
   ]
  },
  {
   "cell_type": "code",
   "execution_count": 21,
   "id": "3da236ba-19ea-4cce-a1d7-ad9c5267604c",
   "metadata": {},
   "outputs": [
    {
     "data": {
      "text/plain": [
       "str"
      ]
     },
     "execution_count": 21,
     "metadata": {},
     "output_type": "execute_result"
    }
   ],
   "source": [
    "type(isim)"
   ]
  },
  {
   "cell_type": "code",
   "execution_count": 22,
   "id": "5831b451-00ee-47cd-a7fd-fcee4816608a",
   "metadata": {},
   "outputs": [
    {
     "data": {
      "text/plain": [
       "7"
      ]
     },
     "execution_count": 22,
     "metadata": {},
     "output_type": "execute_result"
    }
   ],
   "source": [
    "len(isim)"
   ]
  },
  {
   "cell_type": "code",
   "execution_count": 23,
   "id": "0090e519-abdd-47b1-8fc7-666c0929c525",
   "metadata": {},
   "outputs": [
    {
     "data": {
      "text/plain": [
       "False"
      ]
     },
     "execution_count": 23,
     "metadata": {},
     "output_type": "execute_result"
    }
   ],
   "source": [
    "isim.isalpha()"
   ]
  },
  {
   "cell_type": "code",
   "execution_count": 28,
   "id": "9be432ee-5895-4414-b3dc-c4aba4c60921",
   "metadata": {},
   "outputs": [],
   "source": [
    "metin=\"inönü üniverstesi mühendislik fakültesi \""
   ]
  },
  {
   "cell_type": "code",
   "execution_count": 29,
   "id": "7da7e207-ff04-47dc-b2e1-370ec345d6b4",
   "metadata": {},
   "outputs": [
    {
     "data": {
      "text/plain": [
       "'Inönü üniverstesi mühendislik fakültesi '"
      ]
     },
     "execution_count": 29,
     "metadata": {},
     "output_type": "execute_result"
    }
   ],
   "source": [
    "metin.capitalize()"
   ]
  },
  {
   "cell_type": "code",
   "execution_count": 30,
   "id": "fdd40041-bfdd-4a8b-a926-2a284b0ed6d4",
   "metadata": {},
   "outputs": [
    {
     "data": {
      "text/plain": [
       "'Inönü Üniverstesi Mühendislik Fakültesi '"
      ]
     },
     "execution_count": 30,
     "metadata": {},
     "output_type": "execute_result"
    }
   ],
   "source": [
    "metin.title()"
   ]
  },
  {
   "cell_type": "code",
   "execution_count": 31,
   "id": "6307147e-d931-4dff-a247-ccab1e2d1b7a",
   "metadata": {},
   "outputs": [
    {
     "data": {
      "text/plain": [
       "'INÖNÜ ÜNIVERSTESI MÜHENDISLIK FAKÜLTESI '"
      ]
     },
     "execution_count": 31,
     "metadata": {},
     "output_type": "execute_result"
    }
   ],
   "source": [
    "metin.upper()"
   ]
  },
  {
   "cell_type": "code",
   "execution_count": 32,
   "id": "9b90beb9-80e7-42ff-b177-756194d16347",
   "metadata": {},
   "outputs": [
    {
     "data": {
      "text/plain": [
       "'inönü üniverstesi mühendislik fakültesi '"
      ]
     },
     "execution_count": 32,
     "metadata": {},
     "output_type": "execute_result"
    }
   ],
   "source": [
    "metin.lower()"
   ]
  },
  {
   "cell_type": "code",
   "execution_count": 34,
   "id": "ee1ebc7e-a62c-4fe2-a59b-d0c914527d70",
   "metadata": {},
   "outputs": [
    {
     "data": {
      "text/plain": [
       "0"
      ]
     },
     "execution_count": 34,
     "metadata": {},
     "output_type": "execute_result"
    }
   ],
   "source": [
    "metin.count(\"o\")\n"
   ]
  },
  {
   "cell_type": "code",
   "execution_count": 36,
   "id": "d77f732a-c171-4049-8e6a-87b310eff78d",
   "metadata": {},
   "outputs": [
    {
     "data": {
      "text/plain": [
       "'inönü üniverstesi mühendislik fokültesi '"
      ]
     },
     "execution_count": 36,
     "metadata": {},
     "output_type": "execute_result"
    }
   ],
   "source": [
    "metin.replace(\"a\",\"o\")"
   ]
  },
  {
   "cell_type": "code",
   "execution_count": 37,
   "id": "b347d605-103a-4d03-b10c-bfe3c4e9a105",
   "metadata": {},
   "outputs": [
    {
     "data": {
      "text/plain": [
       "['inönü', 'üniverstesi', 'mühendislik', 'fakültesi']"
      ]
     },
     "execution_count": 37,
     "metadata": {},
     "output_type": "execute_result"
    }
   ],
   "source": [
    "metin.split()"
   ]
  },
  {
   "cell_type": "code",
   "execution_count": 40,
   "id": "52c2b073-52b3-42fa-a37a-46502b3b3a22",
   "metadata": {},
   "outputs": [
    {
     "data": {
      "text/plain": [
       "'nönü üniverstesi mühendislik fakültesi '"
      ]
     },
     "execution_count": 40,
     "metadata": {},
     "output_type": "execute_result"
    }
   ],
   "source": [
    "metin.strip(\"i\")"
   ]
  },
  {
   "cell_type": "code",
   "execution_count": 43,
   "id": "d68175ff-81a9-452e-97d3-b654ddee2ba8",
   "metadata": {},
   "outputs": [
    {
     "ename": "AttributeError",
     "evalue": "'str' object has no attribute 'enswith'",
     "output_type": "error",
     "traceback": [
      "\u001b[1;31m---------------------------------------------------------------------------\u001b[0m",
      "\u001b[1;31mAttributeError\u001b[0m                            Traceback (most recent call last)",
      "Input \u001b[1;32mIn [43]\u001b[0m, in \u001b[0;36m<cell line: 1>\u001b[1;34m()\u001b[0m\n\u001b[1;32m----> 1\u001b[0m \u001b[43mmetin\u001b[49m\u001b[38;5;241;43m.\u001b[39;49m\u001b[43menswith\u001b[49m(\u001b[38;5;124m\"\u001b[39m\u001b[38;5;124m \u001b[39m\u001b[38;5;124m\"\u001b[39m)\n",
      "\u001b[1;31mAttributeError\u001b[0m: 'str' object has no attribute 'enswith'"
     ]
    }
   ],
   "source": [
    "metin.enswith(\" \")"
   ]
  },
  {
   "cell_type": "code",
   "execution_count": 44,
   "id": "b49b6901-05c4-4a4d-a759-7d34b128772e",
   "metadata": {},
   "outputs": [
    {
     "data": {
      "text/plain": [
       "True"
      ]
     },
     "execution_count": 44,
     "metadata": {},
     "output_type": "execute_result"
    }
   ],
   "source": [
    "metin.startswith(\"i\")"
   ]
  },
  {
   "cell_type": "markdown",
   "id": "3dd71563-6a1d-43b4-b355-4bdd2a281e3c",
   "metadata": {},
   "source": [
    "**wayılar**"
   ]
  },
  {
   "cell_type": "code",
   "execution_count": 49,
   "id": "6598ae5f-8e40-4558-8ada-70707fa1e821",
   "metadata": {},
   "outputs": [],
   "source": [
    "sayi1=5"
   ]
  },
  {
   "cell_type": "code",
   "execution_count": 50,
   "id": "fd60f9b9-e2e3-4217-989c-5dc88da0f957",
   "metadata": {},
   "outputs": [
    {
     "data": {
      "text/plain": [
       "5"
      ]
     },
     "execution_count": 50,
     "metadata": {},
     "output_type": "execute_result"
    }
   ],
   "source": [
    "sayi1"
   ]
  },
  {
   "cell_type": "code",
   "execution_count": 51,
   "id": "c2c93b1c-acba-4d89-a43d-32a4fcb7b14b",
   "metadata": {},
   "outputs": [
    {
     "data": {
      "text/plain": [
       "int"
      ]
     },
     "execution_count": 51,
     "metadata": {},
     "output_type": "execute_result"
    }
   ],
   "source": [
    "type(sayi1)"
   ]
  },
  {
   "cell_type": "code",
   "execution_count": 52,
   "id": "ab17628a-7e13-4503-a80a-c4e74c22071c",
   "metadata": {},
   "outputs": [],
   "source": [
    "sayi2=5.4"
   ]
  },
  {
   "cell_type": "code",
   "execution_count": 53,
   "id": "5a93b3b1-7e71-4bef-9539-06595febea08",
   "metadata": {},
   "outputs": [
    {
     "data": {
      "text/plain": [
       "5.4"
      ]
     },
     "execution_count": 53,
     "metadata": {},
     "output_type": "execute_result"
    }
   ],
   "source": [
    "sayi2"
   ]
  },
  {
   "cell_type": "code",
   "execution_count": 54,
   "id": "1d2e3a89-d861-4c03-8b96-c1c03dc98361",
   "metadata": {},
   "outputs": [
    {
     "data": {
      "text/plain": [
       "float"
      ]
     },
     "execution_count": 54,
     "metadata": {},
     "output_type": "execute_result"
    }
   ],
   "source": [
    "type(sayi2)\n"
   ]
  },
  {
   "cell_type": "markdown",
   "id": "dcc54235-3932-4c2a-99f4-ec8360966ac4",
   "metadata": {},
   "source": [
    "**oparetörler**"
   ]
  },
  {
   "cell_type": "code",
   "execution_count": 57,
   "id": "2031b76e-f055-48fe-8db8-7ee224b63c4f",
   "metadata": {},
   "outputs": [
    {
     "name": "stdout",
     "output_type": "stream",
     "text": [
      "5\n",
      "5.4\n"
     ]
    }
   ],
   "source": [
    "print(sayi1)\n",
    "print(sayi2)"
   ]
  },
  {
   "cell_type": "code",
   "execution_count": 58,
   "id": "22c4bd34-25c4-4dfe-a49f-3a7bc37626ba",
   "metadata": {},
   "outputs": [
    {
     "data": {
      "text/plain": [
       "-0.40000000000000036"
      ]
     },
     "execution_count": 58,
     "metadata": {},
     "output_type": "execute_result"
    }
   ],
   "source": [
    "sayi1-sayi2"
   ]
  },
  {
   "cell_type": "code",
   "execution_count": 59,
   "id": "193ebc5a-bd7c-4568-8d6b-b3748ac216c1",
   "metadata": {},
   "outputs": [
    {
     "data": {
      "text/plain": [
       "int"
      ]
     },
     "execution_count": 59,
     "metadata": {},
     "output_type": "execute_result"
    }
   ],
   "source": [
    "sayi=20\n",
    "type(sayi)"
   ]
  },
  {
   "cell_type": "code",
   "execution_count": 60,
   "id": "cd210e23-5ee2-4a0c-9dfd-99467232d501",
   "metadata": {},
   "outputs": [],
   "source": [
    "sayi=float(sayi)"
   ]
  },
  {
   "cell_type": "code",
   "execution_count": 61,
   "id": "1c8e3350-ad60-4c2d-9352-77395dd60a48",
   "metadata": {},
   "outputs": [
    {
     "data": {
      "text/plain": [
       "float"
      ]
     },
     "execution_count": 61,
     "metadata": {},
     "output_type": "execute_result"
    }
   ],
   "source": [
    "type(sayi)"
   ]
  },
  {
   "cell_type": "code",
   "execution_count": 62,
   "id": "f95bdd70-2a32-4237-96eb-2cb25659257b",
   "metadata": {},
   "outputs": [
    {
     "data": {
      "text/plain": [
       "20.0"
      ]
     },
     "execution_count": 62,
     "metadata": {},
     "output_type": "execute_result"
    }
   ],
   "source": [
    "sayi"
   ]
  },
  {
   "cell_type": "code",
   "execution_count": 63,
   "id": "f86de38e-1b06-4f2b-beda-6656763039c6",
   "metadata": {},
   "outputs": [
    {
     "data": {
      "text/plain": [
       "int"
      ]
     },
     "execution_count": 63,
     "metadata": {},
     "output_type": "execute_result"
    }
   ],
   "source": [
    "type(int(sayi))"
   ]
  },
  {
   "cell_type": "code",
   "execution_count": 64,
   "id": "098dda5e-d933-4415-8f88-5b9d098572dd",
   "metadata": {},
   "outputs": [
    {
     "data": {
      "text/plain": [
       "2"
      ]
     },
     "execution_count": 64,
     "metadata": {},
     "output_type": "execute_result"
    }
   ],
   "source": [
    "abs(-2)"
   ]
  },
  {
   "cell_type": "markdown",
   "id": "291ada84-637d-469f-bbdf-f29af1cd2082",
   "metadata": {},
   "source": [
    "**boolean**"
   ]
  },
  {
   "cell_type": "code",
   "execution_count": 66,
   "id": "d374f7bc-7cdc-494d-91f3-f7638ff76d94",
   "metadata": {},
   "outputs": [],
   "source": [
    "değişkne=True"
   ]
  },
  {
   "cell_type": "code",
   "execution_count": 67,
   "id": "6b212fe3-5ad0-422a-a087-3a7a7ac39d64",
   "metadata": {},
   "outputs": [
    {
     "data": {
      "text/plain": [
       "bool"
      ]
     },
     "execution_count": 67,
     "metadata": {},
     "output_type": "execute_result"
    }
   ],
   "source": [
    "type(değişkne)"
   ]
  },
  {
   "cell_type": "markdown",
   "id": "7416fcc4-cd81-4518-adec-1c8e70302004",
   "metadata": {},
   "source": [
    "listeler"
   ]
  },
  {
   "cell_type": "code",
   "execution_count": 68,
   "id": "1319f463-25f0-4a2c-8e76-157741d1149d",
   "metadata": {},
   "outputs": [
    {
     "data": {
      "text/plain": [
       "['mal', 'ist', 'ank', 'yoz']"
      ]
     },
     "execution_count": 68,
     "metadata": {},
     "output_type": "execute_result"
    }
   ],
   "source": [
    "sehirler=[\"mal\",\"ist\",\"ank\",\"yoz\"]\n",
    "sehirler"
   ]
  },
  {
   "cell_type": "code",
   "execution_count": 69,
   "id": "7b502e1a-0a7f-48b2-8e61-c93868e7f43b",
   "metadata": {},
   "outputs": [
    {
     "data": {
      "text/plain": [
       "'mal'"
      ]
     },
     "execution_count": 69,
     "metadata": {},
     "output_type": "execute_result"
    }
   ],
   "source": [
    "sehirler[0]"
   ]
  },
  {
   "cell_type": "code",
   "execution_count": 70,
   "id": "5ffc6204-d53c-4168-9ef0-d3e83b45e8df",
   "metadata": {},
   "outputs": [
    {
     "data": {
      "text/plain": [
       "['mal', 'ist', 'ank', 'yoz']"
      ]
     },
     "execution_count": 70,
     "metadata": {},
     "output_type": "execute_result"
    }
   ],
   "source": [
    "sehirler[0:4]"
   ]
  },
  {
   "cell_type": "code",
   "execution_count": 71,
   "id": "cac34e83-f5e1-45c8-9ddf-48e5efc8cd78",
   "metadata": {},
   "outputs": [
    {
     "data": {
      "text/plain": [
       "['mal', 'ist', 'iazmar', 'yoz']"
      ]
     },
     "execution_count": 71,
     "metadata": {},
     "output_type": "execute_result"
    }
   ],
   "source": [
    "sehirler[2]=\"iazmar\"\n",
    "sehirler"
   ]
  },
  {
   "cell_type": "code",
   "execution_count": 73,
   "id": "6c09c499-f21f-4d9c-b9ce-639d62d117d9",
   "metadata": {},
   "outputs": [],
   "source": [
    "matris=[[1,2,3],\n",
    "       [4,5,6],\n",
    "      [7,8,9]]"
   ]
  },
  {
   "cell_type": "code",
   "execution_count": 76,
   "id": "3775bf98-dd0c-49f8-bea2-2441458b50ad",
   "metadata": {},
   "outputs": [
    {
     "name": "stdout",
     "output_type": "stream",
     "text": [
      "[[1, 2, 3], [4, 5, 6], [7, 8, 9]]\n"
     ]
    },
    {
     "data": {
      "text/plain": [
       "list"
      ]
     },
     "execution_count": 76,
     "metadata": {},
     "output_type": "execute_result"
    }
   ],
   "source": [
    "print(matris)\n",
    "type(matris)"
   ]
  },
  {
   "cell_type": "code",
   "execution_count": 78,
   "id": "0d37b7d1-a3c9-4c7b-9936-acc489beed9c",
   "metadata": {},
   "outputs": [
    {
     "data": {
      "text/plain": [
       "1"
      ]
     },
     "execution_count": 78,
     "metadata": {},
     "output_type": "execute_result"
    }
   ],
   "source": [
    "matris[0][0]"
   ]
  },
  {
   "cell_type": "code",
   "execution_count": 79,
   "id": "da63e289-ce03-4a59-bfa1-c4d99720103e",
   "metadata": {},
   "outputs": [],
   "source": [
    "matris[0][0]=99"
   ]
  },
  {
   "cell_type": "code",
   "execution_count": 80,
   "id": "349dc049-a14d-415c-8602-b03032d799aa",
   "metadata": {},
   "outputs": [
    {
     "data": {
      "text/plain": [
       "[[99, 2, 3], [4, 5, 6], [7, 8, 9]]"
      ]
     },
     "execution_count": 80,
     "metadata": {},
     "output_type": "execute_result"
    }
   ],
   "source": [
    "matris"
   ]
  },
  {
   "cell_type": "code",
   "execution_count": 81,
   "id": "c4b1ce59-720a-4eb2-9458-50d31f37ff22",
   "metadata": {},
   "outputs": [
    {
     "data": {
      "text/plain": [
       "['__add__',\n",
       " '__class__',\n",
       " '__class_getitem__',\n",
       " '__contains__',\n",
       " '__delattr__',\n",
       " '__delitem__',\n",
       " '__dir__',\n",
       " '__doc__',\n",
       " '__eq__',\n",
       " '__format__',\n",
       " '__ge__',\n",
       " '__getattribute__',\n",
       " '__getitem__',\n",
       " '__gt__',\n",
       " '__hash__',\n",
       " '__iadd__',\n",
       " '__imul__',\n",
       " '__init__',\n",
       " '__init_subclass__',\n",
       " '__iter__',\n",
       " '__le__',\n",
       " '__len__',\n",
       " '__lt__',\n",
       " '__mul__',\n",
       " '__ne__',\n",
       " '__new__',\n",
       " '__reduce__',\n",
       " '__reduce_ex__',\n",
       " '__repr__',\n",
       " '__reversed__',\n",
       " '__rmul__',\n",
       " '__setattr__',\n",
       " '__setitem__',\n",
       " '__sizeof__',\n",
       " '__str__',\n",
       " '__subclasshook__',\n",
       " 'append',\n",
       " 'clear',\n",
       " 'copy',\n",
       " 'count',\n",
       " 'extend',\n",
       " 'index',\n",
       " 'insert',\n",
       " 'pop',\n",
       " 'remove',\n",
       " 'reverse',\n",
       " 'sort']"
      ]
     },
     "execution_count": 81,
     "metadata": {},
     "output_type": "execute_result"
    }
   ],
   "source": [
    "dir(list)"
   ]
  },
  {
   "cell_type": "code",
   "execution_count": 91,
   "id": "b5a5ca6e-ef19-48dc-a3d9-46af756e70bd",
   "metadata": {},
   "outputs": [],
   "source": [
    "sayilar=[3,1,4,5,9]"
   ]
  },
  {
   "cell_type": "code",
   "execution_count": 92,
   "id": "6e4cd4fb-1821-4054-8a78-5cfac443deaa",
   "metadata": {},
   "outputs": [
    {
     "data": {
      "text/plain": [
       "5"
      ]
     },
     "execution_count": 92,
     "metadata": {},
     "output_type": "execute_result"
    }
   ],
   "source": [
    "len(sayilar)"
   ]
  },
  {
   "cell_type": "code",
   "execution_count": 93,
   "id": "ea0c49fd-874e-4b79-b7a4-73f24e435ec1",
   "metadata": {},
   "outputs": [
    {
     "data": {
      "text/plain": [
       "0"
      ]
     },
     "execution_count": 93,
     "metadata": {},
     "output_type": "execute_result"
    }
   ],
   "source": [
    "sayilar.count(2)"
   ]
  },
  {
   "cell_type": "code",
   "execution_count": 94,
   "id": "1e97c371-a38c-4943-b015-1de7ed5014b6",
   "metadata": {},
   "outputs": [],
   "source": [
    "sayilar.append(6)"
   ]
  },
  {
   "cell_type": "code",
   "execution_count": 95,
   "id": "f3b0af45-5ae6-4572-805d-1f556fb2ac23",
   "metadata": {},
   "outputs": [
    {
     "data": {
      "text/plain": [
       "[3, 1, 4, 5, 9, 6]"
      ]
     },
     "execution_count": 95,
     "metadata": {},
     "output_type": "execute_result"
    }
   ],
   "source": [
    "sayilar"
   ]
  },
  {
   "cell_type": "code",
   "execution_count": 98,
   "id": "3d8dc3ed-4e13-43f5-b18e-a0c451f0cd52",
   "metadata": {},
   "outputs": [
    {
     "data": {
      "text/plain": [
       "[9, 9, 3, 1, 4, 5, 9, 6]"
      ]
     },
     "execution_count": 98,
     "metadata": {},
     "output_type": "execute_result"
    }
   ],
   "source": [
    "sayilar.insert(0,9)\n",
    "sayilar"
   ]
  },
  {
   "cell_type": "code",
   "execution_count": 100,
   "id": "50bb36bd-d796-4ec9-aedf-928f1131860f",
   "metadata": {},
   "outputs": [
    {
     "name": "stdout",
     "output_type": "stream",
     "text": [
      "[9, 9, 3, 1, 4, 5]\n"
     ]
    }
   ],
   "source": [
    "sayilar.pop()\n",
    "print(sayilar)"
   ]
  },
  {
   "cell_type": "code",
   "execution_count": 101,
   "id": "5316c3cd-8454-4604-a31f-241028b3a935",
   "metadata": {},
   "outputs": [],
   "source": [
    "sayilar.remove(5)"
   ]
  },
  {
   "cell_type": "code",
   "execution_count": 102,
   "id": "a1d9f601-8f4a-4003-be9c-e0949ffc2529",
   "metadata": {},
   "outputs": [
    {
     "data": {
      "text/plain": [
       "[9, 9, 3, 1, 4]"
      ]
     },
     "execution_count": 102,
     "metadata": {},
     "output_type": "execute_result"
    }
   ],
   "source": [
    "sayilar"
   ]
  },
  {
   "cell_type": "code",
   "execution_count": 105,
   "id": "1e8be367-5e61-4fd4-9294-773fd7de4c1e",
   "metadata": {},
   "outputs": [],
   "source": [
    "sayilar=[4,8,9,7,2,9]"
   ]
  },
  {
   "cell_type": "code",
   "execution_count": 108,
   "id": "41b955a8-686e-46c9-8266-7a2539193ec8",
   "metadata": {},
   "outputs": [
    {
     "data": {
      "text/plain": [
       "[2, 4, 7, 8, 9, 9]"
      ]
     },
     "execution_count": 108,
     "metadata": {},
     "output_type": "execute_result"
    }
   ],
   "source": [
    "sayilar.sort()\n",
    "sayilar\n"
   ]
  },
  {
   "cell_type": "code",
   "execution_count": 109,
   "id": "7af02f2f-7740-45eb-a1bf-8b0507ba99f5",
   "metadata": {},
   "outputs": [],
   "source": [
    "sayilar.reverse()"
   ]
  },
  {
   "cell_type": "code",
   "execution_count": 110,
   "id": "dced2209-7fad-4c1f-b9a1-b67deaa00548",
   "metadata": {},
   "outputs": [
    {
     "data": {
      "text/plain": [
       "[9, 9, 8, 7, 4, 2]"
      ]
     },
     "execution_count": 110,
     "metadata": {},
     "output_type": "execute_result"
    }
   ],
   "source": [
    "sayilar"
   ]
  },
  {
   "cell_type": "markdown",
   "id": "d2fe8588-cf97-42c0-98a2-4f0360eaf481",
   "metadata": {},
   "source": [
    "**sözlükler**"
   ]
  },
  {
   "cell_type": "code",
   "execution_count": 113,
   "id": "69cfd5e1-5b8f-4ed1-8aac-82d3c029e86b",
   "metadata": {},
   "outputs": [],
   "source": [
    "sehir={\"ist:\":34,\n",
    "      \"malat:\":44,\n",
    "      \"diyar:\":21}"
   ]
  },
  {
   "cell_type": "code",
   "execution_count": 114,
   "id": "c749ad84-8c59-4014-b3de-73698bd082a2",
   "metadata": {},
   "outputs": [
    {
     "data": {
      "text/plain": [
       "{'ist:': 34, 'malat:': 44, 'diyar:': 21}"
      ]
     },
     "execution_count": 114,
     "metadata": {},
     "output_type": "execute_result"
    }
   ],
   "source": [
    "sehir"
   ]
  },
  {
   "cell_type": "code",
   "execution_count": 118,
   "id": "2cf090c0-4077-43a8-b1ef-af8f3079d9a0",
   "metadata": {},
   "outputs": [
    {
     "name": "stdout",
     "output_type": "stream",
     "text": [
      "dict_keys(['ist:', 'malat:', 'diyar:'])\n",
      "dict_values([34, 44, 21])\n"
     ]
    }
   ],
   "source": [
    "print(sehir.keys())\n",
    "print(sehir.values())"
   ]
  },
  {
   "cell_type": "code",
   "execution_count": 119,
   "id": "44c579dc-2284-45e0-9d18-f6b55a6c23ad",
   "metadata": {},
   "outputs": [
    {
     "data": {
      "text/plain": [
       "dict_items([('ist:', 34), ('malat:', 44), ('diyar:', 21)])"
      ]
     },
     "execution_count": 119,
     "metadata": {},
     "output_type": "execute_result"
    }
   ],
   "source": [
    "sehir.items()"
   ]
  },
  {
   "cell_type": "markdown",
   "id": "16a381a7-4980-4b6c-814d-00ffc46b9782",
   "metadata": {},
   "source": [
    "**fonksiyon**"
   ]
  },
  {
   "cell_type": "code",
   "execution_count": 120,
   "id": "1c2c4dc4-e478-45e9-bb04-76d1b9c34e05",
   "metadata": {},
   "outputs": [],
   "source": [
    "def fonk():\n",
    "    print(\"fonk\")"
   ]
  },
  {
   "cell_type": "code",
   "execution_count": 122,
   "id": "4f129d0d-7bbe-4cdd-ac03-97258f930aab",
   "metadata": {},
   "outputs": [
    {
     "name": "stdout",
     "output_type": "stream",
     "text": [
      "fonk\n"
     ]
    }
   ],
   "source": [
    "fonk()"
   ]
  },
  {
   "cell_type": "code",
   "execution_count": 123,
   "id": "9e8393b2-b1a1-4fe9-b3d3-771190d59b94",
   "metadata": {},
   "outputs": [],
   "source": [
    "def zamyap(maas,zam):\n",
    "    maas+=zam\n",
    "    print(maas)\n",
    "    return"
   ]
  },
  {
   "cell_type": "code",
   "execution_count": 124,
   "id": "ddb9873b-201f-458b-8386-4649eab871e3",
   "metadata": {},
   "outputs": [
    {
     "name": "stdout",
     "output_type": "stream",
     "text": [
      "300\n"
     ]
    }
   ],
   "source": [
    "zamyap(200,100)"
   ]
  },
  {
   "cell_type": "code",
   "execution_count": 125,
   "id": "d938f600-9b13-4b5c-b0a3-06bfb7d9da07",
   "metadata": {},
   "outputs": [],
   "source": [
    "def zamyap(maas=500,zam=1000):\n",
    "    maas+=zam\n",
    "    print(maas)"
   ]
  },
  {
   "cell_type": "code",
   "execution_count": 126,
   "id": "9946ed61-67a4-470e-99f4-e2dddd39d376",
   "metadata": {},
   "outputs": [
    {
     "name": "stdout",
     "output_type": "stream",
     "text": [
      "1500\n"
     ]
    }
   ],
   "source": [
    "zamyap(zam=1000)"
   ]
  },
  {
   "cell_type": "code",
   "execution_count": 128,
   "id": "a0288b52-b601-4c15-b0f2-7a0bd707ad76",
   "metadata": {},
   "outputs": [],
   "source": [
    "bakiye=0\n",
    "def komisyonal(yatırılanpara):\n",
    "    komisyon=yatırılanpara/100\n",
    "    kalanpara=yatırılanpara-komisyon\n",
    "    print(\"{} tl komisyon alınmıştır\".format(komisyon))\n",
    "    return kalanpara\n",
    "\n",
    "def parayatir(para):\n",
    "    global bakiye\n",
    "    print(\"{} tl para girisi oldu\".format(para))\n",
    "    netpara=komisyonal(para)\n",
    "    bakiye+=netpara\n",
    "    print(\"yatırılan para :0 {}\".format(netpara))"
   ]
  },
  {
   "cell_type": "code",
   "execution_count": 129,
   "id": "9aa623ca-ecae-4e84-a245-5797729ad178",
   "metadata": {},
   "outputs": [
    {
     "name": "stdout",
     "output_type": "stream",
     "text": [
      "1000 tl para girisi oldu\n",
      "10.0 tl komisyon alınmıştır\n",
      "yatırılan para :0 990.0\n"
     ]
    }
   ],
   "source": [
    "parayatir(1000)"
   ]
  },
  {
   "cell_type": "code",
   "execution_count": 130,
   "id": "113edff6-0121-4214-a808-3c703252b3b3",
   "metadata": {},
   "outputs": [
    {
     "data": {
      "text/plain": [
       "990.0"
      ]
     },
     "execution_count": 130,
     "metadata": {},
     "output_type": "execute_result"
    }
   ],
   "source": [
    "bakiye"
   ]
  },
  {
   "cell_type": "code",
   "execution_count": 132,
   "id": "aa50bc08-9ba6-4feb-8b3b-26ccd1d5a81b",
   "metadata": {},
   "outputs": [
    {
     "name": "stdout",
     "output_type": "stream",
     "text": [
      "2000 tl para girisi oldu\n",
      "20.0 tl komisyon alınmıştır\n",
      "yatırılan para :0 1980.0\n"
     ]
    }
   ],
   "source": [
    "parayatir(2000)"
   ]
  },
  {
   "cell_type": "code",
   "execution_count": 133,
   "id": "cf7d79a7-0e97-4e85-aa64-db1c1c94a72e",
   "metadata": {},
   "outputs": [
    {
     "data": {
      "text/plain": [
       "2970.0"
      ]
     },
     "execution_count": 133,
     "metadata": {},
     "output_type": "execute_result"
    }
   ],
   "source": [
    "bakiye"
   ]
  },
  {
   "cell_type": "markdown",
   "id": "0ae41e29-ad7e-4790-a2b7-f108b7bb32bc",
   "metadata": {},
   "source": [
    "**dögüler**"
   ]
  },
  {
   "cell_type": "code",
   "execution_count": 142,
   "id": "d724fc66-fbd5-4a1c-8bad-90ad353c7959",
   "metadata": {},
   "outputs": [
    {
     "name": "stdout",
     "output_type": "stream",
     "text": [
      "2\n",
      "4\n",
      "48\n",
      "as\n",
      "98\n"
     ]
    }
   ],
   "source": [
    "sehirler = [2,4,48,\"as\",98]\n",
    "for sehir in sehirler:\n",
    "    print(sehir)"
   ]
  },
  {
   "cell_type": "code",
   "execution_count": 143,
   "id": "cc915a33-61ab-40ec-8fb5-0e934b85ab4b",
   "metadata": {},
   "outputs": [
    {
     "data": {
      "text/plain": [
       "[0, 1, 2, 3, 4, 5, 6, 7, 8, 9]"
      ]
     },
     "execution_count": 143,
     "metadata": {},
     "output_type": "execute_result"
    }
   ],
   "source": [
    "[*range(10)]"
   ]
  },
  {
   "cell_type": "code",
   "execution_count": 144,
   "id": "2c426dc2-4f11-4b29-8ccf-2c209fb5657f",
   "metadata": {},
   "outputs": [
    {
     "name": "stdout",
     "output_type": "stream",
     "text": [
      "0\n",
      "1\n",
      "2\n",
      "3\n",
      "4\n",
      "5\n",
      "6\n",
      "7\n",
      "8\n"
     ]
    }
   ],
   "source": [
    "for sayi in range(9):\n",
    "    print(sayi)"
   ]
  },
  {
   "cell_type": "code",
   "execution_count": 147,
   "id": "2c8dc21d-2dd8-4ef5-b94a-a6b92cf49fe1",
   "metadata": {},
   "outputs": [
    {
     "ename": "TypeError",
     "evalue": "argument of type 'int' is not iterable",
     "output_type": "error",
     "traceback": [
      "\u001b[1;31m---------------------------------------------------------------------------\u001b[0m",
      "\u001b[1;31mTypeError\u001b[0m                                 Traceback (most recent call last)",
      "Input \u001b[1;32mIn [147]\u001b[0m, in \u001b[0;36m<cell line: 2>\u001b[1;34m()\u001b[0m\n\u001b[0;32m      1\u001b[0m sehirler \u001b[38;5;241m=\u001b[39m [\u001b[38;5;241m2\u001b[39m,\u001b[38;5;241m4\u001b[39m,\u001b[38;5;241m48\u001b[39m,\u001b[38;5;124m\"\u001b[39m\u001b[38;5;124mas\u001b[39m\u001b[38;5;124m\"\u001b[39m,\u001b[38;5;241m98\u001b[39m]\n\u001b[0;32m      2\u001b[0m \u001b[38;5;28;01mfor\u001b[39;00m sehir \u001b[38;5;129;01min\u001b[39;00m sehirler:\n\u001b[1;32m----> 3\u001b[0m     \u001b[38;5;28;01mif\u001b[39;00m(\u001b[38;5;124;43m\"\u001b[39;49m\u001b[38;5;124;43mala\u001b[39;49m\u001b[38;5;124;43m\"\u001b[39;49m\u001b[43m \u001b[49m\u001b[38;5;129;43;01min\u001b[39;49;00m\u001b[43m \u001b[49m\u001b[43msehir\u001b[49m):\n\u001b[0;32m      4\u001b[0m         \u001b[38;5;28;01mbreak\u001b[39;00m\n\u001b[0;32m      5\u001b[0m     \u001b[38;5;28;01melse\u001b[39;00m:\n",
      "\u001b[1;31mTypeError\u001b[0m: argument of type 'int' is not iterable"
     ]
    }
   ],
   "source": [
    "sehirler = [2,4,48,\"as\",98]\n",
    "for sehir in sehirler:\n",
    "    if(\"ala\" in sehir):\n",
    "        break\n",
    "    else:\n",
    "        print(sehir)"
   ]
  },
  {
   "cell_type": "code",
   "execution_count": 148,
   "id": "1ec1a1b1-543d-4dd6-a93f-de3b22634a88",
   "metadata": {},
   "outputs": [
    {
     "name": "stdout",
     "output_type": "stream",
     "text": [
      "0 2\n",
      "1 4\n",
      "2 48\n",
      "3 as\n",
      "4 98\n"
     ]
    }
   ],
   "source": [
    "for index,sehir in enumerate(sehirler):\n",
    "    print(index,sehir)"
   ]
  },
  {
   "cell_type": "markdown",
   "id": "263814a5-4de4-4eca-9025-651da00ba01a",
   "metadata": {},
   "source": [
    "**gömülü fonksiynlar,elzem fonksiyonlar**"
   ]
  },
  {
   "cell_type": "raw",
   "id": "f02140d4-5ba1-4f76-92a6-6f6aaea673b4",
   "metadata": {},
   "source": [
    "zip"
   ]
  },
  {
   "cell_type": "code",
   "execution_count": 149,
   "id": "e4f854b8-cdfd-47de-b1ac-66562183ae2d",
   "metadata": {},
   "outputs": [
    {
     "data": {
      "text/plain": [
       "{'ist': 34, 'mal': 44, 'burd': 15}"
      ]
     },
     "execution_count": 149,
     "metadata": {},
     "output_type": "execute_result"
    }
   ],
   "source": [
    "sehirler=[\"ist\",\"mal\",\"burd\"]\n",
    "plakalar=[34,44,15]\n",
    "dict(zip(sehirler,plakalar))"
   ]
  },
  {
   "cell_type": "raw",
   "id": "74a50730-f772-4dfd-a7bf-793e2bcbc789",
   "metadata": {},
   "source": [
    "lambda"
   ]
  },
  {
   "cell_type": "code",
   "execution_count": 150,
   "id": "b7697d2a-3d68-40e9-998b-71db2a4801e6",
   "metadata": {},
   "outputs": [
    {
     "name": "stdout",
     "output_type": "stream",
     "text": [
      "600\n"
     ]
    }
   ],
   "source": [
    "def topla(sayi1,sayi2,sayi3):\n",
    "    return sayi1+sayi2+sayi3\n",
    "print(topla(200,100,300))"
   ]
  },
  {
   "cell_type": "code",
   "execution_count": 152,
   "id": "4eeab093-187a-4057-81be-8737a5663f89",
   "metadata": {},
   "outputs": [
    {
     "name": "stdout",
     "output_type": "stream",
     "text": [
      "1\n",
      "4\n",
      "9\n",
      "16\n"
     ]
    }
   ],
   "source": [
    "sayilar=[1,2,3,4]\n",
    "def kareal(sayi):\n",
    "    return sayi**2\n",
    "for sayi in sayilar:\n",
    "    print(kareal(sayi))"
   ]
  },
  {
   "cell_type": "code",
   "execution_count": 153,
   "id": "a0382f01-076d-4d07-89ba-f63cfce4b2a6",
   "metadata": {},
   "outputs": [
    {
     "data": {
      "text/plain": [
       "[1, 4, 9, 16]"
      ]
     },
     "execution_count": 153,
     "metadata": {},
     "output_type": "execute_result"
    }
   ],
   "source": [
    "list(map(kareal,sayilar))"
   ]
  },
  {
   "cell_type": "raw",
   "id": "cad7ab82-0fc3-40b0-bc72-e2086eeda4db",
   "metadata": {},
   "source": [
    "filter"
   ]
  },
  {
   "cell_type": "markdown",
   "id": "ebe23ee0-5e90-45a4-bf19-50c71ab2ad7e",
   "metadata": {},
   "source": [
    "list comprehension"
   ]
  },
  {
   "cell_type": "code",
   "execution_count": 156,
   "id": "49660276-6c32-40d1-b491-c694444823e1",
   "metadata": {},
   "outputs": [
    {
     "data": {
      "text/plain": [
       "[1, 3, 3]"
      ]
     },
     "execution_count": 156,
     "metadata": {},
     "output_type": "execute_result"
    }
   ],
   "source": [
    "sayilar=[1,3,3,6,46,4,]\n",
    "teksayilar =[sayi for sayi in sayilar if sayi%2!=0 ]\n",
    "teksayilar"
   ]
  },
  {
   "cell_type": "code",
   "execution_count": null,
   "id": "35a69f92-f4cd-40e0-9e3a-d86b9139f47f",
   "metadata": {},
   "outputs": [],
   "source": []
  }
 ],
 "metadata": {
  "kernelspec": {
   "display_name": "Python 3 (ipykernel)",
   "language": "python",
   "name": "python3"
  },
  "language_info": {
   "codemirror_mode": {
    "name": "ipython",
    "version": 3
   },
   "file_extension": ".py",
   "mimetype": "text/x-python",
   "name": "python",
   "nbconvert_exporter": "python",
   "pygments_lexer": "ipython3",
   "version": "3.9.12"
  }
 },
 "nbformat": 4,
 "nbformat_minor": 5
}
