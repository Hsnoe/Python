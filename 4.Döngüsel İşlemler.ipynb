{
 "cells": [
  {
   "cell_type": "code",
   "execution_count": 14,
   "id": "1139ad32-43a6-4e68-82ca-7aa418f2bdac",
   "metadata": {
    "collapsed": true,
    "jupyter": {
     "outputs_hidden": true
    },
    "tags": []
   },
   "outputs": [
    {
     "name": "stdout",
     "output_type": "stream",
     "text": [
      "2 5 8 "
     ]
    }
   ],
   "source": [
    "for x in range(2,10,3):\n",
    "    print(x,end=(\" \"))\n",
    "    "
   ]
  },
  {
   "cell_type": "code",
   "execution_count": null,
   "id": "7e8527cc-070e-46ad-bafc-646f0fbd31a1",
   "metadata": {},
   "outputs": [
    {
     "data": {
      "text/plain": [
       "range(0, 10)"
      ]
     },
     "execution_count": 11,
     "metadata": {},
     "output_type": "execute_result"
    }
   ],
   "source": [
    "for x in range(10)"
   ]
  },
  {
   "cell_type": "code",
   "execution_count": 12,
   "id": "2f12d2c1-1de8-40f5-a8e3-caff5282b8e7",
   "metadata": {},
   "outputs": [
    {
     "name": "stdout",
     "output_type": "stream",
     "text": [
      "0 1 2 3 4 5 6 7 8 9 "
     ]
    }
   ],
   "source": [
    "x=0\n",
    "while x<10:\n",
    "    print(x,end=(\" \"))\n",
    "    x=x+1"
   ]
  },
  {
   "cell_type": "code",
   "execution_count": 36,
   "id": "1bfe3cac-00d5-454e-85d8-c018d4d1b294",
   "metadata": {},
   "outputs": [
    {
     "name": "stdout",
     "output_type": "stream",
     "text": [
      "element       value0             2\n",
      "1             4\n",
      "2             6\n",
      "3             8\n",
      "4             10\n",
      "5             12\n",
      "6             14\n",
      "7             16\n",
      "8             18\n",
      "9             20\n"
     ]
    }
   ],
   "source": [
    "print(\"element\",end=\"       \"\"value\")\n",
    "for x in range(10):\n",
    "    print(x,\"           \" ,2+x*2)"
   ]
  },
  {
   "cell_type": "code",
   "execution_count": 42,
   "id": "77445197-9834-4e1d-9362-662099f82cb2",
   "metadata": {},
   "outputs": [
    {
     "ename": "SyntaxError",
     "evalue": "invalid syntax (3391059165.py, line 2)",
     "output_type": "error",
     "traceback": [
      "\u001b[1;36m  Input \u001b[1;32mIn [42]\u001b[1;36m\u001b[0m\n\u001b[1;33m    for a in x:\u001b[0m\n\u001b[1;37m              ^\u001b[0m\n\u001b[1;31mSyntaxError\u001b[0m\u001b[1;31m:\u001b[0m invalid syntax\n"
     ]
    }
   ],
   "source": [
    "x = range(int(input(\" 5 tane sayı gir\"))\n",
    "for a in x:\n",
    "    print(a)"
   ]
  },
  {
   "cell_type": "code",
   "execution_count": 51,
   "id": "e5d983e0-23a5-40e4-8a2a-8572ec17c4c1",
   "metadata": {},
   "outputs": [
    {
     "name": "stdin",
     "output_type": "stream",
     "text": [
      "sayı giriniz = 58\n",
      "sayı giriniz = 575\n",
      "sayı giriniz = 5442\n",
      "sayı giriniz = 32522\n",
      "sayı giriniz = 35427\n"
     ]
    },
    {
     "name": "stdout",
     "output_type": "stream",
     "text": [
      "74024\n"
     ]
    }
   ],
   "source": [
    "b=0\n",
    "for i in range(5):\n",
    "    a =int(input(\"sayı giriniz =\"))\n",
    "    b=b+a\n",
    "print(b)"
   ]
  },
  {
   "cell_type": "code",
   "execution_count": 86,
   "id": "eda7ebbb-4bbf-469d-ba9e-9e4ff53dad0e",
   "metadata": {},
   "outputs": [
    {
     "name": "stdin",
     "output_type": "stream",
     "text": [
      "sayı giriniz = 4\n",
      "sayı giriniz = 5\n",
      "sayı giriniz = 8\n",
      "sayı giriniz = 2\n",
      "sayı giriniz = 2\n"
     ]
    },
    {
     "name": "stdout",
     "output_type": "stream",
     "text": [
      "minimum= 2 maksimimum= 8\n"
     ]
    }
   ],
   "source": [
    "#Girilen 5 sayı içerisindeki minimum ve maksimum değerleri bulan program?\n",
    "a =int(input(\"sayı giriniz =\"))\n",
    "maks=a\n",
    "minn=a\n",
    "for i in range(4):\n",
    "    a =int(input(\"sayı giriniz =\"))\n",
    "    if minn>a:\n",
    "        minn = a\n",
    "    if maks<a:\n",
    "        maks=a\n",
    "print(\"minimum=\",minn,\"maksimimum=\",maks)"
   ]
  },
  {
   "cell_type": "code",
   "execution_count": 66,
   "id": "2a62ea62-b2aa-438e-ad14-30b5bca005a2",
   "metadata": {},
   "outputs": [
    {
     "name": "stdin",
     "output_type": "stream",
     "text": [
      "sayı giriniz = 8\n"
     ]
    },
    {
     "name": "stdout",
     "output_type": "stream",
     "text": [
      "1\n",
      "3\n",
      "5\n",
      "7\n"
     ]
    }
   ],
   "source": [
    "#N’e kadar tek sayıları yazdıran program?\n",
    "N =int(input(\"sayı giriniz =\"))\n",
    "for i in range(1,N+1,2):\n",
    "    print(i)\n",
    "    \n"
   ]
  },
  {
   "cell_type": "code",
   "execution_count": 76,
   "id": "324ccc6d-bd83-4f3e-8573-8fb88b360e30",
   "metadata": {},
   "outputs": [
    {
     "name": "stdin",
     "output_type": "stream",
     "text": [
      "sayı giriniz = 3\n"
     ]
    },
    {
     "name": "stdout",
     "output_type": "stream",
     "text": [
      "1\n",
      "2\n",
      "3\n"
     ]
    }
   ],
   "source": [
    "N =int(input(\"sayı giriniz =\"))\n",
    "for i in range(1,N+1):\n",
    "    if (N%2)==1:\n",
    "        print(i)"
   ]
  },
  {
   "cell_type": "code",
   "execution_count": 77,
   "id": "160a81d0-418a-4a9f-84e2-d5f7b752af21",
   "metadata": {},
   "outputs": [
    {
     "name": "stdin",
     "output_type": "stream",
     "text": [
      "sayı giriniz = 32\n"
     ]
    },
    {
     "name": "stdout",
     "output_type": "stream",
     "text": [
      "1\n",
      "2\n",
      "4\n",
      "8\n",
      "16\n",
      "32\n"
     ]
    }
   ],
   "source": [
    "#tam bölen bulma\n",
    "N =int(input(\"sayı giriniz =\"))\n",
    "for i in range(1,N+1):\n",
    "    if (N%i)==0:\n",
    "        print(i)"
   ]
  },
  {
   "cell_type": "code",
   "execution_count": 80,
   "id": "b1bb9ca8-f597-4109-b643-b44bb000c233",
   "metadata": {},
   "outputs": [
    {
     "name": "stdout",
     "output_type": "stream",
     "text": [
      "p\n",
      "y\n",
      "t\n",
      "move finished\n"
     ]
    }
   ],
   "source": [
    "for harf in \"python\":\n",
    "    if harf == \"h\":\n",
    "        break\n",
    "    print(harf)\n",
    "print(\"move finished\")"
   ]
  },
  {
   "cell_type": "code",
   "execution_count": 81,
   "id": "61b11021-6285-416e-9795-72a1cdd7a2c9",
   "metadata": {},
   "outputs": [
    {
     "name": "stdout",
     "output_type": "stream",
     "text": [
      "p\n",
      "y\n",
      "t\n",
      "o\n",
      "n\n",
      "move finished\n"
     ]
    }
   ],
   "source": [
    "for harf in \"python\":\n",
    "    if harf == \"h\":\n",
    "        continue\n",
    "    print(harf)\n",
    "print(\"move finished\")"
   ]
  },
  {
   "cell_type": "code",
   "execution_count": 84,
   "id": "3b5616b6-379d-4a3c-be09-50e21e8de8d1",
   "metadata": {},
   "outputs": [
    {
     "name": "stdin",
     "output_type": "stream",
     "text": [
      "sayı gir= 4\n",
      "sayı gir= 2\n"
     ]
    },
    {
     "name": "stdout",
     "output_type": "stream",
     "text": [
      "16\n"
     ]
    }
   ],
   "source": [
    "#a^b yi açıklayan program 3^4==3*3*3*3\n",
    "a=int(input(\"sayı gir=\"))\n",
    "b=int(input(\"sayı gir=\"))\n",
    "sonuc=1\n",
    "for x in range(b):\n",
    "    sonuc=sonuc *a\n",
    "print(sonuc)"
   ]
  },
  {
   "cell_type": "code",
   "execution_count": 85,
   "id": "72e80683-10cf-4ae8-a211-5c6644b330e5",
   "metadata": {},
   "outputs": [
    {
     "name": "stdin",
     "output_type": "stream",
     "text": [
      "N sayı gir= 5\n"
     ]
    },
    {
     "name": "stdout",
     "output_type": "stream",
     "text": [
      "5\n",
      "5\n"
     ]
    }
   ],
   "source": [
    "# n’e kadar ki tek sayıların toplamı, çift sayıların çarpımını hesaplayan program?\n",
    "N=int(input(\"N sayı gir=\"))\n",
    "for x in range(1,N,2):\n",
    "    print(N)\n",
    "    "
   ]
  },
  {
   "cell_type": "code",
   "execution_count": null,
   "id": "296971e5-80a9-4be3-a73b-94536c6f82fc",
   "metadata": {},
   "outputs": [],
   "source": []
  }
 ],
 "metadata": {
  "kernelspec": {
   "display_name": "Python 3 (ipykernel)",
   "language": "python",
   "name": "python3"
  },
  "language_info": {
   "codemirror_mode": {
    "name": "ipython",
    "version": 3
   },
   "file_extension": ".py",
   "mimetype": "text/x-python",
   "name": "python",
   "nbconvert_exporter": "python",
   "pygments_lexer": "ipython3",
   "version": "3.9.12"
  }
 },
 "nbformat": 4,
 "nbformat_minor": 5
}
