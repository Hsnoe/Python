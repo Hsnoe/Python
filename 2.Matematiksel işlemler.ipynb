{
 "cells": [
  {
   "cell_type": "code",
   "execution_count": 5,
   "id": "374b6a39-e47a-4783-a960-960389626540",
   "metadata": {},
   "outputs": [],
   "source": [
    "#ARİTMATİK İŞLEMLER\n",
    "5+8\n",
    "8-3\n",
    "2*8"
   ]
  },
  {
   "cell_type": "code",
   "execution_count": 3,
   "id": "5261270b-e6b5-4a89-b2f9-8139b046d84e",
   "metadata": {},
   "outputs": [
    {
     "data": {
      "text/plain": [
       "128"
      ]
     },
     "execution_count": 3,
     "metadata": {},
     "output_type": "execute_result"
    }
   ],
   "source": [
    "2**7\n"
   ]
  },
  {
   "cell_type": "code",
   "execution_count": 3,
   "id": "6d8ab68d-4af7-4893-b184-fdfde1233cf3",
   "metadata": {},
   "outputs": [
    {
     "data": {
      "text/plain": [
       "2"
      ]
     },
     "execution_count": 3,
     "metadata": {},
     "output_type": "execute_result"
    }
   ],
   "source": [
    "5//2\n"
   ]
  },
  {
   "cell_type": "code",
   "execution_count": 8,
   "id": "dbd8211e-7836-4f95-928a-749f571048dd",
   "metadata": {},
   "outputs": [
    {
     "data": {
      "text/plain": [
       "0"
      ]
     },
     "execution_count": 8,
     "metadata": {},
     "output_type": "execute_result"
    }
   ],
   "source": [
    "8%2\n"
   ]
  },
  {
   "cell_type": "code",
   "execution_count": 9,
   "id": "843bf263-ba11-4545-8b35-6b4e85fe0568",
   "metadata": {},
   "outputs": [
    {
     "data": {
      "text/plain": [
       "True"
      ]
     },
     "execution_count": 9,
     "metadata": {},
     "output_type": "execute_result"
    }
   ],
   "source": [
    "2==2"
   ]
  },
  {
   "cell_type": "code",
   "execution_count": 10,
   "id": "10450ec9-461a-447c-b711-df1e53321f9d",
   "metadata": {},
   "outputs": [
    {
     "data": {
      "text/plain": [
       "True"
      ]
     },
     "execution_count": 10,
     "metadata": {},
     "output_type": "execute_result"
    }
   ],
   "source": [
    "2!=3"
   ]
  },
  {
   "cell_type": "code",
   "execution_count": 11,
   "id": "a920c831-7fb5-4e65-a061-faba6b70563b",
   "metadata": {},
   "outputs": [
    {
     "data": {
      "text/plain": [
       "True"
      ]
     },
     "execution_count": 11,
     "metadata": {},
     "output_type": "execute_result"
    }
   ],
   "source": [
    "2>1"
   ]
  },
  {
   "cell_type": "code",
   "execution_count": 12,
   "id": "59d4aa60-f670-4a1c-bee5-ea31014b84be",
   "metadata": {},
   "outputs": [
    {
     "data": {
      "text/plain": [
       "True"
      ]
     },
     "execution_count": 12,
     "metadata": {},
     "output_type": "execute_result"
    }
   ],
   "source": [
    "4>=4"
   ]
  },
  {
   "cell_type": "code",
   "execution_count": 19,
   "id": "a1df7e3e-532c-4ebf-b1e1-17b1d5bb4149",
   "metadata": {},
   "outputs": [
    {
     "name": "stdout",
     "output_type": "stream",
     "text": [
      "8\n"
     ]
    }
   ],
   "source": [
    "a=4\n",
    "b=4\n",
    "a+=b #a=a+b\n",
    "print(a)"
   ]
  },
  {
   "cell_type": "markdown",
   "id": "0658ed30-7ae5-40ba-99c4-924e5211508f",
   "metadata": {},
   "source": [
    "#SORULAR"
   ]
  },
  {
   "cell_type": "code",
   "execution_count": 22,
   "id": "4c97d649-e013-471c-8133-bea9ceae7e76",
   "metadata": {},
   "outputs": [
    {
     "name": "stdin",
     "output_type": "stream",
     "text": [
      "akım değeri gir = 20\n",
      "direnc değeri gir = 12\n"
     ]
    },
    {
     "name": "stdout",
     "output_type": "stream",
     "text": [
      "volt değerim =  240\n"
     ]
    }
   ],
   "source": [
    "#V=I*R formülünü kullanarak verilen I ve R değerine göre V yi hesaplayan prog?\n",
    "I= int(input(\"akım değeri gir =\"))\n",
    "R= int(input(\"direnc değeri gir =\"))\n",
    "V = I*R\n",
    "print(\"volt değerim = \",V)\n"
   ]
  },
  {
   "cell_type": "code",
   "execution_count": 23,
   "id": "a64a06d7-ff07-4877-89bb-eda4a97634b0",
   "metadata": {},
   "outputs": [
    {
     "name": "stdin",
     "output_type": "stream",
     "text": [
      "kısa kenar gir = 8\n",
      "uzun kenar gir = 10\n"
     ]
    },
    {
     "name": "stdout",
     "output_type": "stream",
     "text": [
      "80\n",
      "36\n"
     ]
    }
   ],
   "source": [
    "#Kısa ve uzun kenarı girilen dikdörtgenin alanını ve çevresini  hesaplayan prog?\n",
    "K= int(input(\"kısa kenar gir =\"))\n",
    "U= int(input(\"uzun kenar gir =\"))\n",
    "alan = K*U\n",
    "çevre=(K+U)*2\n",
    "print(alan)\n",
    "print(çevre)"
   ]
  },
  {
   "cell_type": "code",
   "execution_count": 59,
   "id": "d9cb4823-3861-463b-bfa3-bee11cec42f1",
   "metadata": {},
   "outputs": [
    {
     "name": "stdin",
     "output_type": "stream",
     "text": [
      "yarı çap giriniz= 4\n"
     ]
    },
    {
     "name": "stdout",
     "output_type": "stream",
     "text": [
      "(48, 14)\n"
     ]
    }
   ],
   "source": [
    "#Yarıçapı verilen çemberin alanını hesaplayan prog (pi = 3,14)?\n",
    "pi=3,14\n",
    "r=int((input(\"yarı çap giriniz=\")))\n",
    "alan=int(r)*int(r)*3,14\n",
    "print(alan)"
   ]
  },
  {
   "cell_type": "code",
   "execution_count": 25,
   "id": "28ff2328-0ade-4d96-af97-0e30b3620f88",
   "metadata": {},
   "outputs": [
    {
     "name": "stdin",
     "output_type": "stream",
     "text": [
      "gün sayısı giriniz : 365\n"
     ]
    },
    {
     "name": "stdout",
     "output_type": "stream",
     "text": [
      "ay sayısı= 12 Gün sayısı= 5 365\n"
     ]
    }
   ],
   "source": [
    "#Girilen gün sayısını kaç yıl ve kaç ay olduğunu bulan program?\n",
    "G = int(input(\"gün sayısı giriniz :\"))\n",
    "print(\"ay sayısı=\",G//30,\"Gün sayısı=\",G%30,G)\n"
   ]
  },
  {
   "cell_type": "code",
   "execution_count": 27,
   "id": "53d694a5-6005-4318-b62e-241817b02353",
   "metadata": {},
   "outputs": [
    {
     "name": "stdin",
     "output_type": "stream",
     "text": [
      " enter a prize 100\n",
      "enter a kdv 18\n"
     ]
    },
    {
     "name": "stdout",
     "output_type": "stream",
     "text": [
      "new prize = 118.0\n"
     ]
    }
   ],
   "source": [
    "#Fiyat ve kdv oranı girilen ürünün toplam fiyatını ekrana yazdıran program?\n",
    "prize=int(input(\" enter a prize\"))\n",
    "kdv=int(input(\"enter a kdv\"))\n",
    "print(\"new prize =\",prize+prize*kdv/100)"
   ]
  },
  {
   "cell_type": "code",
   "execution_count": 34,
   "id": "6379e657-b7e7-42d8-afa0-7441a5e4cdc9",
   "metadata": {},
   "outputs": [
    {
     "name": "stdin",
     "output_type": "stream",
     "text": [
      "3 basamaklı sayı gir = 700\n"
     ]
    },
    {
     "name": "stdout",
     "output_type": "stream",
     "text": [
      "yüzler basamak değeri = 700\n"
     ]
    }
   ],
   "source": [
    "#Klavyeden girilen 3 basamaklı sayının basamak değerlerini yazdıran program?\n",
    "sayı=int(input(\"3 basamaklı sayı gir =\"))\n",
    "print(\"yüzler basamak değeri =\",sayı//100*100,"
   ]
  },
  {
   "cell_type": "code",
   "execution_count": 23,
   "id": "3999c14c-f071-4988-9fbb-e83448cd0417",
   "metadata": {},
   "outputs": [
    {
     "name": "stdin",
     "output_type": "stream",
     "text": [
      "3 basamaklı bir sayı girini: 182\n"
     ]
    },
    {
     "name": "stdout",
     "output_type": "stream",
     "text": [
      "182\n",
      "1\n",
      "8\n",
      "2\n",
      "ters çevrilmiş hali == 2 8 1\n"
     ]
    }
   ],
   "source": [
    "#Girilen 3 basamaklı bir sayıyı tersine çeviren program? (573 ==> 375)\n",
    "sayı=int(input(\"3 basamaklı bir sayı girini:\"))\n",
    "a=sayı//100 \n",
    "b=(sayı%100)//10\n",
    "c=(sayı%100)%10\n",
    "print(sayı)\n",
    "print(a)\n",
    "print(b)\n",
    "print(c)\n",
    "print(\"ters çevrilmiş hali ==\",c,b,a)\n"
   ]
  },
  {
   "cell_type": "code",
   "execution_count": 8,
   "id": "19d1727f",
   "metadata": {},
   "outputs": [
    {
     "name": "stdout",
     "output_type": "stream",
     "text": [
      "3 basamaklı bir sayı girini:182\n",
      "['1', '8', '2']\n"
     ]
    }
   ],
   "source": [
    "#basamak değeri bulma \n",
    "sayı=int(input(\"3 basamaklı bir sayı girini:\"))\n",
    "sayı=str(sayı)\n",
    "a=[]\n",
    "for i in range(len(sayı)):\n",
    "    a+=sayı[i]\n",
    "print(a)\n"
   ]
  },
  {
   "cell_type": "code",
   "execution_count": 1,
   "id": "faf7cf2c-0f9a-42e8-93e7-1444ec80a5c9",
   "metadata": {},
   "outputs": [
    {
     "name": "stdout",
     "output_type": "stream",
     "text": [
      "n sayısı girini:5\n",
      "k sayısı girini:3\n",
      "46\n"
     ]
    }
   ],
   "source": [
    "#Girilen n ve k değerlerine göre k + 2k + 3k + ...+nk yı hesaplayan program?\n",
    "n=int(input(\"n sayısı girini:\"))\n",
    "k=int(input(\"k sayısı girini:\"))\n",
    "top=1\n",
    "for i in range(1,n+1):\n",
    "    top+=k*i\n",
    "print(top)"
   ]
  },
  {
   "cell_type": "code",
   "execution_count": null,
   "id": "e1fa64cc-4e49-4e34-ad8c-952619d9ca46",
   "metadata": {},
   "outputs": [],
   "source": [
    "#Çizginin başlangıç ve orta nokta koordinatları veriliyor. Diğer uç noktanın koordinatlarını bulunuz?\n"
   ]
  },
  {
   "cell_type": "code",
   "execution_count": null,
   "id": "2623877f-ebf4-4d30-95de-45a01abc03f7",
   "metadata": {},
   "outputs": [],
   "source": [
    "#A ve B değişken değerlerini üçüncü bir değişken kullanmadan yer değiştiriniz?\n"
   ]
  }
 ],
 "metadata": {
  "kernelspec": {
   "display_name": "Python 3 (ipykernel)",
   "language": "python",
   "name": "python3"
  },
  "language_info": {
   "codemirror_mode": {
    "name": "ipython",
    "version": 3
   },
   "file_extension": ".py",
   "mimetype": "text/x-python",
   "name": "python",
   "nbconvert_exporter": "python",
   "pygments_lexer": "ipython3",
   "version": "3.9.12"
  }
 },
 "nbformat": 4,
 "nbformat_minor": 5
}
