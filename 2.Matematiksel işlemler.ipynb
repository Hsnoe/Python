{
 "cells": [
  {
   "cell_type": "code",
   "execution_count": 5,
   "id": "374b6a39-e47a-4783-a960-960389626540",
   "metadata": {},
   "outputs": [],
   "source": [
    "#ARİTMATİK İŞLEMLER\n",
    "5+8\n",
    "8-3\n",
    "2*8"
   ]
  },
  {
   "cell_type": "code",
   "execution_count": 3,
   "id": "5261270b-e6b5-4a89-b2f9-8139b046d84e",
   "metadata": {},
   "outputs": [
    {
     "data": {
      "text/plain": [
       "128"
      ]
     },
     "execution_count": 3,
     "metadata": {},
     "output_type": "execute_result"
    }
   ],
   "source": [
    "2**7\n"
   ]
  },
  {
   "cell_type": "code",
   "execution_count": 4,
   "id": "6d8ab68d-4af7-4893-b184-fdfde1233cf3",
   "metadata": {},
   "outputs": [
    {
     "data": {
      "text/plain": [
       "4"
      ]
     },
     "execution_count": 4,
     "metadata": {},
     "output_type": "execute_result"
    }
   ],
   "source": [
    "8//2\n"
   ]
  },
  {
   "cell_type": "code",
   "execution_count": 8,
   "id": "dbd8211e-7836-4f95-928a-749f571048dd",
   "metadata": {},
   "outputs": [
    {
     "data": {
      "text/plain": [
       "0"
      ]
     },
     "execution_count": 8,
     "metadata": {},
     "output_type": "execute_result"
    }
   ],
   "source": [
    "8%2\n"
   ]
  },
  {
   "cell_type": "code",
   "execution_count": 9,
   "id": "843bf263-ba11-4545-8b35-6b4e85fe0568",
   "metadata": {},
   "outputs": [
    {
     "data": {
      "text/plain": [
       "True"
      ]
     },
     "execution_count": 9,
     "metadata": {},
     "output_type": "execute_result"
    }
   ],
   "source": [
    "2==2"
   ]
  },
  {
   "cell_type": "code",
   "execution_count": 10,
   "id": "10450ec9-461a-447c-b711-df1e53321f9d",
   "metadata": {},
   "outputs": [
    {
     "data": {
      "text/plain": [
       "True"
      ]
     },
     "execution_count": 10,
     "metadata": {},
     "output_type": "execute_result"
    }
   ],
   "source": [
    "2!=3"
   ]
  },
  {
   "cell_type": "code",
   "execution_count": 11,
   "id": "a920c831-7fb5-4e65-a061-faba6b70563b",
   "metadata": {},
   "outputs": [
    {
     "data": {
      "text/plain": [
       "True"
      ]
     },
     "execution_count": 11,
     "metadata": {},
     "output_type": "execute_result"
    }
   ],
   "source": [
    "2>1"
   ]
  },
  {
   "cell_type": "code",
   "execution_count": 12,
   "id": "59d4aa60-f670-4a1c-bee5-ea31014b84be",
   "metadata": {},
   "outputs": [
    {
     "data": {
      "text/plain": [
       "True"
      ]
     },
     "execution_count": 12,
     "metadata": {},
     "output_type": "execute_result"
    }
   ],
   "source": [
    "4>=4"
   ]
  },
  {
   "cell_type": "code",
   "execution_count": 19,
   "id": "a1df7e3e-532c-4ebf-b1e1-17b1d5bb4149",
   "metadata": {},
   "outputs": [
    {
     "name": "stdout",
     "output_type": "stream",
     "text": [
      "8\n"
     ]
    }
   ],
   "source": [
    "a=4\n",
    "b=4\n",
    "a+=b #a=a+b\n",
    "print(a)"
   ]
  },
  {
   "cell_type": "markdown",
   "id": "0658ed30-7ae5-40ba-99c4-924e5211508f",
   "metadata": {},
   "source": [
    "#SORULAR"
   ]
  },
  {
   "cell_type": "code",
   "execution_count": 22,
   "id": "4c97d649-e013-471c-8133-bea9ceae7e76",
   "metadata": {},
   "outputs": [
    {
     "name": "stdin",
     "output_type": "stream",
     "text": [
      "akım değeri gir = 20\n",
      "direnc değeri gir = 12\n"
     ]
    },
    {
     "name": "stdout",
     "output_type": "stream",
     "text": [
      "volt değerim =  240\n"
     ]
    }
   ],
   "source": [
    "#V=I*R formülünü kullanarak verilen I ve R değerine göre V yi hesaplayan prog?\n",
    "I= int(input(\"akım değeri gir =\"))\n",
    "R= int(input(\"direnc değeri gir =\"))\n",
    "V = I*R\n",
    "print(\"volt değerim = \",V)\n"
   ]
  },
  {
   "cell_type": "code",
   "execution_count": 23,
   "id": "a64a06d7-ff07-4877-89bb-eda4a97634b0",
   "metadata": {},
   "outputs": [
    {
     "name": "stdin",
     "output_type": "stream",
     "text": [
      "kısa kenar gir = 8\n",
      "uzun kenar gir = 10\n"
     ]
    },
    {
     "name": "stdout",
     "output_type": "stream",
     "text": [
      "80\n",
      "36\n"
     ]
    }
   ],
   "source": [
    "#Kısa ve uzun kenarı girilen dikdörtgenin alanını ve çevresini  hesaplayan prog?\n",
    "K= int(input(\"kısa kenar gir =\"))\n",
    "U= int(input(\"uzun kenar gir =\"))\n",
    "alan = K*U\n",
    "çevre=(K+U)*2\n",
    "print(alan)\n",
    "print(çevre)"
   ]
  },
  {
   "cell_type": "code",
   "execution_count": 59,
   "id": "d9cb4823-3861-463b-bfa3-bee11cec42f1",
   "metadata": {},
   "outputs": [
    {
     "name": "stdin",
     "output_type": "stream",
     "text": [
      "yarı çap giriniz= 4\n"
     ]
    },
    {
     "name": "stdout",
     "output_type": "stream",
     "text": [
      "(48, 14)\n"
     ]
    }
   ],
   "source": [
    "#Yarıçapı verilen çemberin alanını hesaplayan prog (pi = 3,14)?\n",
    "pi=3,14\n",
    "r=int((input(\"yarı çap giriniz=\")))\n",
    "alan=int(r)*int(r)*3,14\n",
    "print(alan)"
   ]
  },
  {
   "cell_type": "code",
   "execution_count": 2,
   "id": "28ff2328-0ade-4d96-af97-0e30b3620f88",
   "metadata": {},
   "outputs": [
    {
     "name": "stdin",
     "output_type": "stream",
     "text": [
      "gün sayısı giriniz : 40\n"
     ]
    }
   ],
   "source": [
    "#Girilen gün sayısını kaç yıl ve kaç ay olduğunu bulan program?\n",
    "a=0\n",
    "G = int(input(\"gün sayısı giriniz :\"))\n",
    "if G<30:\n",
    "    print(G,\"GÜNDÜR\")\n",
    "if G//30,G%30:\n",
    "    a"
   ]
  },
  {
   "cell_type": "code",
   "execution_count": 11,
   "id": "af18e613-3608-454c-8033-c7db6a1b8e26",
   "metadata": {},
   "outputs": [
    {
     "name": "stdin",
     "output_type": "stream",
     "text": [
      "bir sayı gir = 4\n",
      "bir sayı gir = 4\n"
     ]
    }
   ],
   "source": []
  },
  {
   "cell_type": "code",
   "execution_count": null,
   "id": "53d694a5-6005-4318-b62e-241817b02353",
   "metadata": {},
   "outputs": [],
   "source": []
  }
 ],
 "metadata": {
  "kernelspec": {
   "display_name": "Python 3 (ipykernel)",
   "language": "python",
   "name": "python3"
  },
  "language_info": {
   "codemirror_mode": {
    "name": "ipython",
    "version": 3
   },
   "file_extension": ".py",
   "mimetype": "text/x-python",
   "name": "python",
   "nbconvert_exporter": "python",
   "pygments_lexer": "ipython3",
   "version": "3.9.12"
  }
 },
 "nbformat": 4,
 "nbformat_minor": 5
}
